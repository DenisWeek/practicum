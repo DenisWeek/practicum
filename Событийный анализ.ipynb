{
 "cells": [
  {
   "cell_type": "markdown",
   "metadata": {},
   "source": [
    "<div style=\"border:solid Chocolate 2px; padding: 40px\">\n",
    "Денис, привет, меня зовут Станислав, и я буду проверять твой проект. Предлагаю общаться на «ты», но если это неудобно - дай знать, и мы перейдем на «вы».\n",
    "Это учебный проект и здесь не стоит бояться делать ошибки, я хочу поделиться своим опытом и помочь тебе стать аналитиком данных.\n",
    "Уже выполнена большая работа над проектом, давай сделаем его еще лучше. Ниже ты найдешь мои комментарии - пожалуйста, не перемещай, не изменяй и не удаляй их. Я буду использовать цветовую разметку:\n",
    "\n",
    "<div class=\"alert alert-danger\">\n",
    "<b>Комментарий с замечанием ревьюера:</b> Так выделены самые важные замечания. Как только ты их исправишь проект будет принят. </div>\n",
    "\n",
    "<div class=\"alert alert-warning\">\n",
    "<b>Комментарий с небольшим замечанием или советом ревьюера:</b> Так выделены небольшие замечания или советы. \n",
    "</div>\n",
    "\n",
    "<div class=\"alert alert-success\">\n",
    "<b>Комментарий с комплиментом ревьюера:</b> Так я выделяю все остальные комментарии.</div>\n",
    "\n",
    "Давай работать над проектом в диалоге: если ты что-то меняешь в проекте или отвечаешь на мои комментарии — пиши об этом.\n",
    "Мне будет легче отследить изменения, если ты выделишь свои комментарии:\n",
    "<div class=\"alert alert-info\"> <b>Комментарий студента:</b> Например, вот так.</div>\n",
    "\n",
    "Всё это поможет выполнить повторную проверку твоего проекта оперативнее.\n",
    "</div>\n"
   ]
  },
  {
   "cell_type": "markdown",
   "metadata": {},
   "source": [
    "<div style=\"border:solid Chocolate 2px; padding: 40px\">\n",
    "\n",
    "# Общий вывод ревьюера по проекту\n",
    "\n",
    "<div class=\"alert alert-success\">\n",
    "\n",
    "Проделана хорошая работа. Код написан чисто, соблюдена структура проекта и написаны выводы. Есть несколько замечаний, исправь их и проект будет принят.\n",
    "\n",
    "- по ссылкам ниже ты найдешь интересные материалы по А/В тестам\n",
    "  \n",
    "    \n",
    "https://habr.com/ru/company/avito/blog/571094/\n",
    "\n",
    "https://habr.com/ru/company/yandex/blog/476826/\n",
    "\n",
    "https://academy.yandex.ru/journal/kak-provesti-a-b-testirovanie-6-prostykh-shagov\n",
    "\n",
    "https://habr.com/ru/company/yandex/blog/342704/\n",
    "\n",
    "https://r-analytics.blogspot.com/2013/10/blog-post_13.html \n",
    "\n",
    "</div>\n",
    "\n",
    "<div class=\"alert alert-danger\">\n",
    "\n",
    "- проверь, пожалуйста, отсутствие пересечения пользователей    \n",
    "- добавь, пожалуйста, расчет доли пользователей от первого шага до оплаты\n",
    "- проанализируй и используй, пожалуйста, поправку на множественную проверку гипотез   \n",
    "- добавь, пожалуйста, формулировку гипотез\n",
    "</div>\n",
    "</div>\n",
    "\n"
   ]
  },
  {
   "cell_type": "markdown",
   "metadata": {},
   "source": [
    "<div style=\"border:solid Chocolate 2px; padding: 40px\">\n",
    "\n",
    "# Общий вывод ревьюера по проекту в2\n",
    "\n",
    "<div class=\"alert alert-success\">\n",
    "\n",
    "Отлично, замечания имправлены корректно, единственное хочу обратить внимание, что поправк расчитана не корректно, вместо 1 необходимо использовтаь общее число проверок - 17"
   ]
  },
  {
   "cell_type": "markdown",
   "metadata": {},
   "source": [
    "<div class=\"alert alert-warning\">\n",
    "<b>Комментарий с небольшим замечанием или советом ревьюера:</b>\n",
    "\n",
    "Для того, чтобы сразу понять, о чем проект, в начале лучше добавить:\n",
    "    \n",
    "- краткое описание проекта;\n",
    "\n",
    "- описание данных;\n",
    "\n",
    "- план работы;\n",
    "\n",
    "- цель проекта;\n",
    "    \n",
    "- заголовок.\n",
    "\n",
    "</div>\n"
   ]
  },
  {
   "cell_type": "code",
   "execution_count": 1,
   "metadata": {},
   "outputs": [],
   "source": [
    "import pandas as pd\n",
    "import datetime as dt\n",
    "import numpy as np\n",
    "import matplotlib.pyplot as plt\n",
    "from scipy import stats as st\n",
    "from pandas.plotting import register_matplotlib_converters\n",
    "import warnings"
   ]
  },
  {
   "cell_type": "code",
   "execution_count": 2,
   "metadata": {},
   "outputs": [],
   "source": [
    "logs_exp = pd.read_csv('/datasets/logs_exp.csv', sep='\\t')"
   ]
  },
  {
   "cell_type": "code",
   "execution_count": 3,
   "metadata": {},
   "outputs": [],
   "source": [
    "logs_exp['EventTimestamp'] = logs_exp['EventTimestamp'].astype('datetime64[s]')"
   ]
  },
  {
   "cell_type": "code",
   "execution_count": 4,
   "metadata": {},
   "outputs": [
    {
     "data": {
      "text/html": [
       "<div>\n",
       "<style scoped>\n",
       "    .dataframe tbody tr th:only-of-type {\n",
       "        vertical-align: middle;\n",
       "    }\n",
       "\n",
       "    .dataframe tbody tr th {\n",
       "        vertical-align: top;\n",
       "    }\n",
       "\n",
       "    .dataframe thead th {\n",
       "        text-align: right;\n",
       "    }\n",
       "</style>\n",
       "<table border=\"1\" class=\"dataframe\">\n",
       "  <thead>\n",
       "    <tr style=\"text-align: right;\">\n",
       "      <th></th>\n",
       "      <th>DeviceIDHash</th>\n",
       "      <th>ExpId</th>\n",
       "    </tr>\n",
       "  </thead>\n",
       "  <tbody>\n",
       "    <tr>\n",
       "      <th>count</th>\n",
       "      <td>2.441260e+05</td>\n",
       "      <td>244126.000000</td>\n",
       "    </tr>\n",
       "    <tr>\n",
       "      <th>mean</th>\n",
       "      <td>4.627568e+18</td>\n",
       "      <td>247.022296</td>\n",
       "    </tr>\n",
       "    <tr>\n",
       "      <th>std</th>\n",
       "      <td>2.642425e+18</td>\n",
       "      <td>0.824434</td>\n",
       "    </tr>\n",
       "    <tr>\n",
       "      <th>min</th>\n",
       "      <td>6.888747e+15</td>\n",
       "      <td>246.000000</td>\n",
       "    </tr>\n",
       "    <tr>\n",
       "      <th>25%</th>\n",
       "      <td>2.372212e+18</td>\n",
       "      <td>246.000000</td>\n",
       "    </tr>\n",
       "    <tr>\n",
       "      <th>50%</th>\n",
       "      <td>4.623192e+18</td>\n",
       "      <td>247.000000</td>\n",
       "    </tr>\n",
       "    <tr>\n",
       "      <th>75%</th>\n",
       "      <td>6.932517e+18</td>\n",
       "      <td>248.000000</td>\n",
       "    </tr>\n",
       "    <tr>\n",
       "      <th>max</th>\n",
       "      <td>9.222603e+18</td>\n",
       "      <td>248.000000</td>\n",
       "    </tr>\n",
       "  </tbody>\n",
       "</table>\n",
       "</div>"
      ],
      "text/plain": [
       "       DeviceIDHash          ExpId\n",
       "count  2.441260e+05  244126.000000\n",
       "mean   4.627568e+18     247.022296\n",
       "std    2.642425e+18       0.824434\n",
       "min    6.888747e+15     246.000000\n",
       "25%    2.372212e+18     246.000000\n",
       "50%    4.623192e+18     247.000000\n",
       "75%    6.932517e+18     248.000000\n",
       "max    9.222603e+18     248.000000"
      ]
     },
     "execution_count": 4,
     "metadata": {},
     "output_type": "execute_result"
    }
   ],
   "source": [
    "logs_exp.describe()"
   ]
  },
  {
   "cell_type": "code",
   "execution_count": 5,
   "metadata": {},
   "outputs": [
    {
     "data": {
      "text/plain": [
       "Index(['EventName', 'DeviceIDHash', 'EventTimestamp', 'ExpId'], dtype='object')"
      ]
     },
     "execution_count": 5,
     "metadata": {},
     "output_type": "execute_result"
    }
   ],
   "source": [
    "logs_exp.columns"
   ]
  },
  {
   "cell_type": "code",
   "execution_count": 6,
   "metadata": {},
   "outputs": [
    {
     "data": {
      "text/html": [
       "<div>\n",
       "<style scoped>\n",
       "    .dataframe tbody tr th:only-of-type {\n",
       "        vertical-align: middle;\n",
       "    }\n",
       "\n",
       "    .dataframe tbody tr th {\n",
       "        vertical-align: top;\n",
       "    }\n",
       "\n",
       "    .dataframe thead th {\n",
       "        text-align: right;\n",
       "    }\n",
       "</style>\n",
       "<table border=\"1\" class=\"dataframe\">\n",
       "  <thead>\n",
       "    <tr style=\"text-align: right;\">\n",
       "      <th></th>\n",
       "      <th>EventName</th>\n",
       "      <th>DeviceIDHash</th>\n",
       "      <th>EventTimestamp</th>\n",
       "      <th>ExpId</th>\n",
       "    </tr>\n",
       "  </thead>\n",
       "  <tbody>\n",
       "    <tr>\n",
       "      <th>0</th>\n",
       "      <td>MainScreenAppear</td>\n",
       "      <td>4575588528974610257</td>\n",
       "      <td>2019-07-25 04:43:36</td>\n",
       "      <td>246</td>\n",
       "    </tr>\n",
       "    <tr>\n",
       "      <th>1</th>\n",
       "      <td>MainScreenAppear</td>\n",
       "      <td>7416695313311560658</td>\n",
       "      <td>2019-07-25 11:11:42</td>\n",
       "      <td>246</td>\n",
       "    </tr>\n",
       "    <tr>\n",
       "      <th>2</th>\n",
       "      <td>PaymentScreenSuccessful</td>\n",
       "      <td>3518123091307005509</td>\n",
       "      <td>2019-07-25 11:28:47</td>\n",
       "      <td>248</td>\n",
       "    </tr>\n",
       "    <tr>\n",
       "      <th>3</th>\n",
       "      <td>CartScreenAppear</td>\n",
       "      <td>3518123091307005509</td>\n",
       "      <td>2019-07-25 11:28:47</td>\n",
       "      <td>248</td>\n",
       "    </tr>\n",
       "    <tr>\n",
       "      <th>4</th>\n",
       "      <td>PaymentScreenSuccessful</td>\n",
       "      <td>6217807653094995999</td>\n",
       "      <td>2019-07-25 11:48:42</td>\n",
       "      <td>248</td>\n",
       "    </tr>\n",
       "    <tr>\n",
       "      <th>5</th>\n",
       "      <td>CartScreenAppear</td>\n",
       "      <td>6217807653094995999</td>\n",
       "      <td>2019-07-25 11:48:43</td>\n",
       "      <td>248</td>\n",
       "    </tr>\n",
       "    <tr>\n",
       "      <th>6</th>\n",
       "      <td>OffersScreenAppear</td>\n",
       "      <td>8351860793733343758</td>\n",
       "      <td>2019-07-25 14:50:42</td>\n",
       "      <td>246</td>\n",
       "    </tr>\n",
       "    <tr>\n",
       "      <th>7</th>\n",
       "      <td>MainScreenAppear</td>\n",
       "      <td>5682100281902512875</td>\n",
       "      <td>2019-07-25 20:14:37</td>\n",
       "      <td>246</td>\n",
       "    </tr>\n",
       "    <tr>\n",
       "      <th>8</th>\n",
       "      <td>MainScreenAppear</td>\n",
       "      <td>1850981295691852772</td>\n",
       "      <td>2019-07-25 20:31:42</td>\n",
       "      <td>247</td>\n",
       "    </tr>\n",
       "    <tr>\n",
       "      <th>9</th>\n",
       "      <td>MainScreenAppear</td>\n",
       "      <td>5407636962369102641</td>\n",
       "      <td>2019-07-26 03:35:12</td>\n",
       "      <td>246</td>\n",
       "    </tr>\n",
       "  </tbody>\n",
       "</table>\n",
       "</div>"
      ],
      "text/plain": [
       "                 EventName         DeviceIDHash      EventTimestamp  ExpId\n",
       "0         MainScreenAppear  4575588528974610257 2019-07-25 04:43:36    246\n",
       "1         MainScreenAppear  7416695313311560658 2019-07-25 11:11:42    246\n",
       "2  PaymentScreenSuccessful  3518123091307005509 2019-07-25 11:28:47    248\n",
       "3         CartScreenAppear  3518123091307005509 2019-07-25 11:28:47    248\n",
       "4  PaymentScreenSuccessful  6217807653094995999 2019-07-25 11:48:42    248\n",
       "5         CartScreenAppear  6217807653094995999 2019-07-25 11:48:43    248\n",
       "6       OffersScreenAppear  8351860793733343758 2019-07-25 14:50:42    246\n",
       "7         MainScreenAppear  5682100281902512875 2019-07-25 20:14:37    246\n",
       "8         MainScreenAppear  1850981295691852772 2019-07-25 20:31:42    247\n",
       "9         MainScreenAppear  5407636962369102641 2019-07-26 03:35:12    246"
      ]
     },
     "execution_count": 6,
     "metadata": {},
     "output_type": "execute_result"
    }
   ],
   "source": [
    "logs_exp.head(10)"
   ]
  },
  {
   "cell_type": "code",
   "execution_count": 7,
   "metadata": {},
   "outputs": [],
   "source": [
    "logs_exp = logs_exp.rename(columns = {'EventName': 'event_name', 'DeviceIDHash': 'device_id_hash', 'EventTimestamp': 'event_timestamp', 'ExpId': 'exp_id'})"
   ]
  },
  {
   "cell_type": "code",
   "execution_count": 8,
   "metadata": {},
   "outputs": [
    {
     "name": "stdout",
     "output_type": "stream",
     "text": [
      "<class 'pandas.core.frame.DataFrame'>\n",
      "RangeIndex: 244126 entries, 0 to 244125\n",
      "Data columns (total 4 columns):\n",
      " #   Column           Non-Null Count   Dtype         \n",
      "---  ------           --------------   -----         \n",
      " 0   event_name       244126 non-null  object        \n",
      " 1   device_id_hash   244126 non-null  int64         \n",
      " 2   event_timestamp  244126 non-null  datetime64[ns]\n",
      " 3   exp_id           244126 non-null  int64         \n",
      "dtypes: datetime64[ns](1), int64(2), object(1)\n",
      "memory usage: 7.5+ MB\n"
     ]
    }
   ],
   "source": [
    "logs_exp.info()"
   ]
  },
  {
   "cell_type": "code",
   "execution_count": 9,
   "metadata": {},
   "outputs": [
    {
     "data": {
      "text/html": [
       "<style  type=\"text/css\" >\n",
       "#T_ac7e1_row0_col0,#T_ac7e1_row1_col0,#T_ac7e1_row2_col0,#T_ac7e1_row3_col0{\n",
       "            background-color:  #3b4cc0;\n",
       "            color:  #f1f1f1;\n",
       "        }</style><table id=\"T_ac7e1_\" ><thead>    <tr>        <th class=\"blank level0\" ></th>        <th class=\"col_heading level0 col0\" >0</th>    </tr></thead><tbody>\n",
       "                <tr>\n",
       "                        <th id=\"T_ac7e1_level0_row0\" class=\"row_heading level0 row0\" >event_name</th>\n",
       "                        <td id=\"T_ac7e1_row0_col0\" class=\"data row0 col0\" >0.000000</td>\n",
       "            </tr>\n",
       "            <tr>\n",
       "                        <th id=\"T_ac7e1_level0_row1\" class=\"row_heading level0 row1\" >device_id_hash</th>\n",
       "                        <td id=\"T_ac7e1_row1_col0\" class=\"data row1 col0\" >0.000000</td>\n",
       "            </tr>\n",
       "            <tr>\n",
       "                        <th id=\"T_ac7e1_level0_row2\" class=\"row_heading level0 row2\" >event_timestamp</th>\n",
       "                        <td id=\"T_ac7e1_row2_col0\" class=\"data row2 col0\" >0.000000</td>\n",
       "            </tr>\n",
       "            <tr>\n",
       "                        <th id=\"T_ac7e1_level0_row3\" class=\"row_heading level0 row3\" >exp_id</th>\n",
       "                        <td id=\"T_ac7e1_row3_col0\" class=\"data row3 col0\" >0.000000</td>\n",
       "            </tr>\n",
       "    </tbody></table>"
      ],
      "text/plain": [
       "<pandas.io.formats.style.Styler at 0x7fd4911d8c70>"
      ]
     },
     "execution_count": 9,
     "metadata": {},
     "output_type": "execute_result"
    }
   ],
   "source": [
    "pd.DataFrame(round(logs_exp.isna().mean()*100,1)).style.background_gradient('coolwarm')"
   ]
  },
  {
   "cell_type": "code",
   "execution_count": 10,
   "metadata": {},
   "outputs": [
    {
     "data": {
      "text/plain": [
       "413"
      ]
     },
     "execution_count": 10,
     "metadata": {},
     "output_type": "execute_result"
    }
   ],
   "source": [
    "logs_exp.duplicated().sum()"
   ]
  },
  {
   "cell_type": "code",
   "execution_count": 11,
   "metadata": {},
   "outputs": [
    {
     "data": {
      "text/plain": [
       "0         False\n",
       "1         False\n",
       "2         False\n",
       "3         False\n",
       "4         False\n",
       "          ...  \n",
       "244121    False\n",
       "244122    False\n",
       "244123    False\n",
       "244124    False\n",
       "244125    False\n",
       "Length: 244126, dtype: bool"
      ]
     },
     "execution_count": 11,
     "metadata": {},
     "output_type": "execute_result"
    }
   ],
   "source": [
    "logs_exp.duplicated()"
   ]
  },
  {
   "cell_type": "code",
   "execution_count": 12,
   "metadata": {},
   "outputs": [
    {
     "data": {
      "text/html": [
       "<div>\n",
       "<style scoped>\n",
       "    .dataframe tbody tr th:only-of-type {\n",
       "        vertical-align: middle;\n",
       "    }\n",
       "\n",
       "    .dataframe tbody tr th {\n",
       "        vertical-align: top;\n",
       "    }\n",
       "\n",
       "    .dataframe thead th {\n",
       "        text-align: right;\n",
       "    }\n",
       "</style>\n",
       "<table border=\"1\" class=\"dataframe\">\n",
       "  <thead>\n",
       "    <tr style=\"text-align: right;\">\n",
       "      <th></th>\n",
       "      <th>event_name</th>\n",
       "      <th>device_id_hash</th>\n",
       "      <th>event_timestamp</th>\n",
       "      <th>exp_id</th>\n",
       "    </tr>\n",
       "  </thead>\n",
       "  <tbody>\n",
       "    <tr>\n",
       "      <th>453</th>\n",
       "      <td>MainScreenAppear</td>\n",
       "      <td>5613408041324010552</td>\n",
       "      <td>2019-07-30 08:19:44</td>\n",
       "      <td>248</td>\n",
       "    </tr>\n",
       "    <tr>\n",
       "      <th>2350</th>\n",
       "      <td>CartScreenAppear</td>\n",
       "      <td>1694940645335807244</td>\n",
       "      <td>2019-07-31 21:51:39</td>\n",
       "      <td>248</td>\n",
       "    </tr>\n",
       "    <tr>\n",
       "      <th>3573</th>\n",
       "      <td>MainScreenAppear</td>\n",
       "      <td>434103746454591587</td>\n",
       "      <td>2019-08-01 02:59:37</td>\n",
       "      <td>248</td>\n",
       "    </tr>\n",
       "    <tr>\n",
       "      <th>4076</th>\n",
       "      <td>MainScreenAppear</td>\n",
       "      <td>3761373764179762633</td>\n",
       "      <td>2019-08-01 03:47:46</td>\n",
       "      <td>247</td>\n",
       "    </tr>\n",
       "    <tr>\n",
       "      <th>4803</th>\n",
       "      <td>MainScreenAppear</td>\n",
       "      <td>2835328739789306622</td>\n",
       "      <td>2019-08-01 04:44:01</td>\n",
       "      <td>248</td>\n",
       "    </tr>\n",
       "    <tr>\n",
       "      <th>...</th>\n",
       "      <td>...</td>\n",
       "      <td>...</td>\n",
       "      <td>...</td>\n",
       "      <td>...</td>\n",
       "    </tr>\n",
       "    <tr>\n",
       "      <th>242329</th>\n",
       "      <td>MainScreenAppear</td>\n",
       "      <td>8870358373313968633</td>\n",
       "      <td>2019-08-07 19:26:44</td>\n",
       "      <td>247</td>\n",
       "    </tr>\n",
       "    <tr>\n",
       "      <th>242332</th>\n",
       "      <td>PaymentScreenSuccessful</td>\n",
       "      <td>4718002964983105693</td>\n",
       "      <td>2019-08-07 19:26:45</td>\n",
       "      <td>247</td>\n",
       "    </tr>\n",
       "    <tr>\n",
       "      <th>242360</th>\n",
       "      <td>PaymentScreenSuccessful</td>\n",
       "      <td>2382591782303281935</td>\n",
       "      <td>2019-08-07 19:27:29</td>\n",
       "      <td>246</td>\n",
       "    </tr>\n",
       "    <tr>\n",
       "      <th>242362</th>\n",
       "      <td>CartScreenAppear</td>\n",
       "      <td>2382591782303281935</td>\n",
       "      <td>2019-08-07 19:27:29</td>\n",
       "      <td>246</td>\n",
       "    </tr>\n",
       "    <tr>\n",
       "      <th>242635</th>\n",
       "      <td>MainScreenAppear</td>\n",
       "      <td>4097782667445790512</td>\n",
       "      <td>2019-08-07 19:36:58</td>\n",
       "      <td>246</td>\n",
       "    </tr>\n",
       "  </tbody>\n",
       "</table>\n",
       "<p>413 rows × 4 columns</p>\n",
       "</div>"
      ],
      "text/plain": [
       "                     event_name       device_id_hash     event_timestamp  \\\n",
       "453            MainScreenAppear  5613408041324010552 2019-07-30 08:19:44   \n",
       "2350           CartScreenAppear  1694940645335807244 2019-07-31 21:51:39   \n",
       "3573           MainScreenAppear   434103746454591587 2019-08-01 02:59:37   \n",
       "4076           MainScreenAppear  3761373764179762633 2019-08-01 03:47:46   \n",
       "4803           MainScreenAppear  2835328739789306622 2019-08-01 04:44:01   \n",
       "...                         ...                  ...                 ...   \n",
       "242329         MainScreenAppear  8870358373313968633 2019-08-07 19:26:44   \n",
       "242332  PaymentScreenSuccessful  4718002964983105693 2019-08-07 19:26:45   \n",
       "242360  PaymentScreenSuccessful  2382591782303281935 2019-08-07 19:27:29   \n",
       "242362         CartScreenAppear  2382591782303281935 2019-08-07 19:27:29   \n",
       "242635         MainScreenAppear  4097782667445790512 2019-08-07 19:36:58   \n",
       "\n",
       "        exp_id  \n",
       "453        248  \n",
       "2350       248  \n",
       "3573       248  \n",
       "4076       247  \n",
       "4803       248  \n",
       "...        ...  \n",
       "242329     247  \n",
       "242332     247  \n",
       "242360     246  \n",
       "242362     246  \n",
       "242635     246  \n",
       "\n",
       "[413 rows x 4 columns]"
      ]
     },
     "execution_count": 12,
     "metadata": {},
     "output_type": "execute_result"
    }
   ],
   "source": [
    "logs_exp[logs_exp.duplicated()]"
   ]
  },
  {
   "cell_type": "markdown",
   "metadata": {},
   "source": [
    "<div class=\"alert alert-warning\">\n",
    "<b>Комментарий с советом ревьюера:</b> \n",
    "    \n",
    "Для понимания того, какую часть составляют дубликаты и какой объем ты удаляешь, лучше дополнительно посчитать долю.\n",
    " </div>\n"
   ]
  },
  {
   "cell_type": "code",
   "execution_count": 13,
   "metadata": {},
   "outputs": [],
   "source": [
    "logs_exp = logs_exp.drop_duplicates()"
   ]
  },
  {
   "cell_type": "code",
   "execution_count": 14,
   "metadata": {},
   "outputs": [
    {
     "name": "stdout",
     "output_type": "stream",
     "text": [
      "<class 'pandas.core.frame.DataFrame'>\n",
      "Int64Index: 243713 entries, 0 to 244125\n",
      "Data columns (total 4 columns):\n",
      " #   Column           Non-Null Count   Dtype         \n",
      "---  ------           --------------   -----         \n",
      " 0   event_name       243713 non-null  object        \n",
      " 1   device_id_hash   243713 non-null  int64         \n",
      " 2   event_timestamp  243713 non-null  datetime64[ns]\n",
      " 3   exp_id           243713 non-null  int64         \n",
      "dtypes: datetime64[ns](1), int64(2), object(1)\n",
      "memory usage: 9.3+ MB\n"
     ]
    }
   ],
   "source": [
    "logs_exp.info()"
   ]
  },
  {
   "cell_type": "code",
   "execution_count": 15,
   "metadata": {},
   "outputs": [],
   "source": [
    "logs_exp['event_date'] = pd.to_datetime(logs_exp['event_timestamp']).dt.date"
   ]
  },
  {
   "cell_type": "code",
   "execution_count": 16,
   "metadata": {},
   "outputs": [
    {
     "data": {
      "text/html": [
       "<div>\n",
       "<style scoped>\n",
       "    .dataframe tbody tr th:only-of-type {\n",
       "        vertical-align: middle;\n",
       "    }\n",
       "\n",
       "    .dataframe tbody tr th {\n",
       "        vertical-align: top;\n",
       "    }\n",
       "\n",
       "    .dataframe thead th {\n",
       "        text-align: right;\n",
       "    }\n",
       "</style>\n",
       "<table border=\"1\" class=\"dataframe\">\n",
       "  <thead>\n",
       "    <tr style=\"text-align: right;\">\n",
       "      <th></th>\n",
       "      <th>event_name</th>\n",
       "      <th>device_id_hash</th>\n",
       "      <th>event_timestamp</th>\n",
       "      <th>exp_id</th>\n",
       "      <th>event_date</th>\n",
       "    </tr>\n",
       "  </thead>\n",
       "  <tbody>\n",
       "    <tr>\n",
       "      <th>0</th>\n",
       "      <td>MainScreenAppear</td>\n",
       "      <td>4575588528974610257</td>\n",
       "      <td>2019-07-25 04:43:36</td>\n",
       "      <td>246</td>\n",
       "      <td>2019-07-25</td>\n",
       "    </tr>\n",
       "    <tr>\n",
       "      <th>1</th>\n",
       "      <td>MainScreenAppear</td>\n",
       "      <td>7416695313311560658</td>\n",
       "      <td>2019-07-25 11:11:42</td>\n",
       "      <td>246</td>\n",
       "      <td>2019-07-25</td>\n",
       "    </tr>\n",
       "    <tr>\n",
       "      <th>2</th>\n",
       "      <td>PaymentScreenSuccessful</td>\n",
       "      <td>3518123091307005509</td>\n",
       "      <td>2019-07-25 11:28:47</td>\n",
       "      <td>248</td>\n",
       "      <td>2019-07-25</td>\n",
       "    </tr>\n",
       "    <tr>\n",
       "      <th>3</th>\n",
       "      <td>CartScreenAppear</td>\n",
       "      <td>3518123091307005509</td>\n",
       "      <td>2019-07-25 11:28:47</td>\n",
       "      <td>248</td>\n",
       "      <td>2019-07-25</td>\n",
       "    </tr>\n",
       "    <tr>\n",
       "      <th>4</th>\n",
       "      <td>PaymentScreenSuccessful</td>\n",
       "      <td>6217807653094995999</td>\n",
       "      <td>2019-07-25 11:48:42</td>\n",
       "      <td>248</td>\n",
       "      <td>2019-07-25</td>\n",
       "    </tr>\n",
       "    <tr>\n",
       "      <th>5</th>\n",
       "      <td>CartScreenAppear</td>\n",
       "      <td>6217807653094995999</td>\n",
       "      <td>2019-07-25 11:48:43</td>\n",
       "      <td>248</td>\n",
       "      <td>2019-07-25</td>\n",
       "    </tr>\n",
       "    <tr>\n",
       "      <th>6</th>\n",
       "      <td>OffersScreenAppear</td>\n",
       "      <td>8351860793733343758</td>\n",
       "      <td>2019-07-25 14:50:42</td>\n",
       "      <td>246</td>\n",
       "      <td>2019-07-25</td>\n",
       "    </tr>\n",
       "    <tr>\n",
       "      <th>7</th>\n",
       "      <td>MainScreenAppear</td>\n",
       "      <td>5682100281902512875</td>\n",
       "      <td>2019-07-25 20:14:37</td>\n",
       "      <td>246</td>\n",
       "      <td>2019-07-25</td>\n",
       "    </tr>\n",
       "    <tr>\n",
       "      <th>8</th>\n",
       "      <td>MainScreenAppear</td>\n",
       "      <td>1850981295691852772</td>\n",
       "      <td>2019-07-25 20:31:42</td>\n",
       "      <td>247</td>\n",
       "      <td>2019-07-25</td>\n",
       "    </tr>\n",
       "    <tr>\n",
       "      <th>9</th>\n",
       "      <td>MainScreenAppear</td>\n",
       "      <td>5407636962369102641</td>\n",
       "      <td>2019-07-26 03:35:12</td>\n",
       "      <td>246</td>\n",
       "      <td>2019-07-26</td>\n",
       "    </tr>\n",
       "  </tbody>\n",
       "</table>\n",
       "</div>"
      ],
      "text/plain": [
       "                event_name       device_id_hash     event_timestamp  exp_id  \\\n",
       "0         MainScreenAppear  4575588528974610257 2019-07-25 04:43:36     246   \n",
       "1         MainScreenAppear  7416695313311560658 2019-07-25 11:11:42     246   \n",
       "2  PaymentScreenSuccessful  3518123091307005509 2019-07-25 11:28:47     248   \n",
       "3         CartScreenAppear  3518123091307005509 2019-07-25 11:28:47     248   \n",
       "4  PaymentScreenSuccessful  6217807653094995999 2019-07-25 11:48:42     248   \n",
       "5         CartScreenAppear  6217807653094995999 2019-07-25 11:48:43     248   \n",
       "6       OffersScreenAppear  8351860793733343758 2019-07-25 14:50:42     246   \n",
       "7         MainScreenAppear  5682100281902512875 2019-07-25 20:14:37     246   \n",
       "8         MainScreenAppear  1850981295691852772 2019-07-25 20:31:42     247   \n",
       "9         MainScreenAppear  5407636962369102641 2019-07-26 03:35:12     246   \n",
       "\n",
       "   event_date  \n",
       "0  2019-07-25  \n",
       "1  2019-07-25  \n",
       "2  2019-07-25  \n",
       "3  2019-07-25  \n",
       "4  2019-07-25  \n",
       "5  2019-07-25  \n",
       "6  2019-07-25  \n",
       "7  2019-07-25  \n",
       "8  2019-07-25  \n",
       "9  2019-07-26  "
      ]
     },
     "execution_count": 16,
     "metadata": {},
     "output_type": "execute_result"
    }
   ],
   "source": [
    "logs_exp.head(10)"
   ]
  },
  {
   "cell_type": "markdown",
   "metadata": {},
   "source": [
    "Изучен полученный файл, приведен к формату времени и даты столбец \"EventTimestamp\", проверено наличие пропусков, удалены дубликаты, добавлен. столбец с датой."
   ]
  },
  {
   "cell_type": "markdown",
   "metadata": {},
   "source": [
    "<div class=\"alert alert-success\">\n",
    "<b>Комментарий с комплиментом ревьюера:</b> \n",
    "\n",
    "    \n",
    "Данные подготовлены верно, молодец. 👍\n",
    "\n",
    "Молодец, что используешь метод info() для изучения данных, корректируешь типы данных, проверяешь на дубликаты и корректно переименовываешь названия столбцов.</div>\n"
   ]
  },
  {
   "cell_type": "markdown",
   "metadata": {},
   "source": [
    "<div class=\"alert alert-danger\">\n",
    "<b>Комментарий с замечанием ревьюера:</b> \n",
    "    \n",
    "Для корректного проведения A/B-тестирования необходимо, чтобы пользователи в группах не пересекались, т.е. не должно возникать такого, что один пользователь оказался сразу в двух или тем более трех группах. Поэтому стоит на данном этапе также проверить __отсутствие пересечения пользователей в группах__.\n",
    " </div>\n"
   ]
  },
  {
   "cell_type": "code",
   "execution_count": 17,
   "metadata": {},
   "outputs": [
    {
     "data": {
      "text/plain": [
       "0"
      ]
     },
     "execution_count": 17,
     "metadata": {},
     "output_type": "execute_result"
    }
   ],
   "source": [
    "# Число пользователей, находящихся в более чем одной группе.\n",
    "sum(logs_exp.groupby('device_id_hash').exp_id.nunique() > 1)"
   ]
  },
  {
   "cell_type": "markdown",
   "metadata": {},
   "source": [
    "Пересечения пользователей в группах отсутствует"
   ]
  },
  {
   "cell_type": "markdown",
   "metadata": {},
   "source": [
    "<div class=\"alert alert-info\"> <b>Комментарий студента:</b> Проверено отсутствие пересечений в группах</div>"
   ]
  },
  {
   "cell_type": "markdown",
   "metadata": {},
   "source": [
    "<div class=\"alert alert-success\">\n",
    "<b>Комментарий с комплиментом ревьюера в2:</b> \n",
    "\n",
    "    \n",
    "Верно"
   ]
  },
  {
   "cell_type": "code",
   "execution_count": 18,
   "metadata": {},
   "outputs": [
    {
     "data": {
      "text/plain": [
       "array(['MainScreenAppear', 'PaymentScreenSuccessful', 'CartScreenAppear',\n",
       "       'OffersScreenAppear', 'Tutorial'], dtype=object)"
      ]
     },
     "execution_count": 18,
     "metadata": {},
     "output_type": "execute_result"
    }
   ],
   "source": [
    "logs_exp['event_name'].unique()"
   ]
  },
  {
   "cell_type": "code",
   "execution_count": 19,
   "metadata": {},
   "outputs": [
    {
     "data": {
      "text/plain": [
       "5"
      ]
     },
     "execution_count": 19,
     "metadata": {},
     "output_type": "execute_result"
    }
   ],
   "source": [
    "logs_exp['event_name'].unique().shape[0]"
   ]
  },
  {
   "cell_type": "code",
   "execution_count": 20,
   "metadata": {},
   "outputs": [
    {
     "data": {
      "text/plain": [
       "243713"
      ]
     },
     "execution_count": 20,
     "metadata": {},
     "output_type": "execute_result"
    }
   ],
   "source": [
    "num_events = logs_exp.shape[0]\n",
    "num_events"
   ]
  },
  {
   "cell_type": "markdown",
   "metadata": {},
   "source": [
    "В логе 5 уникальных типов событий, общее количество событий 243713."
   ]
  },
  {
   "cell_type": "code",
   "execution_count": 21,
   "metadata": {},
   "outputs": [
    {
     "data": {
      "text/plain": [
       "7551"
      ]
     },
     "execution_count": 21,
     "metadata": {},
     "output_type": "execute_result"
    }
   ],
   "source": [
    "num_users = logs_exp['device_id_hash'].unique().shape[0]\n",
    "num_users"
   ]
  },
  {
   "cell_type": "markdown",
   "metadata": {},
   "source": [
    "В логе 7551 пользователь."
   ]
  },
  {
   "cell_type": "code",
   "execution_count": 22,
   "metadata": {},
   "outputs": [
    {
     "data": {
      "text/plain": [
       "32"
      ]
     },
     "execution_count": 22,
     "metadata": {},
     "output_type": "execute_result"
    }
   ],
   "source": [
    "events_per_user = round(num_events / num_users)\n",
    "events_per_user"
   ]
  },
  {
   "cell_type": "markdown",
   "metadata": {},
   "source": [
    "В среднем на пользователя приходится 32 события."
   ]
  },
  {
   "cell_type": "markdown",
   "metadata": {},
   "source": [
    "\n",
    "<div class=\"alert alert-warning\">\n",
    "<b>Комментарий с советом или небольшим замечанием ревьюера:</b>\n",
    "\n",
    "Когда нас просят взглянуть на среднее значение, для начала важно определить, есть ли в данных выбросы. В случае присутствия выбросов лучше использовать медиану, чем среднее, поскольку выбросы на нее не влияют. Для того, чтобы определить есть ли в данных выбросы или нет, необходимо сгруппировать по пользователям, посчитать количество событие на пользователя и по этим данным построить график box plot и посмотреть распределение или использовать метод describe(). \n",
    " </div>\n"
   ]
  },
  {
   "cell_type": "code",
   "execution_count": 23,
   "metadata": {},
   "outputs": [
    {
     "data": {
      "text/plain": [
       "(datetime.date(2019, 7, 25), datetime.date(2019, 8, 7))"
      ]
     },
     "execution_count": 23,
     "metadata": {},
     "output_type": "execute_result"
    }
   ],
   "source": [
    "max_date = max(logs_exp['event_date'])\n",
    "min_date = min(logs_exp['event_date'])\n",
    "(min_date, max_date)"
   ]
  },
  {
   "cell_type": "code",
   "execution_count": 24,
   "metadata": {},
   "outputs": [
    {
     "data": {
      "text/plain": [
       "datetime.timedelta(days=13)"
      ]
     },
     "execution_count": 24,
     "metadata": {},
     "output_type": "execute_result"
    }
   ],
   "source": [
    "period = max_date - min_date\n",
    "period"
   ]
  },
  {
   "cell_type": "markdown",
   "metadata": {},
   "source": [
    "Мы располагаем данными за 13 дней с 25 июля 2019г. по 7 августа 2019г."
   ]
  },
  {
   "cell_type": "code",
   "execution_count": 25,
   "metadata": {},
   "outputs": [
    {
     "data": {
      "image/png": "[encoded data removed]",
      "text/plain": [
       "<Figure size 432x288 with 1 Axes>"
      ]
     },
     "metadata": {
      "needs_background": "light"
     },
     "output_type": "display_data"
    }
   ],
   "source": [
    "logs_exp['event_timestamp'].hist(bins=20)\n",
    "plt.xticks(rotation=45)\n",
    "plt.xlabel('Дата')\n",
    "plt.ylabel('Количество')\n",
    "plt.title('Количество событий по дням')\n",
    "plt.show()"
   ]
  },
  {
   "cell_type": "code",
   "execution_count": 26,
   "metadata": {},
   "outputs": [
    {
     "data": {
      "text/plain": [
       "2019-08-01    36141\n",
       "2019-08-05    36058\n",
       "2019-08-06    35788\n",
       "2019-08-02    35554\n",
       "2019-08-03    33282\n",
       "2019-08-04    32968\n",
       "2019-08-07    31096\n",
       "2019-07-31     2030\n",
       "2019-07-30      412\n",
       "2019-07-29      184\n",
       "2019-07-28      105\n",
       "2019-07-27       55\n",
       "2019-07-26       31\n",
       "2019-07-25        9\n",
       "Name: event_date, dtype: int64"
      ]
     },
     "execution_count": 26,
     "metadata": {},
     "output_type": "execute_result"
    }
   ],
   "source": [
    "logs_exp['event_date'].value_counts()"
   ]
  },
  {
   "cell_type": "markdown",
   "metadata": {},
   "source": [
    "Логично предположить, что по количеству событий наиболее полные данные у нас 1 по 7 августа 2019г."
   ]
  },
  {
   "cell_type": "code",
   "execution_count": 27,
   "metadata": {},
   "outputs": [
    {
     "data": {
      "text/html": [
       "<div>\n",
       "<style scoped>\n",
       "    .dataframe tbody tr th:only-of-type {\n",
       "        vertical-align: middle;\n",
       "    }\n",
       "\n",
       "    .dataframe tbody tr th {\n",
       "        vertical-align: top;\n",
       "    }\n",
       "\n",
       "    .dataframe thead th {\n",
       "        text-align: right;\n",
       "    }\n",
       "</style>\n",
       "<table border=\"1\" class=\"dataframe\">\n",
       "  <thead>\n",
       "    <tr style=\"text-align: right;\">\n",
       "      <th></th>\n",
       "      <th>event_name</th>\n",
       "      <th>device_id_hash</th>\n",
       "      <th>event_timestamp</th>\n",
       "      <th>exp_id</th>\n",
       "      <th>event_date</th>\n",
       "    </tr>\n",
       "  </thead>\n",
       "  <tbody>\n",
       "    <tr>\n",
       "      <th>2828</th>\n",
       "      <td>Tutorial</td>\n",
       "      <td>3737462046622621720</td>\n",
       "      <td>2019-08-01 00:07:28</td>\n",
       "      <td>246</td>\n",
       "      <td>2019-08-01</td>\n",
       "    </tr>\n",
       "    <tr>\n",
       "      <th>2829</th>\n",
       "      <td>MainScreenAppear</td>\n",
       "      <td>3737462046622621720</td>\n",
       "      <td>2019-08-01 00:08:00</td>\n",
       "      <td>246</td>\n",
       "      <td>2019-08-01</td>\n",
       "    </tr>\n",
       "    <tr>\n",
       "      <th>2830</th>\n",
       "      <td>MainScreenAppear</td>\n",
       "      <td>3737462046622621720</td>\n",
       "      <td>2019-08-01 00:08:55</td>\n",
       "      <td>246</td>\n",
       "      <td>2019-08-01</td>\n",
       "    </tr>\n",
       "    <tr>\n",
       "      <th>2831</th>\n",
       "      <td>OffersScreenAppear</td>\n",
       "      <td>3737462046622621720</td>\n",
       "      <td>2019-08-01 00:08:58</td>\n",
       "      <td>246</td>\n",
       "      <td>2019-08-01</td>\n",
       "    </tr>\n",
       "    <tr>\n",
       "      <th>2832</th>\n",
       "      <td>MainScreenAppear</td>\n",
       "      <td>1433840883824088890</td>\n",
       "      <td>2019-08-01 00:08:59</td>\n",
       "      <td>247</td>\n",
       "      <td>2019-08-01</td>\n",
       "    </tr>\n",
       "    <tr>\n",
       "      <th>...</th>\n",
       "      <td>...</td>\n",
       "      <td>...</td>\n",
       "      <td>...</td>\n",
       "      <td>...</td>\n",
       "      <td>...</td>\n",
       "    </tr>\n",
       "    <tr>\n",
       "      <th>244121</th>\n",
       "      <td>MainScreenAppear</td>\n",
       "      <td>4599628364049201812</td>\n",
       "      <td>2019-08-07 21:12:25</td>\n",
       "      <td>247</td>\n",
       "      <td>2019-08-07</td>\n",
       "    </tr>\n",
       "    <tr>\n",
       "      <th>244122</th>\n",
       "      <td>MainScreenAppear</td>\n",
       "      <td>5849806612437486590</td>\n",
       "      <td>2019-08-07 21:13:59</td>\n",
       "      <td>246</td>\n",
       "      <td>2019-08-07</td>\n",
       "    </tr>\n",
       "    <tr>\n",
       "      <th>244123</th>\n",
       "      <td>MainScreenAppear</td>\n",
       "      <td>5746969938801999050</td>\n",
       "      <td>2019-08-07 21:14:43</td>\n",
       "      <td>246</td>\n",
       "      <td>2019-08-07</td>\n",
       "    </tr>\n",
       "    <tr>\n",
       "      <th>244124</th>\n",
       "      <td>MainScreenAppear</td>\n",
       "      <td>5746969938801999050</td>\n",
       "      <td>2019-08-07 21:14:58</td>\n",
       "      <td>246</td>\n",
       "      <td>2019-08-07</td>\n",
       "    </tr>\n",
       "    <tr>\n",
       "      <th>244125</th>\n",
       "      <td>OffersScreenAppear</td>\n",
       "      <td>5746969938801999050</td>\n",
       "      <td>2019-08-07 21:15:17</td>\n",
       "      <td>246</td>\n",
       "      <td>2019-08-07</td>\n",
       "    </tr>\n",
       "  </tbody>\n",
       "</table>\n",
       "<p>240887 rows × 5 columns</p>\n",
       "</div>"
      ],
      "text/plain": [
       "                event_name       device_id_hash     event_timestamp  exp_id  \\\n",
       "2828              Tutorial  3737462046622621720 2019-08-01 00:07:28     246   \n",
       "2829      MainScreenAppear  3737462046622621720 2019-08-01 00:08:00     246   \n",
       "2830      MainScreenAppear  3737462046622621720 2019-08-01 00:08:55     246   \n",
       "2831    OffersScreenAppear  3737462046622621720 2019-08-01 00:08:58     246   \n",
       "2832      MainScreenAppear  1433840883824088890 2019-08-01 00:08:59     247   \n",
       "...                    ...                  ...                 ...     ...   \n",
       "244121    MainScreenAppear  4599628364049201812 2019-08-07 21:12:25     247   \n",
       "244122    MainScreenAppear  5849806612437486590 2019-08-07 21:13:59     246   \n",
       "244123    MainScreenAppear  5746969938801999050 2019-08-07 21:14:43     246   \n",
       "244124    MainScreenAppear  5746969938801999050 2019-08-07 21:14:58     246   \n",
       "244125  OffersScreenAppear  5746969938801999050 2019-08-07 21:15:17     246   \n",
       "\n",
       "        event_date  \n",
       "2828    2019-08-01  \n",
       "2829    2019-08-01  \n",
       "2830    2019-08-01  \n",
       "2831    2019-08-01  \n",
       "2832    2019-08-01  \n",
       "...            ...  \n",
       "244121  2019-08-07  \n",
       "244122  2019-08-07  \n",
       "244123  2019-08-07  \n",
       "244124  2019-08-07  \n",
       "244125  2019-08-07  \n",
       "\n",
       "[240887 rows x 5 columns]"
      ]
     },
     "execution_count": 27,
     "metadata": {},
     "output_type": "execute_result"
    }
   ],
   "source": [
    "filtered = logs_exp.query(\"event_timestamp >= '2019-08-01'\")\n",
    "filtered"
   ]
  },
  {
   "cell_type": "markdown",
   "metadata": {},
   "source": [
    "<div class=\"alert alert-success\">\n",
    "<b>Комментарий с комплиментом ревьюера:</b>\n",
    "    \n",
    "Отлично, данные проанализированы корректно. </div>\n"
   ]
  },
  {
   "cell_type": "code",
   "execution_count": 28,
   "metadata": {},
   "outputs": [
    {
     "data": {
      "text/plain": [
       "7534"
      ]
     },
     "execution_count": 28,
     "metadata": {},
     "output_type": "execute_result"
    }
   ],
   "source": [
    "num_users_filtered = filtered['device_id_hash'].unique().shape[0]\n",
    "num_users_filtered"
   ]
  },
  {
   "cell_type": "code",
   "execution_count": 29,
   "metadata": {},
   "outputs": [
    {
     "data": {
      "text/plain": [
       "17"
      ]
     },
     "execution_count": 29,
     "metadata": {},
     "output_type": "execute_result"
    }
   ],
   "source": [
    "num_users - num_users_filtered"
   ]
  },
  {
   "cell_type": "code",
   "execution_count": 30,
   "metadata": {},
   "outputs": [
    {
     "data": {
      "text/plain": [
       "0.9977486425638988"
      ]
     },
     "execution_count": 30,
     "metadata": {},
     "output_type": "execute_result"
    }
   ],
   "source": [
    "num_users_filtered/num_users"
   ]
  },
  {
   "cell_type": "code",
   "execution_count": 31,
   "metadata": {},
   "outputs": [
    {
     "data": {
      "text/plain": [
       "240887"
      ]
     },
     "execution_count": 31,
     "metadata": {},
     "output_type": "execute_result"
    }
   ],
   "source": [
    "num_events_filtered = filtered.shape[0]\n",
    "num_events_filtered"
   ]
  },
  {
   "cell_type": "code",
   "execution_count": 32,
   "metadata": {},
   "outputs": [
    {
     "data": {
      "text/plain": [
       "2826"
      ]
     },
     "execution_count": 32,
     "metadata": {},
     "output_type": "execute_result"
    }
   ],
   "source": [
    "num_events - num_events_filtered"
   ]
  },
  {
   "cell_type": "code",
   "execution_count": 33,
   "metadata": {},
   "outputs": [
    {
     "data": {
      "text/plain": [
       "0.988404393692581"
      ]
     },
     "execution_count": 33,
     "metadata": {},
     "output_type": "execute_result"
    }
   ],
   "source": [
    "num_events_filtered/num_events"
   ]
  },
  {
   "cell_type": "markdown",
   "metadata": {},
   "source": [
    "Отбросив старые данные мы потеряли лишь 17 пользователей, что составляет менее одной сотой доли и 2826, что менее двух сотых долей, событий учитывая отношение к общему количеству пользователей и событий, существенных искажений в данных быть не должно."
   ]
  },
  {
   "cell_type": "markdown",
   "metadata": {},
   "source": [
    "<div class=\"alert alert-warning\">\n",
    "<b>Комментарий с небольшим замечанием ревьюера:</b>\n",
    "\n",
    "Напиши, пожалуйста, потери не только в абсолютных числах, но и в долях, как по количеству событий, так и по количеству уникальных пользователей.    \n",
    "</div>\n"
   ]
  },
  {
   "cell_type": "markdown",
   "metadata": {},
   "source": [
    "<div class=\"alert alert-success\">\n",
    "<b>Комментарий ревьюера в2:</b> \n",
    "\n",
    "    \n",
    "Здесь лучше анализировать не долю оставшихся данных, а долю потерянных"
   ]
  },
  {
   "cell_type": "code",
   "execution_count": 34,
   "metadata": {},
   "outputs": [
    {
     "data": {
      "text/plain": [
       "exp_id\n",
       "246    2484\n",
       "247    2513\n",
       "248    2537\n",
       "Name: device_id_hash, dtype: int64"
      ]
     },
     "execution_count": 34,
     "metadata": {},
     "output_type": "execute_result"
    }
   ],
   "source": [
    "filtered.groupby('exp_id')['device_id_hash'].nunique()"
   ]
  },
  {
   "cell_type": "markdown",
   "metadata": {},
   "source": [
    "После фильтрации у нас имеется достаточное количество пользователей всех трех групп."
   ]
  },
  {
   "cell_type": "markdown",
   "metadata": {},
   "source": [
    "<div class=\"alert alert-warning\">\n",
    "<b>Комментарий с небольшим замечанием ревьюера:</b>\n",
    "\n",
    "Выше ты рассчитал не количество пользователей по группам, а количество событий.   \n",
    "</div>\n"
   ]
  },
  {
   "cell_type": "markdown",
   "metadata": {},
   "source": [
    "<div class=\"alert alert-success\">\n",
    "<b>Комментарий с комплиментом ревьюера в2:</b> \n",
    "\n",
    "    \n",
    "Верно"
   ]
  },
  {
   "cell_type": "markdown",
   "metadata": {},
   "source": [
    "<div class=\"alert alert-warning\">\n",
    "<b>Комментарий с советом ревьюера:</b>\n",
    "\n",
    "Тут можно добавить промежуточный вывод по проделанной работе, так проект будет выглядеть значительно лучше.   \n",
    "</div>\n"
   ]
  },
  {
   "cell_type": "markdown",
   "metadata": {},
   "source": [
    "Отфильтрованы лишние данные, посчитано их количство и соотношения для понимания критичности \"потерь\". Выяснено, что они не критичны."
   ]
  },
  {
   "cell_type": "code",
   "execution_count": 35,
   "metadata": {},
   "outputs": [
    {
     "data": {
      "text/plain": [
       "MainScreenAppear           117328\n",
       "OffersScreenAppear          46333\n",
       "CartScreenAppear            42303\n",
       "PaymentScreenSuccessful     33918\n",
       "Tutorial                     1005\n",
       "Name: event_name, dtype: int64"
      ]
     },
     "execution_count": 35,
     "metadata": {},
     "output_type": "execute_result"
    }
   ],
   "source": [
    "filtered['event_name'].value_counts()"
   ]
  },
  {
   "cell_type": "markdown",
   "metadata": {},
   "source": [
    "В логах имеется 5 событий: чаще всего посещение главной страницы - 117328 раз, далее - экран предложений 46333 раза, посещение корзины - 42303 раз, страницы оплаты - 33918 и руководства - 1005 раз."
   ]
  },
  {
   "cell_type": "code",
   "execution_count": 36,
   "metadata": {},
   "outputs": [
    {
     "data": {
      "text/html": [
       "<div>\n",
       "<style scoped>\n",
       "    .dataframe tbody tr th:only-of-type {\n",
       "        vertical-align: middle;\n",
       "    }\n",
       "\n",
       "    .dataframe tbody tr th {\n",
       "        vertical-align: top;\n",
       "    }\n",
       "\n",
       "    .dataframe thead th {\n",
       "        text-align: right;\n",
       "    }\n",
       "</style>\n",
       "<table border=\"1\" class=\"dataframe\">\n",
       "  <thead>\n",
       "    <tr style=\"text-align: right;\">\n",
       "      <th></th>\n",
       "      <th>event_name</th>\n",
       "      <th>device_id_hash</th>\n",
       "      <th>share</th>\n",
       "    </tr>\n",
       "  </thead>\n",
       "  <tbody>\n",
       "    <tr>\n",
       "      <th>1</th>\n",
       "      <td>MainScreenAppear</td>\n",
       "      <td>7419</td>\n",
       "      <td>0.984736</td>\n",
       "    </tr>\n",
       "    <tr>\n",
       "      <th>2</th>\n",
       "      <td>OffersScreenAppear</td>\n",
       "      <td>4593</td>\n",
       "      <td>0.609636</td>\n",
       "    </tr>\n",
       "    <tr>\n",
       "      <th>0</th>\n",
       "      <td>CartScreenAppear</td>\n",
       "      <td>3734</td>\n",
       "      <td>0.495620</td>\n",
       "    </tr>\n",
       "    <tr>\n",
       "      <th>3</th>\n",
       "      <td>PaymentScreenSuccessful</td>\n",
       "      <td>3539</td>\n",
       "      <td>0.469737</td>\n",
       "    </tr>\n",
       "    <tr>\n",
       "      <th>4</th>\n",
       "      <td>Tutorial</td>\n",
       "      <td>840</td>\n",
       "      <td>0.111495</td>\n",
       "    </tr>\n",
       "  </tbody>\n",
       "</table>\n",
       "</div>"
      ],
      "text/plain": [
       "                event_name  device_id_hash     share\n",
       "1         MainScreenAppear            7419  0.984736\n",
       "2       OffersScreenAppear            4593  0.609636\n",
       "0         CartScreenAppear            3734  0.495620\n",
       "3  PaymentScreenSuccessful            3539  0.469737\n",
       "4                 Tutorial             840  0.111495"
      ]
     },
     "execution_count": 36,
     "metadata": {},
     "output_type": "execute_result"
    }
   ],
   "source": [
    "user_on_events = filtered.groupby('event_name')['device_id_hash'].nunique().reset_index().sort_values('device_id_hash', ascending=False)\n",
    "user_on_events['share'] = user_on_events['device_id_hash']/filtered['device_id_hash'].nunique()\n",
    "user_on_events"
   ]
  },
  {
   "cell_type": "markdown",
   "metadata": {},
   "source": [
    "Первым идет событие MainScreenAppear (отображение главного экрана), затем OffersScreenAppear (отображения предложений для пользователя), потом CartScreenAppear (отображение корзины) и наконец PaymentScreenSuccessful (отображение успешной оплаты). Событие Tutorial (руководство) не укладывается в данную цепочку, поэтому не будет рассмотрено в дальнейшем."
   ]
  },
  {
   "cell_type": "code",
   "execution_count": 37,
   "metadata": {},
   "outputs": [],
   "source": [
    "user_on_events = user_on_events[user_on_events.event_name != 'Tutorial']"
   ]
  },
  {
   "cell_type": "markdown",
   "metadata": {},
   "source": [
    "<div class=\"alert alert-success\">\n",
    "<b>Комментарий с комплиментом ревьюера:</b>\n",
    "    \n",
    "Доля пользователей, которые совершали каждое из этих событий посчитана правильно. \n",
    "\n",
    "Верно, что исключено событие Tutorial, его нельзя встроить в воронку. 👍\n",
    "</div>\n"
   ]
  },
  {
   "cell_type": "code",
   "execution_count": 38,
   "metadata": {},
   "outputs": [
    {
     "data": {
      "text/html": [
       "<div>\n",
       "<style scoped>\n",
       "    .dataframe tbody tr th:only-of-type {\n",
       "        vertical-align: middle;\n",
       "    }\n",
       "\n",
       "    .dataframe tbody tr th {\n",
       "        vertical-align: top;\n",
       "    }\n",
       "\n",
       "    .dataframe thead th {\n",
       "        text-align: right;\n",
       "    }\n",
       "</style>\n",
       "<table border=\"1\" class=\"dataframe\">\n",
       "  <thead>\n",
       "    <tr style=\"text-align: right;\">\n",
       "      <th></th>\n",
       "      <th>event_name</th>\n",
       "      <th>device_id_hash</th>\n",
       "      <th>share_from_prev_step</th>\n",
       "    </tr>\n",
       "  </thead>\n",
       "  <tbody>\n",
       "    <tr>\n",
       "      <th>1</th>\n",
       "      <td>MainScreenAppear</td>\n",
       "      <td>7419</td>\n",
       "      <td>NaN</td>\n",
       "    </tr>\n",
       "    <tr>\n",
       "      <th>2</th>\n",
       "      <td>OffersScreenAppear</td>\n",
       "      <td>4593</td>\n",
       "      <td>0.619086</td>\n",
       "    </tr>\n",
       "    <tr>\n",
       "      <th>0</th>\n",
       "      <td>CartScreenAppear</td>\n",
       "      <td>3734</td>\n",
       "      <td>0.812976</td>\n",
       "    </tr>\n",
       "    <tr>\n",
       "      <th>3</th>\n",
       "      <td>PaymentScreenSuccessful</td>\n",
       "      <td>3539</td>\n",
       "      <td>0.947777</td>\n",
       "    </tr>\n",
       "  </tbody>\n",
       "</table>\n",
       "</div>"
      ],
      "text/plain": [
       "                event_name  device_id_hash  share_from_prev_step\n",
       "1         MainScreenAppear            7419                   NaN\n",
       "2       OffersScreenAppear            4593              0.619086\n",
       "0         CartScreenAppear            3734              0.812976\n",
       "3  PaymentScreenSuccessful            3539              0.947777"
      ]
     },
     "execution_count": 38,
     "metadata": {},
     "output_type": "execute_result"
    }
   ],
   "source": [
    "user_on_events_prev = user_on_events.loc[:, ('event_name', 'device_id_hash')]\n",
    "user_on_events_prev['share_from_prev_step'] = user_on_events_prev.device_id_hash / user_on_events_prev.device_id_hash.shift(1)\n",
    "user_on_events_prev"
   ]
  },
  {
   "cell_type": "markdown",
   "metadata": {},
   "source": [
    "<div class=\"alert alert-success\">\n",
    "<b>Комментарий с комплиментом ревьюера:</b>\n",
    "    \n",
    "Доля пользователей, которые проходят на следующий шаг воронки посчитана правильно.\n"
   ]
  },
  {
   "cell_type": "markdown",
   "metadata": {},
   "source": [
    "По рассчитанным долям пользователей на данном шаге по отношению к предыдущему шагу можно сделать вывод, что большая часть пользователей \"теряется\" при переходес шага MainScreenAppear (отображение главного экрана) на шаг OffersScreenAppear (отображения предложений для пользователя)."
   ]
  },
  {
   "cell_type": "markdown",
   "metadata": {},
   "source": [
    "<div class=\"alert alert-danger\">\n",
    "<b>Комментарий с замечанием ревьюера:</b>\n",
    "\n",
    "Добавь, пожалуйста, расчет доли пользователей от первого шага до оплаты."
   ]
  },
  {
   "cell_type": "code",
   "execution_count": 39,
   "metadata": {},
   "outputs": [
    {
     "data": {
      "text/plain": [
       "0.47701846610055265"
      ]
     },
     "execution_count": 39,
     "metadata": {},
     "output_type": "execute_result"
    }
   ],
   "source": [
    "# Доля пользователей, дошедших до успешной оплаты, от пользователей, зашедших на главный экран.\n",
    "user_on_events_prev.loc[3, 'device_id_hash'] / user_on_events_prev.loc[1, 'device_id_hash']"
   ]
  },
  {
   "cell_type": "markdown",
   "metadata": {},
   "source": [
    "Доля пользователей, дошедших до успешной оплаты, от пользователей, зашедших на главный экран равна 0.48"
   ]
  },
  {
   "cell_type": "markdown",
   "metadata": {},
   "source": [
    "<div class=\"alert alert-info\"> <b>Комментарий студента:</b> Добавлен расчет доли пользователей от первого шага до оплаты.</div>"
   ]
  },
  {
   "cell_type": "markdown",
   "metadata": {},
   "source": [
    "<div class=\"alert alert-success\">\n",
    "<b>Комментарий с комплиментом ревьюера в2:</b> \n",
    "\n",
    "    \n",
    "Верно"
   ]
  },
  {
   "cell_type": "code",
   "execution_count": 40,
   "metadata": {},
   "outputs": [
    {
     "data": {
      "text/plain": [
       "248    84213\n",
       "246    78985\n",
       "247    76684\n",
       "Name: exp_id, dtype: int64"
      ]
     },
     "execution_count": 40,
     "metadata": {},
     "output_type": "execute_result"
    }
   ],
   "source": [
    "filtered = filtered[filtered.event_name != 'Tutorial']\n",
    "filtered.exp_id.value_counts()"
   ]
  },
  {
   "cell_type": "markdown",
   "metadata": {},
   "source": [
    "В экспериментальной группе 84213 человека, в контрольных - 78985 и 76684"
   ]
  },
  {
   "cell_type": "code",
   "execution_count": 41,
   "metadata": {},
   "outputs": [
    {
     "data": {
      "text/html": [
       "<div>\n",
       "<style scoped>\n",
       "    .dataframe tbody tr th:only-of-type {\n",
       "        vertical-align: middle;\n",
       "    }\n",
       "\n",
       "    .dataframe tbody tr th {\n",
       "        vertical-align: top;\n",
       "    }\n",
       "\n",
       "    .dataframe thead th {\n",
       "        text-align: right;\n",
       "    }\n",
       "</style>\n",
       "<table border=\"1\" class=\"dataframe\">\n",
       "  <thead>\n",
       "    <tr style=\"text-align: right;\">\n",
       "      <th></th>\n",
       "      <th>event_name</th>\n",
       "      <th>device_id_hash</th>\n",
       "      <th>share</th>\n",
       "    </tr>\n",
       "  </thead>\n",
       "  <tbody>\n",
       "    <tr>\n",
       "      <th>0</th>\n",
       "      <td>CartScreenAppear</td>\n",
       "      <td>1266</td>\n",
       "      <td>0.196036</td>\n",
       "    </tr>\n",
       "    <tr>\n",
       "      <th>1</th>\n",
       "      <td>MainScreenAppear</td>\n",
       "      <td>2450</td>\n",
       "      <td>0.379374</td>\n",
       "    </tr>\n",
       "    <tr>\n",
       "      <th>2</th>\n",
       "      <td>OffersScreenAppear</td>\n",
       "      <td>1542</td>\n",
       "      <td>0.238774</td>\n",
       "    </tr>\n",
       "    <tr>\n",
       "      <th>3</th>\n",
       "      <td>PaymentScreenSuccessful</td>\n",
       "      <td>1200</td>\n",
       "      <td>0.185816</td>\n",
       "    </tr>\n",
       "  </tbody>\n",
       "</table>\n",
       "</div>"
      ],
      "text/plain": [
       "                event_name  device_id_hash     share\n",
       "0         CartScreenAppear            1266  0.196036\n",
       "1         MainScreenAppear            2450  0.379374\n",
       "2       OffersScreenAppear            1542  0.238774\n",
       "3  PaymentScreenSuccessful            1200  0.185816"
      ]
     },
     "execution_count": 41,
     "metadata": {},
     "output_type": "execute_result"
    }
   ],
   "source": [
    "# Объединенная контрольная группа\n",
    "groupA = filtered[filtered.exp_id.isin([246, 247])].groupby('event_name')['device_id_hash'].nunique().reset_index()\n",
    "groupA['share'] = groupA['device_id_hash']/groupA['device_id_hash'].sum()\n",
    "# Первая контрольная группа\n",
    "groupA1 = filtered[filtered.exp_id == 246].groupby('event_name')['device_id_hash'].nunique().reset_index()\n",
    "groupA1['share'] = groupA1['device_id_hash']/groupA1['device_id_hash'].sum()\n",
    "# Вторая контрольная группа\n",
    "groupA2 = filtered[filtered.exp_id == 247].groupby('event_name')['device_id_hash'].nunique().reset_index()\n",
    "groupA2['share'] = groupA2['device_id_hash']/groupA2['device_id_hash'].sum()\n",
    "# Группа с измененным шрифтом (Группа В)\n",
    "groupB = filtered[filtered.exp_id == 248].groupby('event_name')['device_id_hash'].nunique().reset_index()\n",
    "groupB['share'] = groupB['device_id_hash']/groupB['device_id_hash'].sum()\n",
    "groupA1"
   ]
  },
  {
   "cell_type": "markdown",
   "metadata": {},
   "source": [
    "Гипотезы:\n",
    "\n",
    "H0: Частота событий не зависит от номера контрольной группы.\n",
    "\n",
    "H1: Частота событий зависит от номера контрольной группы."
   ]
  },
  {
   "cell_type": "code",
   "execution_count": 42,
   "metadata": {},
   "outputs": [
    {
     "data": {
      "text/plain": [
       "(1.017526802722156, 0.7970110913690139)"
      ]
     },
     "execution_count": 42,
     "metadata": {},
     "output_type": "execute_result"
    }
   ],
   "source": [
    "import scipy.stats as sts\n",
    "\n",
    "stat, p, _, _ = sts.chi2_contingency([groupA1.device_id_hash.values, groupA2.device_id_hash.values])\n",
    "stat, p"
   ]
  },
  {
   "cell_type": "markdown",
   "metadata": {},
   "source": [
    "P-value больше 0.05, следовательно распределение пользователей по событиям не зависит от контрольной группы, значит статистической разницы между контрольными группами на уровне значимости 5% нет."
   ]
  },
  {
   "cell_type": "markdown",
   "metadata": {},
   "source": [
    "\n",
    "<div class=\"alert alert-danger\">\n",
    "<b>Комментарий с замечанием ревьюера:</b>\n",
    "\n",
    "Перед проверкой гипотез важно формулировать нулевую и альтернативную гипотезы. Чтобы сторонний человек понимал, что проверяется.\n",
    "</div>\n"
   ]
  },
  {
   "cell_type": "markdown",
   "metadata": {},
   "source": [
    "<div class=\"alert alert-info\"> <b>Комментарий студента:</b> Добавлены формулировки гипотез. </div>"
   ]
  },
  {
   "cell_type": "markdown",
   "metadata": {},
   "source": [
    "<div class=\"alert alert-success\">\n",
    "<b>Комментарий с комплиментом ревьюера в2:</b> \n",
    "\n",
    "    \n",
    "Верно"
   ]
  },
  {
   "cell_type": "markdown",
   "metadata": {},
   "source": [
    "Гипотезы:\n",
    "\n",
    "H0: Частота события {название_события} в контрольной группе 1 равна частоте события {название_события} в контрольной группе 2.\n",
    "\n",
    "H1: Частота события {название_события} в контрольной группе 1 не равна частоте события {название_события} в контрольной группе 2."
   ]
  },
  {
   "cell_type": "code",
   "execution_count": 43,
   "metadata": {},
   "outputs": [
    {
     "name": "stdout",
     "output_type": "stream",
     "text": [
      "Для события CartScreenAppear z-статистика равна 0.3371714139252246, p-value равно 0.7359876852552283\n",
      "Отличие между группами статистически незначимо на уровне значимости 5%\n",
      "\n",
      "Для события MainScreenAppear z-статистика равна -0.9308130579605144, p-value равно 0.3519502738749448\n",
      "Отличие между группами статистически незначимо на уровне значимости 5%\n",
      "\n",
      "Для события OffersScreenAppear z-статистика равна 0.12989209962968645, p-value равно 0.8966517949162408\n",
      "Отличие между группами статистически незначимо на уровне значимости 5%\n",
      "\n",
      "Для события PaymentScreenSuccessful z-статистика равна 0.6811860889243316, p-value равно 0.49575374918086756\n",
      "Отличие между группами статистически незначимо на уровне значимости 5%\n",
      "\n"
     ]
    }
   ],
   "source": [
    "from statsmodels.stats.proportion import proportions_ztest \n",
    "\n",
    "def event_stat_check(sample1, sample2, event):\n",
    "    m1 =  sample1[sample1.event_name == event]['device_id_hash'].values[0]\n",
    "    m2 = sample2[sample2.event_name == event]['device_id_hash'].values[0]\n",
    "    n1 = sample1['device_id_hash'].sum()\n",
    "    n2 = sample2['device_id_hash'].sum()\n",
    "    stat, p = proportions_ztest([m1,m2], [n1, n2], value=0)\n",
    "    print(f'Для события {event} z-статистика равна {stat}, p-value равно {p}')\n",
    "    if p > 0.05:\n",
    "        print('Отличие между группами статистически незначимо на уровне значимости 5%')\n",
    "    else:\n",
    "        print('Отличие между группами статистически значимо на уровне значимости 5%')\n",
    "    print()\n",
    "        \n",
    "for event in groupA1.event_name.unique():\n",
    "    event_stat_check(groupA1, groupA2, event)"
   ]
  },
  {
   "cell_type": "markdown",
   "metadata": {},
   "source": [
    "Для всех событий P-value больше 0.05, значит статистической разницы между контрольными группами на уровне значимости 5% нет и разбиение на группы корректно."
   ]
  },
  {
   "cell_type": "markdown",
   "metadata": {},
   "source": [
    "<div class=\"alert alert-success\">\n",
    "<b>Комментарий с комплиментом ревьюера:</b>\n",
    "\n",
    "Согласен, разбиение по группам работает корректно.\n",
    "</div>\n"
   ]
  },
  {
   "cell_type": "markdown",
   "metadata": {},
   "source": [
    "Гипотезы:\n",
    "\n",
    "H0: Частота события {название_события} в контрольной группе 1 равна частоте события {название_события} в группе В.\n",
    "\n",
    "H1: Частота события {название_события} в контрольной группе 1 не равна частоте события {название_события} в группе В."
   ]
  },
  {
   "cell_type": "code",
   "execution_count": 44,
   "metadata": {},
   "outputs": [
    {
     "name": "stdout",
     "output_type": "stream",
     "text": [
      "Для события CartScreenAppear z-статистика равна 0.7031763756909407, p-value равно 0.4819458398461809\n",
      "Отличие между группами статистически незначимо на уровне значимости 5%\n",
      "\n",
      "Для события MainScreenAppear z-статистика равна -0.9385955726198251, p-value равно 0.3479384267818223\n",
      "Отличие между группами статистически незначимо на уровне значимости 5%\n",
      "\n",
      "Для события OffersScreenAppear z-статистика равна 0.11405779068660613, p-value равно 0.9091919819522383\n",
      "Отличие между группами статистически незначимо на уровне значимости 5%\n",
      "\n",
      "Для события PaymentScreenSuccessful z-статистика равна 0.33482738561689607, p-value равно 0.7377553009873645\n",
      "Отличие между группами статистически незначимо на уровне значимости 5%\n",
      "\n"
     ]
    }
   ],
   "source": [
    "#Сравнение группы В с первой контрольной группой\n",
    "for event in groupA1.event_name.unique():\n",
    "    event_stat_check(groupA1, groupB, event)"
   ]
  },
  {
   "cell_type": "markdown",
   "metadata": {},
   "source": [
    "Гипотезы:\n",
    "\n",
    "H0: Частота события {название_события} в контрольной группе 2 равна частоте события {название_события} в группе В.\n",
    "\n",
    "H1: Частота события {название_события} в контрольной группе 2 не равна частоте события {название_события} в группе В."
   ]
  },
  {
   "cell_type": "code",
   "execution_count": 45,
   "metadata": {},
   "outputs": [
    {
     "name": "stdout",
     "output_type": "stream",
     "text": [
      "Для события CartScreenAppear z-статистика равна 0.3645138865180751, p-value равно 0.7154743061042802\n",
      "Отличие между группами статистически незначимо на уровне значимости 5%\n",
      "\n",
      "Для события MainScreenAppear z-статистика равна -0.0062059991785571944, p-value равно 0.9950483608560174\n",
      "Отличие между группами статистически незначимо на уровне значимости 5%\n",
      "\n",
      "Для события OffersScreenAppear z-статистика равна -0.016012119563074644, p-value равно 0.9872247229217913\n",
      "Отличие между группами статистически незначимо на уровне значимости 5%\n",
      "\n",
      "Для события PaymentScreenSuccessful z-статистика равна -0.3466354610337039, p-value равно 0.7288652017205819\n",
      "Отличие между группами статистически незначимо на уровне значимости 5%\n",
      "\n"
     ]
    }
   ],
   "source": [
    "#Сравнение группы В со второй контрольной группой\n",
    "for event in groupA1.event_name.unique():\n",
    "    event_stat_check(groupA2, groupB, event)"
   ]
  },
  {
   "cell_type": "markdown",
   "metadata": {},
   "source": [
    "Гипотезы:\n",
    "\n",
    "H0: Частота события {название_события} в объединенной контрольной группе равна частоте события {название_события} в группе В.\n",
    "\n",
    "H1: Частота события {название_события} в объединенной контрольной группе не равна частоте события {название_события} в группе В."
   ]
  },
  {
   "cell_type": "code",
   "execution_count": 46,
   "metadata": {},
   "outputs": [
    {
     "name": "stdout",
     "output_type": "stream",
     "text": [
      "Для события CartScreenAppear z-статистика равна 0.616739286631742, p-value равно 0.5374067036534838\n",
      "Отличие между группами статистически незначимо на уровне значимости 5%\n",
      "\n",
      "Для события MainScreenAppear z-статистика равна -0.547278644306319, p-value равно 0.584187313263467\n",
      "Отличие между группами статистически незначимо на уровне значимости 5%\n",
      "\n",
      "Для события OffersScreenAppear z-статистика равна 0.05692466532499962, p-value равно 0.95460520607885\n",
      "Отличие между группами статистически незначимо на уровне значимости 5%\n",
      "\n",
      "Для события PaymentScreenSuccessful z-статистика равна -0.004337050092179636, p-value равно 0.9965395455405514\n",
      "Отличие между группами статистически незначимо на уровне значимости 5%\n",
      "\n"
     ]
    }
   ],
   "source": [
    "#Сравнение группы В с объединенной контрольной группой\n",
    "\n",
    "for event in groupA1.event_name.unique():\n",
    "    event_stat_check(groupA, groupB, event)"
   ]
  },
  {
   "cell_type": "markdown",
   "metadata": {},
   "source": [
    "Для всех проведенных тестов p-value больше 0.05, что говорит нам о том, что изменение шрифта не привело к статистически значимым результатам на уровне значимости 5%."
   ]
  },
  {
   "cell_type": "markdown",
   "metadata": {},
   "source": [
    "<div class=\"alert alert-info\"> <b>Комментарий студента:</b> Добавлена множественная проверка гипотез, получено новое p-value, но так как во всех тестах была принята нулевая гипотеза, то поправка на множественную проверку не имеет большого смысла, так как еще сильнее понижает уровень значимости. </div>"
   ]
  },
  {
   "cell_type": "markdown",
   "metadata": {},
   "source": [
    "В ходе A/A/B-теста было проведено 17 экспериментов, которые показали, что изменение шрифта не привело к статистически значимым результатам на уровне значимости 5%. Применим поправку, полученную с помощью метода Ширака:"
   ]
  },
  {
   "cell_type": "code",
   "execution_count": 47,
   "metadata": {},
   "outputs": [
    {
     "data": {
      "text/plain": [
       "0.050000000000000044"
      ]
     },
     "execution_count": 47,
     "metadata": {},
     "output_type": "execute_result"
    }
   ],
   "source": [
    "p1 = 1-(1-0.05)**(1/1)\n",
    "p1"
   ]
  },
  {
   "cell_type": "markdown",
   "metadata": {},
   "source": [
    "На первом шаге новое значение уровня значимоти равно 0.05. Все гипотезы, которые мы проверяли выше, были приняты при p-value значительно больше 0.05 (минимальное равнялось 0.347), поэтому мы принимаем все нулевые гипотезы и завершаем процедуру Ширака. "
   ]
  },
  {
   "cell_type": "markdown",
   "metadata": {},
   "source": [
    "В ходе исследования было выявлено, что значительная часть пользователей «застревает» на предыдущих шагах и не доходит до покупки. Это может быть связано с неудобствами в использовании приложения или нечёткими инструкциями. Для улучшения конверсии необходимо проанализировать причины оттока пользователей и оптимизировать соответствующие этапы.\n",
    "\n",
    "Таким образом, можно сделать вывод, что изменение шрифта не оказало значительного влияния на поведение пользователей и не является фактором, который может повлиять на решение о его изменении. Однако, для улучшения конверсии приложения необходимо проводить дополнительные исследования и анализировать другие факторы, которые могут влиять на поведение пользователей."
   ]
  },
  {
   "cell_type": "markdown",
   "metadata": {},
   "source": [
    "<div class=\"alert alert-danger\">\n",
    "<b>Комментарий с замечанием ревьюера:</b>\n",
    "\n",
    "Скорректируй, пожалуйста, анализ проверки гипотез с учетом множественного теста, в выводе ты пишешь, что применил поправку Бонферонни, но в коде я ее не увидел. Советую не применять поправку Бонферрони, поскольку в таком случае ты сильно уменьшишь мощность теста. Далее в статье про множественные поправки гипотез приводится формула по которой можно расчитать уровень значимости с учетом поправки методом Шидака. \n",
    "    \n",
    "https://ru.wikipedia.org/wiki/%D0%9F%D0%BE%D0%BF%D1%80%D0%B0%D0%B2%D0%BA%D0%B0_%D0%BD%D0%B0_%D0%BC%D0%BD%D0%BE%D0%B6%D0%B5%D1%81%D1%82%D0%B2%D0%B5%D0%BD%D0%BD%D1%83%D1%8E_%D0%BF%D1%80%D0%BE%D0%B2%D0%B5%D1%80%D0%BA%D1%83_%D0%B3%D0%B8%D0%BF%D0%BE%D1%82%D0%B5%D0%B7\n"
   ]
  },
  {
   "cell_type": "markdown",
   "metadata": {},
   "source": [
    "<div style=\"border:solid Chocolate 2px; padding: 40px\">\n",
    "\n",
    "# Общий вывод ревьюера по проекту\n",
    "\n",
    "<div class=\"alert alert-success\">\n",
    "\n",
    "Проделана хорошая работа. Код написан чисто, соблюдена структура проекта и написаны выводы. Есть несколько замечаний, исправь их и проект будет принят.\n",
    "\n",
    "- по ссылкам ниже ты найдешь интересные материалы по А/В тестам\n",
    "  \n",
    "    \n",
    "https://habr.com/ru/company/avito/blog/571094/\n",
    "\n",
    "https://habr.com/ru/company/yandex/blog/476826/\n",
    "\n",
    "https://academy.yandex.ru/journal/kak-provesti-a-b-testirovanie-6-prostykh-shagov\n",
    "\n",
    "https://habr.com/ru/company/yandex/blog/342704/\n",
    "\n",
    "https://r-analytics.blogspot.com/2013/10/blog-post_13.html \n",
    "\n",
    "</div>\n",
    "\n",
    "<div class=\"alert alert-danger\">\n",
    "\n",
    "- проверь, пожалуйста, отсутствие пересечения пользователей    \n",
    "- добавь, пожалуйста, расчет доли пользователей от первого шага до оплаты\n",
    "- проанализируй и используй, пожалуйста, поправку на множественную проверку гипотез   \n",
    "- добавь, пожалуйста, формулировку гипотез\n",
    "</div>\n",
    "</div>\n",
    "\n"
   ]
  },
  {
   "cell_type": "markdown",
   "metadata": {},
   "source": [
    "<div style=\"border:solid Chocolate 2px; padding: 40px\">\n",
    "\n",
    "# Общий вывод ревьюера по проекту в2\n",
    "\n",
    "<div class=\"alert alert-success\">\n",
    "\n",
    "Отлично, замечания имправлены корректно, единственное хочу обратить внимание, что поправк расчитана не корректно, вместо 1 необходимо использовтаь общее число проверок - 17"
   ]
  },
  {
   "cell_type": "code",
   "execution_count": null,
   "metadata": {},
   "outputs": [],
   "source": []
  }
 ],
 "metadata": {
  "ExecuteTimeLog": [
   {
    "duration": 1393,
    "start_time": "2023-05-26T15:49:06.276Z"
   },
   {
    "duration": 916,
    "start_time": "2023-05-26T15:49:07.671Z"
   },
   {
    "duration": 15,
    "start_time": "2023-05-26T15:49:08.589Z"
   },
   {
    "duration": 1943,
    "start_time": "2023-05-26T15:59:26.647Z"
   },
   {
    "duration": 11,
    "start_time": "2023-05-26T15:59:53.756Z"
   },
   {
    "duration": 19,
    "start_time": "2023-05-26T16:18:29.978Z"
   },
   {
    "duration": 564,
    "start_time": "2023-05-26T16:18:38.546Z"
   },
   {
    "duration": 1977,
    "start_time": "2023-05-26T16:22:38.304Z"
   },
   {
    "duration": 1898,
    "start_time": "2023-05-26T16:23:35.422Z"
   },
   {
    "duration": 1894,
    "start_time": "2023-05-26T16:24:22.881Z"
   },
   {
    "duration": 348,
    "start_time": "2023-05-26T16:27:23.227Z"
   },
   {
    "duration": 1261,
    "start_time": "2023-05-26T16:28:05.806Z"
   },
   {
    "duration": 338,
    "start_time": "2023-05-26T16:28:07.069Z"
   },
   {
    "duration": 392,
    "start_time": "2023-05-26T16:28:07.409Z"
   },
   {
    "duration": 89,
    "start_time": "2023-05-26T16:28:07.803Z"
   },
   {
    "duration": 1411,
    "start_time": "2023-05-26T16:46:54.756Z"
   },
   {
    "duration": 173,
    "start_time": "2023-05-26T16:46:56.170Z"
   },
   {
    "duration": 74,
    "start_time": "2023-05-26T16:46:56.346Z"
   },
   {
    "duration": 74,
    "start_time": "2023-05-26T16:46:56.421Z"
   },
   {
    "duration": 8,
    "start_time": "2023-05-26T16:49:09.274Z"
   },
   {
    "duration": 9,
    "start_time": "2023-05-26T16:49:56.802Z"
   },
   {
    "duration": 22,
    "start_time": "2023-05-26T16:51:29.425Z"
   },
   {
    "duration": 73,
    "start_time": "2023-05-26T16:54:21.674Z"
   },
   {
    "duration": 1246,
    "start_time": "2023-05-26T17:01:14.914Z"
   },
   {
    "duration": 2999,
    "start_time": "2023-05-26T17:01:16.162Z"
   },
   {
    "duration": 0,
    "start_time": "2023-05-26T17:01:19.164Z"
   },
   {
    "duration": 0,
    "start_time": "2023-05-26T17:01:19.165Z"
   },
   {
    "duration": 0,
    "start_time": "2023-05-26T17:01:19.167Z"
   },
   {
    "duration": 0,
    "start_time": "2023-05-26T17:01:19.168Z"
   },
   {
    "duration": 0,
    "start_time": "2023-05-26T17:01:19.169Z"
   },
   {
    "duration": 0,
    "start_time": "2023-05-26T17:01:19.173Z"
   },
   {
    "duration": 443,
    "start_time": "2023-05-26T17:01:47.319Z"
   },
   {
    "duration": 2692,
    "start_time": "2023-05-26T17:02:03.721Z"
   },
   {
    "duration": 10,
    "start_time": "2023-05-26T17:04:35.004Z"
   },
   {
    "duration": 243,
    "start_time": "2023-05-26T17:06:17.210Z"
   },
   {
    "duration": 1183,
    "start_time": "2023-05-26T17:06:22.582Z"
   },
   {
    "duration": 251,
    "start_time": "2023-05-26T17:06:23.767Z"
   },
   {
    "duration": 58,
    "start_time": "2023-05-26T17:06:24.020Z"
   },
   {
    "duration": 4,
    "start_time": "2023-05-26T17:06:24.080Z"
   },
   {
    "duration": 25,
    "start_time": "2023-05-26T17:06:24.087Z"
   },
   {
    "duration": 37,
    "start_time": "2023-05-26T17:06:24.113Z"
   },
   {
    "duration": 72,
    "start_time": "2023-05-26T17:06:24.152Z"
   },
   {
    "duration": 118,
    "start_time": "2023-05-26T17:06:24.227Z"
   },
   {
    "duration": 172,
    "start_time": "2023-05-26T17:08:39.589Z"
   },
   {
    "duration": 1186,
    "start_time": "2023-05-26T17:09:14.078Z"
   },
   {
    "duration": 11645,
    "start_time": "2023-05-26T17:09:15.265Z"
   },
   {
    "duration": 0,
    "start_time": "2023-05-26T17:09:26.912Z"
   },
   {
    "duration": 0,
    "start_time": "2023-05-26T17:09:26.913Z"
   },
   {
    "duration": 0,
    "start_time": "2023-05-26T17:09:26.914Z"
   },
   {
    "duration": 0,
    "start_time": "2023-05-26T17:09:26.915Z"
   },
   {
    "duration": 0,
    "start_time": "2023-05-26T17:09:26.917Z"
   },
   {
    "duration": 0,
    "start_time": "2023-05-26T17:09:26.918Z"
   },
   {
    "duration": 170,
    "start_time": "2023-05-26T17:14:13.403Z"
   },
   {
    "duration": 47,
    "start_time": "2023-05-26T17:14:20.647Z"
   },
   {
    "duration": 5,
    "start_time": "2023-05-26T17:14:24.805Z"
   },
   {
    "duration": 13,
    "start_time": "2023-05-26T17:14:25.769Z"
   },
   {
    "duration": 9,
    "start_time": "2023-05-26T17:14:37.052Z"
   },
   {
    "duration": 19,
    "start_time": "2023-05-26T17:14:37.950Z"
   },
   {
    "duration": 72,
    "start_time": "2023-05-26T17:14:38.686Z"
   },
   {
    "duration": 66,
    "start_time": "2023-05-26T17:14:42.776Z"
   },
   {
    "duration": 2865,
    "start_time": "2023-05-26T17:16:30.518Z"
   },
   {
    "duration": 105,
    "start_time": "2023-05-26T17:18:07.840Z"
   },
   {
    "duration": 1226,
    "start_time": "2023-05-26T17:18:53.057Z"
   },
   {
    "duration": 115,
    "start_time": "2023-05-26T17:18:54.285Z"
   },
   {
    "duration": 0,
    "start_time": "2023-05-26T17:18:54.402Z"
   },
   {
    "duration": 0,
    "start_time": "2023-05-26T17:18:54.403Z"
   },
   {
    "duration": 0,
    "start_time": "2023-05-26T17:18:54.404Z"
   },
   {
    "duration": 0,
    "start_time": "2023-05-26T17:18:54.405Z"
   },
   {
    "duration": 0,
    "start_time": "2023-05-26T17:18:54.407Z"
   },
   {
    "duration": 0,
    "start_time": "2023-05-26T17:18:54.408Z"
   },
   {
    "duration": 1223,
    "start_time": "2023-05-26T17:19:47.118Z"
   },
   {
    "duration": 170,
    "start_time": "2023-05-26T17:19:48.343Z"
   },
   {
    "duration": 71,
    "start_time": "2023-05-26T17:19:48.515Z"
   },
   {
    "duration": 4,
    "start_time": "2023-05-26T17:19:48.588Z"
   },
   {
    "duration": 24,
    "start_time": "2023-05-26T17:19:48.594Z"
   },
   {
    "duration": 22,
    "start_time": "2023-05-26T17:19:48.620Z"
   },
   {
    "duration": 65,
    "start_time": "2023-05-26T17:19:48.657Z"
   },
   {
    "duration": 96,
    "start_time": "2023-05-26T17:19:48.724Z"
   },
   {
    "duration": 109,
    "start_time": "2023-05-26T17:21:14.323Z"
   },
   {
    "duration": 1290,
    "start_time": "2023-05-26T17:21:22.751Z"
   },
   {
    "duration": 170,
    "start_time": "2023-05-26T17:21:24.044Z"
   },
   {
    "duration": 108,
    "start_time": "2023-05-26T17:21:24.216Z"
   },
   {
    "duration": 0,
    "start_time": "2023-05-26T17:21:24.327Z"
   },
   {
    "duration": 0,
    "start_time": "2023-05-26T17:21:24.329Z"
   },
   {
    "duration": 0,
    "start_time": "2023-05-26T17:21:24.330Z"
   },
   {
    "duration": 0,
    "start_time": "2023-05-26T17:21:24.332Z"
   },
   {
    "duration": 0,
    "start_time": "2023-05-26T17:21:24.334Z"
   },
   {
    "duration": 0,
    "start_time": "2023-05-26T17:21:24.335Z"
   },
   {
    "duration": 9,
    "start_time": "2023-05-26T17:22:24.037Z"
   },
   {
    "duration": 1293,
    "start_time": "2023-05-26T17:22:32.158Z"
   },
   {
    "duration": 208,
    "start_time": "2023-05-26T17:22:33.454Z"
   },
   {
    "duration": 24,
    "start_time": "2023-05-26T17:22:33.665Z"
   },
   {
    "duration": 51,
    "start_time": "2023-05-26T17:22:33.691Z"
   },
   {
    "duration": 7,
    "start_time": "2023-05-26T17:22:33.756Z"
   },
   {
    "duration": 20,
    "start_time": "2023-05-26T17:22:33.766Z"
   },
   {
    "duration": 26,
    "start_time": "2023-05-26T17:22:33.788Z"
   },
   {
    "duration": 120,
    "start_time": "2023-05-26T17:22:33.817Z"
   },
   {
    "duration": 79,
    "start_time": "2023-05-26T17:22:33.939Z"
   },
   {
    "duration": 1367,
    "start_time": "2023-05-26T17:22:48.898Z"
   },
   {
    "duration": 168,
    "start_time": "2023-05-26T17:22:50.268Z"
   },
   {
    "duration": 42,
    "start_time": "2023-05-26T17:22:50.438Z"
   },
   {
    "duration": 83,
    "start_time": "2023-05-26T17:22:50.483Z"
   },
   {
    "duration": 6,
    "start_time": "2023-05-26T17:22:50.568Z"
   },
   {
    "duration": 37,
    "start_time": "2023-05-26T17:22:50.575Z"
   },
   {
    "duration": 60,
    "start_time": "2023-05-26T17:22:50.614Z"
   },
   {
    "duration": 105,
    "start_time": "2023-05-26T17:22:50.677Z"
   },
   {
    "duration": 87,
    "start_time": "2023-05-26T17:22:50.784Z"
   },
   {
    "duration": 1222,
    "start_time": "2023-05-26T17:23:44.396Z"
   },
   {
    "duration": 168,
    "start_time": "2023-05-26T17:23:45.621Z"
   },
   {
    "duration": 38,
    "start_time": "2023-05-26T17:23:45.792Z"
   },
   {
    "duration": 59,
    "start_time": "2023-05-26T17:23:45.832Z"
   },
   {
    "duration": 5,
    "start_time": "2023-05-26T17:23:45.894Z"
   },
   {
    "duration": 13,
    "start_time": "2023-05-26T17:23:45.900Z"
   },
   {
    "duration": 53,
    "start_time": "2023-05-26T17:23:45.914Z"
   },
   {
    "duration": 98,
    "start_time": "2023-05-26T17:23:45.970Z"
   },
   {
    "duration": 69,
    "start_time": "2023-05-26T17:23:46.070Z"
   },
   {
    "duration": 64,
    "start_time": "2023-05-26T17:24:26.350Z"
   },
   {
    "duration": 103,
    "start_time": "2023-05-26T17:24:41.758Z"
   },
   {
    "duration": 12,
    "start_time": "2023-05-26T17:24:46.728Z"
   },
   {
    "duration": 102,
    "start_time": "2023-05-26T17:25:42.432Z"
   },
   {
    "duration": 76,
    "start_time": "2023-05-26T17:35:08.274Z"
   },
   {
    "duration": 113,
    "start_time": "2023-05-26T17:40:25.527Z"
   },
   {
    "duration": 89,
    "start_time": "2023-05-26T17:40:34.824Z"
   },
   {
    "duration": 10,
    "start_time": "2023-05-26T17:41:45.778Z"
   },
   {
    "duration": 83,
    "start_time": "2023-05-26T17:42:11.926Z"
   },
   {
    "duration": 24,
    "start_time": "2023-05-26T17:42:34.027Z"
   },
   {
    "duration": 1238,
    "start_time": "2023-05-26T17:42:40.233Z"
   },
   {
    "duration": 190,
    "start_time": "2023-05-26T17:42:41.476Z"
   },
   {
    "duration": 40,
    "start_time": "2023-05-26T17:42:41.668Z"
   },
   {
    "duration": 46,
    "start_time": "2023-05-26T17:42:41.712Z"
   },
   {
    "duration": 5,
    "start_time": "2023-05-26T17:42:41.761Z"
   },
   {
    "duration": 13,
    "start_time": "2023-05-26T17:42:41.768Z"
   },
   {
    "duration": 27,
    "start_time": "2023-05-26T17:42:41.783Z"
   },
   {
    "duration": 100,
    "start_time": "2023-05-26T17:42:41.812Z"
   },
   {
    "duration": 74,
    "start_time": "2023-05-26T17:42:41.913Z"
   },
   {
    "duration": 78,
    "start_time": "2023-05-26T17:42:41.989Z"
   },
   {
    "duration": 72,
    "start_time": "2023-05-26T17:42:42.070Z"
   },
   {
    "duration": 100,
    "start_time": "2023-05-26T17:42:42.145Z"
   },
   {
    "duration": 31,
    "start_time": "2023-05-26T17:42:42.256Z"
   },
   {
    "duration": 1265,
    "start_time": "2023-05-26T17:43:01.324Z"
   },
   {
    "duration": 193,
    "start_time": "2023-05-26T17:43:02.593Z"
   },
   {
    "duration": 28,
    "start_time": "2023-05-26T17:43:02.789Z"
   },
   {
    "duration": 69,
    "start_time": "2023-05-26T17:43:02.819Z"
   },
   {
    "duration": 4,
    "start_time": "2023-05-26T17:43:02.891Z"
   },
   {
    "duration": 19,
    "start_time": "2023-05-26T17:43:02.897Z"
   },
   {
    "duration": 48,
    "start_time": "2023-05-26T17:43:02.918Z"
   },
   {
    "duration": 75,
    "start_time": "2023-05-26T17:43:02.971Z"
   },
   {
    "duration": 83,
    "start_time": "2023-05-26T17:43:03.049Z"
   },
   {
    "duration": 85,
    "start_time": "2023-05-26T17:43:03.134Z"
   },
   {
    "duration": 105,
    "start_time": "2023-05-26T17:43:03.221Z"
   },
   {
    "duration": 97,
    "start_time": "2023-05-26T17:43:03.329Z"
   },
   {
    "duration": 31,
    "start_time": "2023-05-26T17:43:03.429Z"
   },
   {
    "duration": 110,
    "start_time": "2023-05-26T17:49:29.798Z"
   },
   {
    "duration": 1265,
    "start_time": "2023-05-26T17:49:44.964Z"
   },
   {
    "duration": 1342,
    "start_time": "2023-05-26T17:50:28.878Z"
   },
   {
    "duration": 252,
    "start_time": "2023-05-26T17:52:32.409Z"
   },
   {
    "duration": 35,
    "start_time": "2023-05-26T17:52:44.117Z"
   },
   {
    "duration": 11,
    "start_time": "2023-05-26T17:52:58.798Z"
   },
   {
    "duration": 1196,
    "start_time": "2023-05-26T17:53:53.300Z"
   },
   {
    "duration": 189,
    "start_time": "2023-05-26T17:53:54.498Z"
   },
   {
    "duration": 31,
    "start_time": "2023-05-26T17:53:54.690Z"
   },
   {
    "duration": 61,
    "start_time": "2023-05-26T17:53:54.726Z"
   },
   {
    "duration": 5,
    "start_time": "2023-05-26T17:53:54.790Z"
   },
   {
    "duration": 19,
    "start_time": "2023-05-26T17:53:54.797Z"
   },
   {
    "duration": 51,
    "start_time": "2023-05-26T17:53:54.818Z"
   },
   {
    "duration": 61,
    "start_time": "2023-05-26T17:53:54.872Z"
   },
   {
    "duration": 89,
    "start_time": "2023-05-26T17:53:54.935Z"
   },
   {
    "duration": 87,
    "start_time": "2023-05-26T17:53:55.026Z"
   },
   {
    "duration": 113,
    "start_time": "2023-05-26T17:53:55.115Z"
   },
   {
    "duration": 115,
    "start_time": "2023-05-26T17:53:55.231Z"
   },
   {
    "duration": 36,
    "start_time": "2023-05-26T17:53:55.348Z"
   },
   {
    "duration": 104,
    "start_time": "2023-05-26T17:53:55.386Z"
   },
   {
    "duration": 11,
    "start_time": "2023-05-26T17:53:55.492Z"
   },
   {
    "duration": 1366,
    "start_time": "2023-05-26T17:58:48.978Z"
   },
   {
    "duration": 199,
    "start_time": "2023-05-26T17:58:50.347Z"
   },
   {
    "duration": 43,
    "start_time": "2023-05-26T17:58:50.555Z"
   },
   {
    "duration": 67,
    "start_time": "2023-05-26T17:58:50.600Z"
   },
   {
    "duration": 5,
    "start_time": "2023-05-26T17:58:50.670Z"
   },
   {
    "duration": 24,
    "start_time": "2023-05-26T17:58:50.678Z"
   },
   {
    "duration": 47,
    "start_time": "2023-05-26T17:58:50.704Z"
   },
   {
    "duration": 92,
    "start_time": "2023-05-26T17:58:50.756Z"
   },
   {
    "duration": 78,
    "start_time": "2023-05-26T17:58:50.859Z"
   },
   {
    "duration": 85,
    "start_time": "2023-05-26T17:58:50.940Z"
   },
   {
    "duration": 106,
    "start_time": "2023-05-26T17:58:51.027Z"
   },
   {
    "duration": 99,
    "start_time": "2023-05-26T17:58:51.135Z"
   },
   {
    "duration": 39,
    "start_time": "2023-05-26T17:58:51.236Z"
   },
   {
    "duration": 99,
    "start_time": "2023-05-26T17:58:51.279Z"
   },
   {
    "duration": 12,
    "start_time": "2023-05-26T17:58:51.381Z"
   },
   {
    "duration": 1400,
    "start_time": "2023-05-26T18:05:13.750Z"
   },
   {
    "duration": 185,
    "start_time": "2023-05-26T18:05:15.153Z"
   },
   {
    "duration": 37,
    "start_time": "2023-05-26T18:05:15.341Z"
   },
   {
    "duration": 44,
    "start_time": "2023-05-26T18:05:15.382Z"
   },
   {
    "duration": 6,
    "start_time": "2023-05-26T18:05:15.428Z"
   },
   {
    "duration": 34,
    "start_time": "2023-05-26T18:05:15.436Z"
   },
   {
    "duration": 18,
    "start_time": "2023-05-26T18:05:15.473Z"
   },
   {
    "duration": 32,
    "start_time": "2023-05-26T18:05:15.493Z"
   },
   {
    "duration": 118,
    "start_time": "2023-05-26T18:05:15.528Z"
   },
   {
    "duration": 93,
    "start_time": "2023-05-26T18:05:15.650Z"
   },
   {
    "duration": 98,
    "start_time": "2023-05-26T18:05:15.746Z"
   },
   {
    "duration": 86,
    "start_time": "2023-05-26T18:05:15.852Z"
   },
   {
    "duration": 95,
    "start_time": "2023-05-26T18:05:15.940Z"
   },
   {
    "duration": 40,
    "start_time": "2023-05-26T18:05:16.037Z"
   },
   {
    "duration": 2067,
    "start_time": "2023-05-26T18:05:16.079Z"
   },
   {
    "duration": 0,
    "start_time": "2023-05-26T18:05:18.148Z"
   },
   {
    "duration": 1339,
    "start_time": "2023-05-26T18:06:00.012Z"
   },
   {
    "duration": 193,
    "start_time": "2023-05-26T18:06:01.355Z"
   },
   {
    "duration": 36,
    "start_time": "2023-05-26T18:06:01.550Z"
   },
   {
    "duration": 87,
    "start_time": "2023-05-26T18:06:01.591Z"
   },
   {
    "duration": 67,
    "start_time": "2023-05-26T18:06:01.680Z"
   },
   {
    "duration": 117,
    "start_time": "2023-05-26T18:06:01.749Z"
   },
   {
    "duration": 67,
    "start_time": "2023-05-26T18:06:01.869Z"
   },
   {
    "duration": 76,
    "start_time": "2023-05-26T18:06:01.938Z"
   },
   {
    "duration": 90,
    "start_time": "2023-05-26T18:06:02.016Z"
   },
   {
    "duration": 92,
    "start_time": "2023-05-26T18:06:02.108Z"
   },
   {
    "duration": 87,
    "start_time": "2023-05-26T18:06:02.202Z"
   },
   {
    "duration": 104,
    "start_time": "2023-05-26T18:06:02.292Z"
   },
   {
    "duration": 94,
    "start_time": "2023-05-26T18:06:02.399Z"
   },
   {
    "duration": 21,
    "start_time": "2023-05-26T18:06:02.496Z"
   },
   {
    "duration": 110,
    "start_time": "2023-05-26T18:06:02.519Z"
   },
   {
    "duration": 13,
    "start_time": "2023-05-26T18:06:02.631Z"
   },
   {
    "duration": 1467,
    "start_time": "2023-05-27T17:22:12.824Z"
   },
   {
    "duration": 847,
    "start_time": "2023-05-27T17:22:14.294Z"
   },
   {
    "duration": 39,
    "start_time": "2023-05-27T17:22:15.143Z"
   },
   {
    "duration": 37,
    "start_time": "2023-05-27T17:22:15.189Z"
   },
   {
    "duration": 4,
    "start_time": "2023-05-27T17:22:15.230Z"
   },
   {
    "duration": 28,
    "start_time": "2023-05-27T17:22:15.236Z"
   },
   {
    "duration": 23,
    "start_time": "2023-05-27T17:22:15.266Z"
   },
   {
    "duration": 40,
    "start_time": "2023-05-27T17:22:15.292Z"
   },
   {
    "duration": 67,
    "start_time": "2023-05-27T17:22:15.334Z"
   },
   {
    "duration": 68,
    "start_time": "2023-05-27T17:22:15.402Z"
   },
   {
    "duration": 64,
    "start_time": "2023-05-27T17:22:15.476Z"
   },
   {
    "duration": 87,
    "start_time": "2023-05-27T17:22:15.542Z"
   },
   {
    "duration": 78,
    "start_time": "2023-05-27T17:22:15.630Z"
   },
   {
    "duration": 20,
    "start_time": "2023-05-27T17:22:15.711Z"
   },
   {
    "duration": 101,
    "start_time": "2023-05-27T17:22:15.733Z"
   },
   {
    "duration": 32,
    "start_time": "2023-05-27T17:22:15.837Z"
   },
   {
    "duration": 8,
    "start_time": "2023-05-27T17:22:30.538Z"
   },
   {
    "duration": 34,
    "start_time": "2023-05-27T17:23:43.541Z"
   },
   {
    "duration": 142,
    "start_time": "2023-05-27T17:28:16.553Z"
   },
   {
    "duration": 25,
    "start_time": "2023-05-27T17:32:51.442Z"
   },
   {
    "duration": 1571,
    "start_time": "2023-05-27T17:33:15.421Z"
   },
   {
    "duration": 271,
    "start_time": "2023-05-27T17:33:16.994Z"
   },
   {
    "duration": 42,
    "start_time": "2023-05-27T17:33:17.268Z"
   },
   {
    "duration": 57,
    "start_time": "2023-05-27T17:33:17.317Z"
   },
   {
    "duration": 8,
    "start_time": "2023-05-27T17:33:17.381Z"
   },
   {
    "duration": 34,
    "start_time": "2023-05-27T17:33:17.396Z"
   },
   {
    "duration": 14,
    "start_time": "2023-05-27T17:33:17.437Z"
   },
   {
    "duration": 34,
    "start_time": "2023-05-27T17:33:17.458Z"
   },
   {
    "duration": 139,
    "start_time": "2023-05-27T17:33:17.498Z"
   },
   {
    "duration": 121,
    "start_time": "2023-05-27T17:33:17.648Z"
   },
   {
    "duration": 103,
    "start_time": "2023-05-27T17:33:17.776Z"
   },
   {
    "duration": 115,
    "start_time": "2023-05-27T17:33:17.886Z"
   },
   {
    "duration": 102,
    "start_time": "2023-05-27T17:33:18.009Z"
   },
   {
    "duration": 23,
    "start_time": "2023-05-27T17:33:18.116Z"
   },
   {
    "duration": 102,
    "start_time": "2023-05-27T17:33:18.141Z"
   },
   {
    "duration": 26,
    "start_time": "2023-05-27T17:33:18.245Z"
   },
   {
    "duration": 28,
    "start_time": "2023-05-27T17:33:18.276Z"
   },
   {
    "duration": 11,
    "start_time": "2023-05-27T17:44:49.555Z"
   },
   {
    "duration": 8,
    "start_time": "2023-05-27T17:45:48.701Z"
   },
   {
    "duration": 1263,
    "start_time": "2023-05-27T17:45:59.688Z"
   },
   {
    "duration": 178,
    "start_time": "2023-05-27T17:46:00.954Z"
   },
   {
    "duration": 36,
    "start_time": "2023-05-27T17:46:01.134Z"
   },
   {
    "duration": 37,
    "start_time": "2023-05-27T17:46:01.180Z"
   },
   {
    "duration": 4,
    "start_time": "2023-05-27T17:46:01.220Z"
   },
   {
    "duration": 57,
    "start_time": "2023-05-27T17:46:01.226Z"
   },
   {
    "duration": 7,
    "start_time": "2023-05-27T17:46:01.289Z"
   },
   {
    "duration": 52,
    "start_time": "2023-05-27T17:46:01.297Z"
   },
   {
    "duration": 89,
    "start_time": "2023-05-27T17:46:01.350Z"
   },
   {
    "duration": 86,
    "start_time": "2023-05-27T17:46:01.441Z"
   },
   {
    "duration": 74,
    "start_time": "2023-05-27T17:46:01.529Z"
   },
   {
    "duration": 73,
    "start_time": "2023-05-27T17:46:01.605Z"
   },
   {
    "duration": 76,
    "start_time": "2023-05-27T17:46:01.679Z"
   },
   {
    "duration": 29,
    "start_time": "2023-05-27T17:46:01.760Z"
   },
   {
    "duration": 119,
    "start_time": "2023-05-27T17:46:01.790Z"
   },
   {
    "duration": 17,
    "start_time": "2023-05-27T17:46:01.910Z"
   },
   {
    "duration": 56,
    "start_time": "2023-05-27T17:46:01.929Z"
   },
   {
    "duration": 22,
    "start_time": "2023-05-27T17:46:01.992Z"
   },
   {
    "duration": 138,
    "start_time": "2023-05-27T17:48:19.925Z"
   },
   {
    "duration": 42488,
    "start_time": "2023-05-27T17:50:53.000Z"
   },
   {
    "duration": 8,
    "start_time": "2023-05-27T17:53:53.522Z"
   },
   {
    "duration": 5,
    "start_time": "2023-05-27T17:54:17.623Z"
   },
   {
    "duration": 4,
    "start_time": "2023-05-27T17:54:31.127Z"
   },
   {
    "duration": 4,
    "start_time": "2023-05-27T17:54:49.702Z"
   },
   {
    "duration": 25,
    "start_time": "2023-05-27T17:55:18.604Z"
   },
   {
    "duration": 5,
    "start_time": "2023-05-27T17:56:42.944Z"
   },
   {
    "duration": 4,
    "start_time": "2023-05-27T17:57:15.247Z"
   },
   {
    "duration": 3,
    "start_time": "2023-05-27T17:59:54.700Z"
   },
   {
    "duration": 3,
    "start_time": "2023-05-27T18:00:13.546Z"
   },
   {
    "duration": 1288,
    "start_time": "2023-05-27T18:00:55.391Z"
   },
   {
    "duration": 185,
    "start_time": "2023-05-27T18:00:56.681Z"
   },
   {
    "duration": 39,
    "start_time": "2023-05-27T18:00:56.867Z"
   },
   {
    "duration": 39,
    "start_time": "2023-05-27T18:00:56.912Z"
   },
   {
    "duration": 14,
    "start_time": "2023-05-27T18:00:56.964Z"
   },
   {
    "duration": 13,
    "start_time": "2023-05-27T18:00:56.982Z"
   },
   {
    "duration": 11,
    "start_time": "2023-05-27T18:00:56.997Z"
   },
   {
    "duration": 20,
    "start_time": "2023-05-27T18:00:57.010Z"
   },
   {
    "duration": 78,
    "start_time": "2023-05-27T18:00:57.032Z"
   },
   {
    "duration": 91,
    "start_time": "2023-05-27T18:00:57.112Z"
   },
   {
    "duration": 97,
    "start_time": "2023-05-27T18:00:57.204Z"
   },
   {
    "duration": 89,
    "start_time": "2023-05-27T18:00:57.303Z"
   },
   {
    "duration": 76,
    "start_time": "2023-05-27T18:00:57.395Z"
   },
   {
    "duration": 30,
    "start_time": "2023-05-27T18:00:57.474Z"
   },
   {
    "duration": 112,
    "start_time": "2023-05-27T18:00:57.506Z"
   },
   {
    "duration": 11,
    "start_time": "2023-05-27T18:00:57.620Z"
   },
   {
    "duration": 37,
    "start_time": "2023-05-27T18:00:57.633Z"
   },
   {
    "duration": 13,
    "start_time": "2023-05-27T18:00:57.677Z"
   },
   {
    "duration": 8,
    "start_time": "2023-05-27T18:00:57.691Z"
   },
   {
    "duration": 136,
    "start_time": "2023-05-27T18:00:57.702Z"
   },
   {
    "duration": 1278,
    "start_time": "2023-05-27T18:01:24.111Z"
   },
   {
    "duration": 180,
    "start_time": "2023-05-27T18:01:25.397Z"
   },
   {
    "duration": 37,
    "start_time": "2023-05-27T18:01:25.578Z"
   },
   {
    "duration": 57,
    "start_time": "2023-05-27T18:01:25.617Z"
   },
   {
    "duration": 4,
    "start_time": "2023-05-27T18:01:25.681Z"
   },
   {
    "duration": 36,
    "start_time": "2023-05-27T18:01:25.696Z"
   },
   {
    "duration": 9,
    "start_time": "2023-05-27T18:01:25.734Z"
   },
   {
    "duration": 27,
    "start_time": "2023-05-27T18:01:25.745Z"
   },
   {
    "duration": 65,
    "start_time": "2023-05-27T18:01:25.776Z"
   },
   {
    "duration": 75,
    "start_time": "2023-05-27T18:01:25.842Z"
   },
   {
    "duration": 91,
    "start_time": "2023-05-27T18:01:25.918Z"
   },
   {
    "duration": 91,
    "start_time": "2023-05-27T18:01:26.011Z"
   },
   {
    "duration": 84,
    "start_time": "2023-05-27T18:01:26.109Z"
   },
   {
    "duration": 26,
    "start_time": "2023-05-27T18:01:26.202Z"
   },
   {
    "duration": 95,
    "start_time": "2023-05-27T18:01:26.229Z"
   },
   {
    "duration": 10,
    "start_time": "2023-05-27T18:01:26.326Z"
   },
   {
    "duration": 37,
    "start_time": "2023-05-27T18:01:26.337Z"
   },
   {
    "duration": 6,
    "start_time": "2023-05-27T18:01:26.375Z"
   },
   {
    "duration": 12,
    "start_time": "2023-05-27T18:01:26.382Z"
   },
   {
    "duration": 9,
    "start_time": "2023-05-27T18:01:26.399Z"
   },
   {
    "duration": 108,
    "start_time": "2023-05-27T18:03:06.255Z"
   },
   {
    "duration": 8,
    "start_time": "2023-05-27T18:03:11.906Z"
   },
   {
    "duration": 4,
    "start_time": "2023-05-27T18:03:56.718Z"
   },
   {
    "duration": 65,
    "start_time": "2023-05-27T18:09:19.312Z"
   },
   {
    "duration": 20,
    "start_time": "2023-05-27T18:09:38.198Z"
   },
   {
    "duration": 58,
    "start_time": "2023-05-27T18:10:44.077Z"
   },
   {
    "duration": 3,
    "start_time": "2023-05-27T18:12:03.492Z"
   },
   {
    "duration": 1225,
    "start_time": "2023-05-27T18:13:11.733Z"
   },
   {
    "duration": 174,
    "start_time": "2023-05-27T18:13:12.971Z"
   },
   {
    "duration": 36,
    "start_time": "2023-05-27T18:13:13.146Z"
   },
   {
    "duration": 37,
    "start_time": "2023-05-27T18:13:13.188Z"
   },
   {
    "duration": 5,
    "start_time": "2023-05-27T18:13:13.227Z"
   },
   {
    "duration": 34,
    "start_time": "2023-05-27T18:13:13.233Z"
   },
   {
    "duration": 16,
    "start_time": "2023-05-27T18:13:13.269Z"
   },
   {
    "duration": 28,
    "start_time": "2023-05-27T18:13:13.287Z"
   },
   {
    "duration": 76,
    "start_time": "2023-05-27T18:13:13.317Z"
   },
   {
    "duration": 73,
    "start_time": "2023-05-27T18:13:13.397Z"
   },
   {
    "duration": 70,
    "start_time": "2023-05-27T18:13:13.472Z"
   },
   {
    "duration": 82,
    "start_time": "2023-05-27T18:13:13.544Z"
   },
   {
    "duration": 84,
    "start_time": "2023-05-27T18:13:13.628Z"
   },
   {
    "duration": 18,
    "start_time": "2023-05-27T18:13:13.715Z"
   },
   {
    "duration": 107,
    "start_time": "2023-05-27T18:13:13.735Z"
   },
   {
    "duration": 14,
    "start_time": "2023-05-27T18:13:13.844Z"
   },
   {
    "duration": 41,
    "start_time": "2023-05-27T18:13:13.860Z"
   },
   {
    "duration": 6,
    "start_time": "2023-05-27T18:13:13.903Z"
   },
   {
    "duration": 29,
    "start_time": "2023-05-27T18:13:13.910Z"
   },
   {
    "duration": 11,
    "start_time": "2023-05-27T18:13:13.940Z"
   },
   {
    "duration": 59,
    "start_time": "2023-05-27T18:13:13.953Z"
   },
   {
    "duration": 4,
    "start_time": "2023-05-27T18:13:14.013Z"
   },
   {
    "duration": 11,
    "start_time": "2023-05-27T18:13:40.878Z"
   },
   {
    "duration": 128,
    "start_time": "2023-05-27T18:24:32.986Z"
   },
   {
    "duration": 577,
    "start_time": "2023-05-27T18:24:43.889Z"
   },
   {
    "duration": 218,
    "start_time": "2023-05-27T18:29:41.300Z"
   },
   {
    "duration": 939,
    "start_time": "2023-05-27T18:32:10.082Z"
   },
   {
    "duration": 169,
    "start_time": "2023-05-27T18:32:11.023Z"
   },
   {
    "duration": 32,
    "start_time": "2023-05-27T18:32:11.194Z"
   },
   {
    "duration": 70,
    "start_time": "2023-05-27T18:32:11.232Z"
   },
   {
    "duration": 10,
    "start_time": "2023-05-27T18:32:11.305Z"
   },
   {
    "duration": 11,
    "start_time": "2023-05-27T18:32:11.317Z"
   },
   {
    "duration": 21,
    "start_time": "2023-05-27T18:32:11.330Z"
   },
   {
    "duration": 54,
    "start_time": "2023-05-27T18:32:11.353Z"
   },
   {
    "duration": 424,
    "start_time": "2023-05-27T18:32:11.409Z"
   },
   {
    "duration": 82,
    "start_time": "2023-05-27T18:32:11.835Z"
   },
   {
    "duration": 92,
    "start_time": "2023-05-27T18:32:11.919Z"
   },
   {
    "duration": 88,
    "start_time": "2023-05-27T18:32:12.013Z"
   },
   {
    "duration": 88,
    "start_time": "2023-05-27T18:32:12.103Z"
   },
   {
    "duration": 20,
    "start_time": "2023-05-27T18:32:12.193Z"
   },
   {
    "duration": 124,
    "start_time": "2023-05-27T18:32:12.215Z"
   },
   {
    "duration": 22,
    "start_time": "2023-05-27T18:32:12.341Z"
   },
   {
    "duration": 27,
    "start_time": "2023-05-27T18:32:12.367Z"
   },
   {
    "duration": 6,
    "start_time": "2023-05-27T18:32:12.397Z"
   },
   {
    "duration": 10,
    "start_time": "2023-05-27T18:32:12.404Z"
   },
   {
    "duration": 5,
    "start_time": "2023-05-27T18:32:12.417Z"
   },
   {
    "duration": 79,
    "start_time": "2023-05-27T18:32:12.424Z"
   },
   {
    "duration": 7,
    "start_time": "2023-05-27T18:32:12.505Z"
   },
   {
    "duration": 400,
    "start_time": "2023-05-27T18:32:12.514Z"
   },
   {
    "duration": 974,
    "start_time": "2023-05-27T18:32:42.505Z"
   },
   {
    "duration": 163,
    "start_time": "2023-05-27T18:32:43.484Z"
   },
   {
    "duration": 40,
    "start_time": "2023-05-27T18:32:43.649Z"
   },
   {
    "duration": 40,
    "start_time": "2023-05-27T18:32:43.691Z"
   },
   {
    "duration": 4,
    "start_time": "2023-05-27T18:32:43.733Z"
   },
   {
    "duration": 36,
    "start_time": "2023-05-27T18:32:43.738Z"
   },
   {
    "duration": 7,
    "start_time": "2023-05-27T18:32:43.776Z"
   },
   {
    "duration": 32,
    "start_time": "2023-05-27T18:32:43.785Z"
   },
   {
    "duration": 410,
    "start_time": "2023-05-27T18:32:43.820Z"
   },
   {
    "duration": 88,
    "start_time": "2023-05-27T18:32:44.233Z"
   },
   {
    "duration": 94,
    "start_time": "2023-05-27T18:32:44.323Z"
   },
   {
    "duration": 89,
    "start_time": "2023-05-27T18:32:44.418Z"
   },
   {
    "duration": 106,
    "start_time": "2023-05-27T18:32:44.510Z"
   },
   {
    "duration": 44,
    "start_time": "2023-05-27T18:32:44.619Z"
   },
   {
    "duration": 125,
    "start_time": "2023-05-27T18:32:44.666Z"
   },
   {
    "duration": 29,
    "start_time": "2023-05-27T18:32:44.794Z"
   },
   {
    "duration": 27,
    "start_time": "2023-05-27T18:32:44.825Z"
   },
   {
    "duration": 5,
    "start_time": "2023-05-27T18:32:44.857Z"
   },
   {
    "duration": 16,
    "start_time": "2023-05-27T18:32:44.864Z"
   },
   {
    "duration": 5,
    "start_time": "2023-05-27T18:32:44.882Z"
   },
   {
    "duration": 74,
    "start_time": "2023-05-27T18:32:44.889Z"
   },
   {
    "duration": 4,
    "start_time": "2023-05-27T18:32:44.965Z"
   },
   {
    "duration": 322,
    "start_time": "2023-05-27T18:32:44.973Z"
   },
   {
    "duration": 184,
    "start_time": "2023-05-27T18:42:47.774Z"
   },
   {
    "duration": 178,
    "start_time": "2023-05-27T18:44:46.334Z"
   },
   {
    "duration": 25,
    "start_time": "2023-05-27T18:56:37.261Z"
   },
   {
    "duration": 16,
    "start_time": "2023-05-27T18:59:51.928Z"
   },
   {
    "duration": 20,
    "start_time": "2023-05-27T19:00:12.371Z"
   },
   {
    "duration": 17,
    "start_time": "2023-05-27T19:00:15.936Z"
   },
   {
    "duration": 32,
    "start_time": "2023-05-27T19:08:50.810Z"
   },
   {
    "duration": 77,
    "start_time": "2023-05-27T19:10:24.770Z"
   },
   {
    "duration": 110,
    "start_time": "2023-05-27T19:11:39.752Z"
   },
   {
    "duration": 18,
    "start_time": "2023-05-27T19:12:18.079Z"
   },
   {
    "duration": 67,
    "start_time": "2023-05-27T19:12:41.079Z"
   },
   {
    "duration": 56,
    "start_time": "2023-05-27T19:13:11.922Z"
   },
   {
    "duration": 66,
    "start_time": "2023-05-27T19:13:53.845Z"
   },
   {
    "duration": 114,
    "start_time": "2023-05-27T19:15:38.018Z"
   },
   {
    "duration": 81,
    "start_time": "2023-05-27T19:15:49.993Z"
   },
   {
    "duration": 1202,
    "start_time": "2023-05-29T13:40:16.012Z"
   },
   {
    "duration": 502,
    "start_time": "2023-05-29T13:40:17.216Z"
   },
   {
    "duration": 22,
    "start_time": "2023-05-29T13:40:17.720Z"
   },
   {
    "duration": 30,
    "start_time": "2023-05-29T13:40:17.744Z"
   },
   {
    "duration": 4,
    "start_time": "2023-05-29T13:40:17.777Z"
   },
   {
    "duration": 26,
    "start_time": "2023-05-29T13:40:17.785Z"
   },
   {
    "duration": 28,
    "start_time": "2023-05-29T13:40:17.812Z"
   },
   {
    "duration": 48,
    "start_time": "2023-05-29T13:40:17.841Z"
   },
   {
    "duration": 52,
    "start_time": "2023-05-29T13:40:17.890Z"
   },
   {
    "duration": 68,
    "start_time": "2023-05-29T13:40:17.943Z"
   },
   {
    "duration": 51,
    "start_time": "2023-05-29T13:40:18.013Z"
   },
   {
    "duration": 70,
    "start_time": "2023-05-29T13:40:18.066Z"
   },
   {
    "duration": 63,
    "start_time": "2023-05-29T13:40:18.138Z"
   },
   {
    "duration": 16,
    "start_time": "2023-05-29T13:40:18.204Z"
   },
   {
    "duration": 70,
    "start_time": "2023-05-29T13:40:18.222Z"
   },
   {
    "duration": 9,
    "start_time": "2023-05-29T13:40:18.293Z"
   },
   {
    "duration": 21,
    "start_time": "2023-05-29T13:40:18.304Z"
   },
   {
    "duration": 17,
    "start_time": "2023-05-29T13:40:18.327Z"
   },
   {
    "duration": 21,
    "start_time": "2023-05-29T13:40:18.346Z"
   },
   {
    "duration": 23,
    "start_time": "2023-05-29T13:40:18.369Z"
   },
   {
    "duration": 13,
    "start_time": "2023-05-29T13:40:18.393Z"
   },
   {
    "duration": 55,
    "start_time": "2023-05-29T13:40:18.407Z"
   },
   {
    "duration": 12,
    "start_time": "2023-05-29T13:40:18.464Z"
   },
   {
    "duration": 129,
    "start_time": "2023-05-29T13:40:18.477Z"
   },
   {
    "duration": 0,
    "start_time": "2023-05-29T13:40:18.607Z"
   },
   {
    "duration": 0,
    "start_time": "2023-05-29T13:40:18.609Z"
   },
   {
    "duration": 317,
    "start_time": "2023-05-29T13:40:35.392Z"
   },
   {
    "duration": 141,
    "start_time": "2023-05-29T13:40:48.690Z"
   },
   {
    "duration": 1012,
    "start_time": "2023-05-29T13:41:34.998Z"
   },
   {
    "duration": 170,
    "start_time": "2023-05-29T13:41:36.012Z"
   },
   {
    "duration": 22,
    "start_time": "2023-05-29T13:41:36.184Z"
   },
   {
    "duration": 40,
    "start_time": "2023-05-29T13:41:36.208Z"
   },
   {
    "duration": 5,
    "start_time": "2023-05-29T13:41:36.251Z"
   },
   {
    "duration": 37,
    "start_time": "2023-05-29T13:41:36.258Z"
   },
   {
    "duration": 12,
    "start_time": "2023-05-29T13:41:36.297Z"
   },
   {
    "duration": 20,
    "start_time": "2023-05-29T13:41:36.311Z"
   },
   {
    "duration": 57,
    "start_time": "2023-05-29T13:41:36.333Z"
   },
   {
    "duration": 55,
    "start_time": "2023-05-29T13:41:36.392Z"
   },
   {
    "duration": 65,
    "start_time": "2023-05-29T13:41:36.449Z"
   },
   {
    "duration": 58,
    "start_time": "2023-05-29T13:41:36.515Z"
   },
   {
    "duration": 52,
    "start_time": "2023-05-29T13:41:36.584Z"
   },
   {
    "duration": 17,
    "start_time": "2023-05-29T13:41:36.639Z"
   },
   {
    "duration": 74,
    "start_time": "2023-05-29T13:41:36.657Z"
   },
   {
    "duration": 8,
    "start_time": "2023-05-29T13:41:36.732Z"
   },
   {
    "duration": 39,
    "start_time": "2023-05-29T13:41:36.741Z"
   },
   {
    "duration": 20,
    "start_time": "2023-05-29T13:41:36.781Z"
   },
   {
    "duration": 3,
    "start_time": "2023-05-29T13:41:36.802Z"
   },
   {
    "duration": 14,
    "start_time": "2023-05-29T13:41:36.806Z"
   },
   {
    "duration": 4,
    "start_time": "2023-05-29T13:41:36.821Z"
   },
   {
    "duration": 30,
    "start_time": "2023-05-29T13:41:36.826Z"
   },
   {
    "duration": 10,
    "start_time": "2023-05-29T13:41:36.858Z"
   },
   {
    "duration": 240,
    "start_time": "2023-05-29T13:41:36.869Z"
   },
   {
    "duration": 25,
    "start_time": "2023-05-29T13:41:37.111Z"
   },
   {
    "duration": 105,
    "start_time": "2023-05-29T13:41:37.137Z"
   },
   {
    "duration": 1046,
    "start_time": "2023-05-29T13:43:20.850Z"
   },
   {
    "duration": 142,
    "start_time": "2023-05-29T13:43:21.897Z"
   },
   {
    "duration": 20,
    "start_time": "2023-05-29T13:43:22.041Z"
   },
   {
    "duration": 41,
    "start_time": "2023-05-29T13:43:22.063Z"
   },
   {
    "duration": 4,
    "start_time": "2023-05-29T13:43:22.106Z"
   },
   {
    "duration": 12,
    "start_time": "2023-05-29T13:43:22.111Z"
   },
   {
    "duration": 11,
    "start_time": "2023-05-29T13:43:22.124Z"
   },
   {
    "duration": 19,
    "start_time": "2023-05-29T13:43:22.136Z"
   },
   {
    "duration": 70,
    "start_time": "2023-05-29T13:43:22.157Z"
   },
   {
    "duration": 65,
    "start_time": "2023-05-29T13:43:22.229Z"
   },
   {
    "duration": 50,
    "start_time": "2023-05-29T13:43:22.296Z"
   },
   {
    "duration": 80,
    "start_time": "2023-05-29T13:43:22.347Z"
   },
   {
    "duration": 65,
    "start_time": "2023-05-29T13:43:22.428Z"
   },
   {
    "duration": 16,
    "start_time": "2023-05-29T13:43:22.497Z"
   },
   {
    "duration": 76,
    "start_time": "2023-05-29T13:43:22.515Z"
   },
   {
    "duration": 9,
    "start_time": "2023-05-29T13:43:22.592Z"
   },
   {
    "duration": 21,
    "start_time": "2023-05-29T13:43:22.602Z"
   },
   {
    "duration": 16,
    "start_time": "2023-05-29T13:43:22.624Z"
   },
   {
    "duration": 4,
    "start_time": "2023-05-29T13:43:22.642Z"
   },
   {
    "duration": 9,
    "start_time": "2023-05-29T13:43:22.647Z"
   },
   {
    "duration": 28,
    "start_time": "2023-05-29T13:43:22.658Z"
   },
   {
    "duration": 48,
    "start_time": "2023-05-29T13:43:22.687Z"
   },
   {
    "duration": 3,
    "start_time": "2023-05-29T13:43:22.737Z"
   },
   {
    "duration": 236,
    "start_time": "2023-05-29T13:43:22.741Z"
   },
   {
    "duration": 48,
    "start_time": "2023-05-29T13:43:22.984Z"
   },
   {
    "duration": 98,
    "start_time": "2023-05-29T14:02:28.465Z"
   },
   {
    "duration": 7,
    "start_time": "2023-05-29T14:02:58.898Z"
   },
   {
    "duration": 309,
    "start_time": "2023-05-29T14:03:13.994Z"
   },
   {
    "duration": 1071,
    "start_time": "2023-05-29T14:18:49.231Z"
   },
   {
    "duration": 155,
    "start_time": "2023-05-29T14:18:50.305Z"
   },
   {
    "duration": 33,
    "start_time": "2023-05-29T14:18:50.461Z"
   },
   {
    "duration": 34,
    "start_time": "2023-05-29T14:18:50.497Z"
   },
   {
    "duration": 4,
    "start_time": "2023-05-29T14:18:50.532Z"
   },
   {
    "duration": 10,
    "start_time": "2023-05-29T14:18:50.537Z"
   },
   {
    "duration": 14,
    "start_time": "2023-05-29T14:18:50.549Z"
   },
   {
    "duration": 31,
    "start_time": "2023-05-29T14:18:50.564Z"
   },
   {
    "duration": 56,
    "start_time": "2023-05-29T14:18:50.597Z"
   },
   {
    "duration": 73,
    "start_time": "2023-05-29T14:18:50.655Z"
   },
   {
    "duration": 58,
    "start_time": "2023-05-29T14:18:50.729Z"
   },
   {
    "duration": 58,
    "start_time": "2023-05-29T14:18:50.788Z"
   },
   {
    "duration": 71,
    "start_time": "2023-05-29T14:18:50.847Z"
   },
   {
    "duration": 29,
    "start_time": "2023-05-29T14:18:50.919Z"
   },
   {
    "duration": 72,
    "start_time": "2023-05-29T14:18:50.950Z"
   },
   {
    "duration": 27,
    "start_time": "2023-05-29T14:18:51.024Z"
   },
   {
    "duration": 25,
    "start_time": "2023-05-29T14:18:51.052Z"
   },
   {
    "duration": 16,
    "start_time": "2023-05-29T14:18:51.079Z"
   },
   {
    "duration": 21,
    "start_time": "2023-05-29T14:18:51.096Z"
   },
   {
    "duration": 25,
    "start_time": "2023-05-29T14:18:51.118Z"
   },
   {
    "duration": 22,
    "start_time": "2023-05-29T14:18:51.145Z"
   },
   {
    "duration": 35,
    "start_time": "2023-05-29T14:18:51.168Z"
   },
   {
    "duration": 8,
    "start_time": "2023-05-29T14:18:51.204Z"
   },
   {
    "duration": 246,
    "start_time": "2023-05-29T14:18:51.213Z"
   },
   {
    "duration": 31,
    "start_time": "2023-05-29T14:18:51.461Z"
   },
   {
    "duration": 175,
    "start_time": "2023-05-29T14:19:16.357Z"
   },
   {
    "duration": 50,
    "start_time": "2023-05-29T14:38:52.594Z"
   },
   {
    "duration": 55,
    "start_time": "2023-05-29T14:39:24.055Z"
   },
   {
    "duration": 1258,
    "start_time": "2023-05-30T10:05:19.160Z"
   },
   {
    "duration": 761,
    "start_time": "2023-05-30T10:05:20.420Z"
   },
   {
    "duration": 29,
    "start_time": "2023-05-30T10:05:21.183Z"
   },
   {
    "duration": 34,
    "start_time": "2023-05-30T10:05:21.213Z"
   },
   {
    "duration": 3,
    "start_time": "2023-05-30T10:05:21.249Z"
   },
   {
    "duration": 34,
    "start_time": "2023-05-30T10:05:21.254Z"
   },
   {
    "duration": 17,
    "start_time": "2023-05-30T10:05:21.290Z"
   },
   {
    "duration": 35,
    "start_time": "2023-05-30T10:05:21.309Z"
   },
   {
    "duration": 55,
    "start_time": "2023-05-30T10:05:21.346Z"
   },
   {
    "duration": 59,
    "start_time": "2023-05-30T10:05:21.406Z"
   },
   {
    "duration": 71,
    "start_time": "2023-05-30T10:05:21.467Z"
   },
   {
    "duration": 84,
    "start_time": "2023-05-30T10:05:21.539Z"
   },
   {
    "duration": 56,
    "start_time": "2023-05-30T10:05:21.625Z"
   },
   {
    "duration": 25,
    "start_time": "2023-05-30T10:05:21.684Z"
   },
   {
    "duration": 72,
    "start_time": "2023-05-30T10:05:21.718Z"
   },
   {
    "duration": 34,
    "start_time": "2023-05-30T10:05:21.791Z"
   },
   {
    "duration": 19,
    "start_time": "2023-05-30T10:05:21.827Z"
   },
   {
    "duration": 17,
    "start_time": "2023-05-30T10:05:21.848Z"
   },
   {
    "duration": 5,
    "start_time": "2023-05-30T10:05:21.867Z"
   },
   {
    "duration": 5,
    "start_time": "2023-05-30T10:05:21.874Z"
   },
   {
    "duration": 10,
    "start_time": "2023-05-30T10:05:21.881Z"
   },
   {
    "duration": 65,
    "start_time": "2023-05-30T10:05:21.909Z"
   },
   {
    "duration": 5,
    "start_time": "2023-05-30T10:05:21.976Z"
   },
   {
    "duration": 284,
    "start_time": "2023-05-30T10:05:21.983Z"
   },
   {
    "duration": 25,
    "start_time": "2023-05-30T10:05:22.269Z"
   },
   {
    "duration": 16,
    "start_time": "2023-05-30T10:07:44.404Z"
   },
   {
    "duration": 12,
    "start_time": "2023-05-30T10:08:36.409Z"
   },
   {
    "duration": 1048,
    "start_time": "2023-05-30T10:08:48.392Z"
   },
   {
    "duration": 143,
    "start_time": "2023-05-30T10:08:49.442Z"
   },
   {
    "duration": 34,
    "start_time": "2023-05-30T10:08:49.586Z"
   },
   {
    "duration": 30,
    "start_time": "2023-05-30T10:08:49.622Z"
   },
   {
    "duration": 4,
    "start_time": "2023-05-30T10:08:49.654Z"
   },
   {
    "duration": 21,
    "start_time": "2023-05-30T10:08:49.659Z"
   },
   {
    "duration": 14,
    "start_time": "2023-05-30T10:08:49.682Z"
   },
   {
    "duration": 20,
    "start_time": "2023-05-30T10:08:49.697Z"
   },
   {
    "duration": 53,
    "start_time": "2023-05-30T10:08:49.721Z"
   },
   {
    "duration": 70,
    "start_time": "2023-05-30T10:08:49.775Z"
   },
   {
    "duration": 50,
    "start_time": "2023-05-30T10:08:49.847Z"
   },
   {
    "duration": 64,
    "start_time": "2023-05-30T10:08:49.906Z"
   },
   {
    "duration": 72,
    "start_time": "2023-05-30T10:08:49.972Z"
   },
   {
    "duration": 16,
    "start_time": "2023-05-30T10:08:50.047Z"
   },
   {
    "duration": 104,
    "start_time": "2023-05-30T10:08:50.065Z"
   },
   {
    "duration": 34,
    "start_time": "2023-05-30T10:08:50.170Z"
   },
   {
    "duration": 38,
    "start_time": "2023-05-30T10:08:50.205Z"
   },
   {
    "duration": 20,
    "start_time": "2023-05-30T10:08:50.245Z"
   },
   {
    "duration": 3,
    "start_time": "2023-05-30T10:08:50.267Z"
   },
   {
    "duration": 7,
    "start_time": "2023-05-30T10:08:50.271Z"
   },
   {
    "duration": 3,
    "start_time": "2023-05-30T10:08:50.279Z"
   },
   {
    "duration": 38,
    "start_time": "2023-05-30T10:08:50.284Z"
   },
   {
    "duration": 4,
    "start_time": "2023-05-30T10:08:50.324Z"
   },
   {
    "duration": 268,
    "start_time": "2023-05-30T10:08:50.330Z"
   },
   {
    "duration": 43,
    "start_time": "2023-05-30T10:08:50.599Z"
   },
   {
    "duration": 10,
    "start_time": "2023-05-30T10:08:50.645Z"
   },
   {
    "duration": 663,
    "start_time": "2023-05-30T10:11:42.383Z"
   },
   {
    "duration": 204,
    "start_time": "2023-05-30T10:15:21.821Z"
   },
   {
    "duration": 1067,
    "start_time": "2023-05-30T10:15:38.677Z"
   },
   {
    "duration": 147,
    "start_time": "2023-05-30T10:15:39.746Z"
   },
   {
    "duration": 29,
    "start_time": "2023-05-30T10:15:39.895Z"
   },
   {
    "duration": 32,
    "start_time": "2023-05-30T10:15:39.926Z"
   },
   {
    "duration": 4,
    "start_time": "2023-05-30T10:15:39.961Z"
   },
   {
    "duration": 10,
    "start_time": "2023-05-30T10:15:39.966Z"
   },
   {
    "duration": 11,
    "start_time": "2023-05-30T10:15:39.977Z"
   },
   {
    "duration": 39,
    "start_time": "2023-05-30T10:15:39.989Z"
   },
   {
    "duration": 55,
    "start_time": "2023-05-30T10:15:40.030Z"
   },
   {
    "duration": 78,
    "start_time": "2023-05-30T10:15:40.086Z"
   },
   {
    "duration": 65,
    "start_time": "2023-05-30T10:15:40.166Z"
   },
   {
    "duration": 79,
    "start_time": "2023-05-30T10:15:40.232Z"
   },
   {
    "duration": 58,
    "start_time": "2023-05-30T10:15:40.312Z"
   },
   {
    "duration": 16,
    "start_time": "2023-05-30T10:15:40.373Z"
   },
   {
    "duration": 81,
    "start_time": "2023-05-30T10:15:40.390Z"
   },
   {
    "duration": 9,
    "start_time": "2023-05-30T10:15:40.473Z"
   },
   {
    "duration": 38,
    "start_time": "2023-05-30T10:15:40.483Z"
   },
   {
    "duration": 16,
    "start_time": "2023-05-30T10:15:40.522Z"
   },
   {
    "duration": 4,
    "start_time": "2023-05-30T10:15:40.539Z"
   },
   {
    "duration": 17,
    "start_time": "2023-05-30T10:15:40.545Z"
   },
   {
    "duration": 4,
    "start_time": "2023-05-30T10:15:40.564Z"
   },
   {
    "duration": 68,
    "start_time": "2023-05-30T10:15:40.569Z"
   },
   {
    "duration": 3,
    "start_time": "2023-05-30T10:15:40.639Z"
   },
   {
    "duration": 267,
    "start_time": "2023-05-30T10:15:40.644Z"
   },
   {
    "duration": 25,
    "start_time": "2023-05-30T10:15:40.921Z"
   },
   {
    "duration": 243,
    "start_time": "2023-05-30T10:15:40.948Z"
   },
   {
    "duration": 9,
    "start_time": "2023-05-30T10:19:50.501Z"
   },
   {
    "duration": 8,
    "start_time": "2023-05-30T10:20:09.311Z"
   },
   {
    "duration": 1054,
    "start_time": "2023-05-30T10:20:18.584Z"
   },
   {
    "duration": 139,
    "start_time": "2023-05-30T10:20:19.640Z"
   },
   {
    "duration": 28,
    "start_time": "2023-05-30T10:20:19.781Z"
   },
   {
    "duration": 35,
    "start_time": "2023-05-30T10:20:19.810Z"
   },
   {
    "duration": 3,
    "start_time": "2023-05-30T10:20:19.847Z"
   },
   {
    "duration": 12,
    "start_time": "2023-05-30T10:20:19.852Z"
   },
   {
    "duration": 20,
    "start_time": "2023-05-30T10:20:19.866Z"
   },
   {
    "duration": 50,
    "start_time": "2023-05-30T10:20:19.887Z"
   },
   {
    "duration": 52,
    "start_time": "2023-05-30T10:20:19.940Z"
   },
   {
    "duration": 78,
    "start_time": "2023-05-30T10:20:19.994Z"
   },
   {
    "duration": 64,
    "start_time": "2023-05-30T10:20:20.074Z"
   },
   {
    "duration": 66,
    "start_time": "2023-05-30T10:20:20.140Z"
   },
   {
    "duration": 54,
    "start_time": "2023-05-30T10:20:20.208Z"
   },
   {
    "duration": 17,
    "start_time": "2023-05-30T10:20:20.265Z"
   },
   {
    "duration": 86,
    "start_time": "2023-05-30T10:20:20.283Z"
   },
   {
    "duration": 9,
    "start_time": "2023-05-30T10:20:20.371Z"
   },
   {
    "duration": 34,
    "start_time": "2023-05-30T10:20:20.381Z"
   },
   {
    "duration": 15,
    "start_time": "2023-05-30T10:20:20.417Z"
   },
   {
    "duration": 11,
    "start_time": "2023-05-30T10:20:20.434Z"
   },
   {
    "duration": 12,
    "start_time": "2023-05-30T10:20:20.447Z"
   },
   {
    "duration": 4,
    "start_time": "2023-05-30T10:20:20.461Z"
   },
   {
    "duration": 44,
    "start_time": "2023-05-30T10:20:20.466Z"
   },
   {
    "duration": 7,
    "start_time": "2023-05-30T10:20:20.511Z"
   },
   {
    "duration": 277,
    "start_time": "2023-05-30T10:20:20.520Z"
   },
   {
    "duration": 25,
    "start_time": "2023-05-30T10:20:20.798Z"
   },
   {
    "duration": 47,
    "start_time": "2023-05-30T10:20:20.824Z"
   },
   {
    "duration": 7,
    "start_time": "2023-05-30T10:22:12.785Z"
   },
   {
    "duration": 5,
    "start_time": "2023-05-30T10:22:36.635Z"
   },
   {
    "duration": 5,
    "start_time": "2023-05-30T10:23:56.820Z"
   },
   {
    "duration": 4,
    "start_time": "2023-05-30T10:24:17.480Z"
   },
   {
    "duration": 12,
    "start_time": "2023-05-30T10:27:14.635Z"
   },
   {
    "duration": 120,
    "start_time": "2023-05-30T10:34:50.458Z"
   },
   {
    "duration": 10,
    "start_time": "2023-05-30T10:35:08.907Z"
   },
   {
    "duration": 33,
    "start_time": "2023-05-30T10:38:23.348Z"
   },
   {
    "duration": 37,
    "start_time": "2023-05-30T10:49:55.399Z"
   },
   {
    "duration": 54,
    "start_time": "2023-05-30T10:50:34.318Z"
   },
   {
    "duration": 1801,
    "start_time": "2023-05-30T10:51:38.086Z"
   },
   {
    "duration": 1892,
    "start_time": "2023-05-30T10:52:02.490Z"
   },
   {
    "duration": 70,
    "start_time": "2023-05-30T10:52:25.204Z"
   },
   {
    "duration": 52,
    "start_time": "2023-05-30T10:54:59.717Z"
   },
   {
    "duration": 56,
    "start_time": "2023-05-30T10:55:39.850Z"
   },
   {
    "duration": 77,
    "start_time": "2023-05-30T10:55:54.147Z"
   },
   {
    "duration": 52,
    "start_time": "2023-05-30T10:57:33.765Z"
   },
   {
    "duration": 8,
    "start_time": "2023-05-30T10:58:15.789Z"
   },
   {
    "duration": 7,
    "start_time": "2023-05-30T10:58:59.262Z"
   },
   {
    "duration": 1118,
    "start_time": "2023-05-30T10:59:16.024Z"
   },
   {
    "duration": 142,
    "start_time": "2023-05-30T10:59:17.143Z"
   },
   {
    "duration": 27,
    "start_time": "2023-05-30T10:59:17.286Z"
   },
   {
    "duration": 33,
    "start_time": "2023-05-30T10:59:17.317Z"
   },
   {
    "duration": 4,
    "start_time": "2023-05-30T10:59:17.352Z"
   },
   {
    "duration": 15,
    "start_time": "2023-05-30T10:59:17.357Z"
   },
   {
    "duration": 17,
    "start_time": "2023-05-30T10:59:17.373Z"
   },
   {
    "duration": 46,
    "start_time": "2023-05-30T10:59:17.392Z"
   },
   {
    "duration": 51,
    "start_time": "2023-05-30T10:59:17.439Z"
   },
   {
    "duration": 56,
    "start_time": "2023-05-30T10:59:17.493Z"
   },
   {
    "duration": 58,
    "start_time": "2023-05-30T10:59:17.551Z"
   },
   {
    "duration": 59,
    "start_time": "2023-05-30T10:59:17.611Z"
   },
   {
    "duration": 72,
    "start_time": "2023-05-30T10:59:17.672Z"
   },
   {
    "duration": 17,
    "start_time": "2023-05-30T10:59:17.746Z"
   },
   {
    "duration": 81,
    "start_time": "2023-05-30T10:59:17.765Z"
   },
   {
    "duration": 14,
    "start_time": "2023-05-30T10:59:17.848Z"
   },
   {
    "duration": 35,
    "start_time": "2023-05-30T10:59:17.863Z"
   },
   {
    "duration": 25,
    "start_time": "2023-05-30T10:59:17.900Z"
   },
   {
    "duration": 4,
    "start_time": "2023-05-30T10:59:17.927Z"
   },
   {
    "duration": 8,
    "start_time": "2023-05-30T10:59:17.933Z"
   },
   {
    "duration": 8,
    "start_time": "2023-05-30T10:59:17.943Z"
   },
   {
    "duration": 78,
    "start_time": "2023-05-30T10:59:17.953Z"
   },
   {
    "duration": 14,
    "start_time": "2023-05-30T10:59:18.032Z"
   },
   {
    "duration": 268,
    "start_time": "2023-05-30T10:59:18.047Z"
   },
   {
    "duration": 25,
    "start_time": "2023-05-30T10:59:18.316Z"
   },
   {
    "duration": 40,
    "start_time": "2023-05-30T10:59:18.343Z"
   },
   {
    "duration": 6,
    "start_time": "2023-05-30T10:59:18.385Z"
   },
   {
    "duration": 4,
    "start_time": "2023-05-30T10:59:18.407Z"
   },
   {
    "duration": 5,
    "start_time": "2023-05-30T10:59:18.413Z"
   },
   {
    "duration": 5,
    "start_time": "2023-05-30T10:59:18.420Z"
   },
   {
    "duration": 9,
    "start_time": "2023-05-30T10:59:18.426Z"
   },
   {
    "duration": 30,
    "start_time": "2023-05-30T10:59:18.437Z"
   },
   {
    "duration": 72,
    "start_time": "2023-05-30T10:59:18.469Z"
   },
   {
    "duration": 9,
    "start_time": "2023-05-30T10:59:18.543Z"
   },
   {
    "duration": 53,
    "start_time": "2023-05-30T10:59:38.350Z"
   },
   {
    "duration": 1278,
    "start_time": "2023-06-01T06:37:07.619Z"
   },
   {
    "duration": 726,
    "start_time": "2023-06-01T06:37:10.252Z"
   },
   {
    "duration": 25,
    "start_time": "2023-06-01T06:37:10.980Z"
   },
   {
    "duration": 34,
    "start_time": "2023-06-01T06:37:11.507Z"
   },
   {
    "duration": 4,
    "start_time": "2023-06-01T06:37:16.348Z"
   },
   {
    "duration": 14,
    "start_time": "2023-06-01T06:37:16.354Z"
   },
   {
    "duration": 7,
    "start_time": "2023-06-01T06:37:16.369Z"
   },
   {
    "duration": 19,
    "start_time": "2023-06-01T06:37:16.378Z"
   },
   {
    "duration": 54,
    "start_time": "2023-06-01T06:37:16.399Z"
   },
   {
    "duration": 59,
    "start_time": "2023-06-01T06:37:16.454Z"
   },
   {
    "duration": 54,
    "start_time": "2023-06-01T06:37:16.525Z"
   },
   {
    "duration": 76,
    "start_time": "2023-06-01T06:37:16.581Z"
   },
   {
    "duration": 74,
    "start_time": "2023-06-01T06:37:16.658Z"
   },
   {
    "duration": 20,
    "start_time": "2023-06-01T06:37:16.734Z"
   },
   {
    "duration": 84,
    "start_time": "2023-06-01T06:37:16.756Z"
   },
   {
    "duration": 11,
    "start_time": "2023-06-01T06:37:16.841Z"
   },
   {
    "duration": 19,
    "start_time": "2023-06-01T06:37:16.855Z"
   },
   {
    "duration": 17,
    "start_time": "2023-06-01T06:37:16.875Z"
   },
   {
    "duration": 3,
    "start_time": "2023-06-01T06:37:16.894Z"
   },
   {
    "duration": 5,
    "start_time": "2023-06-01T06:37:16.925Z"
   },
   {
    "duration": 5,
    "start_time": "2023-06-01T06:37:16.932Z"
   },
   {
    "duration": 41,
    "start_time": "2023-06-01T06:37:16.938Z"
   },
   {
    "duration": 6,
    "start_time": "2023-06-01T06:37:16.980Z"
   },
   {
    "duration": 277,
    "start_time": "2023-06-01T06:37:16.987Z"
   },
   {
    "duration": 33,
    "start_time": "2023-06-01T06:37:17.265Z"
   },
   {
    "duration": 49,
    "start_time": "2023-06-01T06:37:17.299Z"
   },
   {
    "duration": 7,
    "start_time": "2023-06-01T06:37:17.350Z"
   },
   {
    "duration": 4,
    "start_time": "2023-06-01T06:37:17.358Z"
   },
   {
    "duration": 7,
    "start_time": "2023-06-01T06:37:17.363Z"
   },
   {
    "duration": 5,
    "start_time": "2023-06-01T06:37:17.371Z"
   },
   {
    "duration": 8,
    "start_time": "2023-06-01T06:37:17.377Z"
   },
   {
    "duration": 55,
    "start_time": "2023-06-01T06:37:17.386Z"
   },
   {
    "duration": 60,
    "start_time": "2023-06-01T06:37:17.443Z"
   },
   {
    "duration": 4,
    "start_time": "2023-06-01T06:50:28.937Z"
   },
   {
    "duration": 246,
    "start_time": "2023-06-01T06:50:28.944Z"
   },
   {
    "duration": 36,
    "start_time": "2023-06-01T06:50:29.192Z"
   },
   {
    "duration": 36,
    "start_time": "2023-06-01T06:50:29.230Z"
   },
   {
    "duration": 5,
    "start_time": "2023-06-01T06:50:29.269Z"
   },
   {
    "duration": 13,
    "start_time": "2023-06-01T06:50:29.276Z"
   },
   {
    "duration": 41,
    "start_time": "2023-06-01T06:50:29.291Z"
   },
   {
    "duration": 37,
    "start_time": "2023-06-01T06:50:29.334Z"
   },
   {
    "duration": 57,
    "start_time": "2023-06-01T06:50:29.374Z"
   },
   {
    "duration": 96,
    "start_time": "2023-06-01T06:50:29.434Z"
   },
   {
    "duration": 102,
    "start_time": "2023-06-01T06:50:29.533Z"
   },
   {
    "duration": 108,
    "start_time": "2023-06-01T06:50:29.639Z"
   },
   {
    "duration": 100,
    "start_time": "2023-06-01T06:50:29.750Z"
   },
   {
    "duration": 32,
    "start_time": "2023-06-01T06:50:29.855Z"
   },
   {
    "duration": 142,
    "start_time": "2023-06-01T06:50:29.889Z"
   },
   {
    "duration": 14,
    "start_time": "2023-06-01T06:50:30.034Z"
   },
   {
    "duration": 48,
    "start_time": "2023-06-01T06:50:30.050Z"
   },
   {
    "duration": 33,
    "start_time": "2023-06-01T06:50:30.100Z"
   },
   {
    "duration": 5,
    "start_time": "2023-06-01T06:50:30.134Z"
   },
   {
    "duration": 19,
    "start_time": "2023-06-01T06:50:30.141Z"
   },
   {
    "duration": 28,
    "start_time": "2023-06-01T06:50:30.162Z"
   },
   {
    "duration": 62,
    "start_time": "2023-06-01T06:50:30.192Z"
   },
   {
    "duration": 20,
    "start_time": "2023-06-01T06:50:30.257Z"
   },
   {
    "duration": 278,
    "start_time": "2023-06-01T06:50:30.279Z"
   },
   {
    "duration": 32,
    "start_time": "2023-06-01T06:50:30.559Z"
   },
   {
    "duration": 155,
    "start_time": "2023-06-01T06:50:30.592Z"
   },
   {
    "duration": 11,
    "start_time": "2023-06-01T06:50:30.749Z"
   },
   {
    "duration": 38,
    "start_time": "2023-06-01T06:50:30.762Z"
   },
   {
    "duration": 60,
    "start_time": "2023-06-01T06:50:30.802Z"
   },
   {
    "duration": 61,
    "start_time": "2023-06-01T06:50:30.863Z"
   },
   {
    "duration": 273,
    "start_time": "2023-06-01T06:50:30.926Z"
   },
   {
    "duration": 70,
    "start_time": "2023-06-01T06:50:31.201Z"
   },
   {
    "duration": 135,
    "start_time": "2023-06-01T06:50:31.273Z"
   },
   {
    "duration": 4,
    "start_time": "2023-06-01T06:59:02.703Z"
   },
   {
    "duration": 217,
    "start_time": "2023-06-01T06:59:02.709Z"
   },
   {
    "duration": 37,
    "start_time": "2023-06-01T06:59:02.928Z"
   },
   {
    "duration": 27,
    "start_time": "2023-06-01T06:59:02.969Z"
   },
   {
    "duration": 4,
    "start_time": "2023-06-01T06:59:02.997Z"
   },
   {
    "duration": 23,
    "start_time": "2023-06-01T06:59:03.029Z"
   },
   {
    "duration": 6,
    "start_time": "2023-06-01T06:59:03.055Z"
   },
   {
    "duration": 38,
    "start_time": "2023-06-01T06:59:03.063Z"
   },
   {
    "duration": 53,
    "start_time": "2023-06-01T06:59:03.103Z"
   },
   {
    "duration": 100,
    "start_time": "2023-06-01T06:59:03.160Z"
   },
   {
    "duration": 91,
    "start_time": "2023-06-01T06:59:03.265Z"
   },
   {
    "duration": 71,
    "start_time": "2023-06-01T06:59:03.361Z"
   },
   {
    "duration": 93,
    "start_time": "2023-06-01T06:59:03.434Z"
   },
   {
    "duration": 38,
    "start_time": "2023-06-01T06:59:03.529Z"
   },
   {
    "duration": 148,
    "start_time": "2023-06-01T06:59:03.570Z"
   },
   {
    "duration": 19,
    "start_time": "2023-06-01T06:59:03.720Z"
   },
   {
    "duration": 29,
    "start_time": "2023-06-01T06:59:03.741Z"
   },
   {
    "duration": 19,
    "start_time": "2023-06-01T06:59:03.772Z"
   },
   {
    "duration": 14,
    "start_time": "2023-06-01T06:59:03.793Z"
   },
   {
    "duration": 12,
    "start_time": "2023-06-01T06:59:03.838Z"
   },
   {
    "duration": 5,
    "start_time": "2023-06-01T06:59:03.853Z"
   },
   {
    "duration": 39,
    "start_time": "2023-06-01T06:59:03.861Z"
   },
   {
    "duration": 6,
    "start_time": "2023-06-01T06:59:03.902Z"
   },
   {
    "duration": 279,
    "start_time": "2023-06-01T06:59:03.909Z"
   },
   {
    "duration": 44,
    "start_time": "2023-06-01T06:59:04.190Z"
   },
   {
    "duration": 51,
    "start_time": "2023-06-01T06:59:04.236Z"
   },
   {
    "duration": 9,
    "start_time": "2023-06-01T06:59:04.290Z"
   },
   {
    "duration": 5,
    "start_time": "2023-06-01T06:59:04.302Z"
   },
   {
    "duration": 18,
    "start_time": "2023-06-01T06:59:04.309Z"
   },
   {
    "duration": 6,
    "start_time": "2023-06-01T06:59:04.329Z"
   },
   {
    "duration": 12,
    "start_time": "2023-06-01T06:59:04.337Z"
   },
   {
    "duration": 51,
    "start_time": "2023-06-01T06:59:04.351Z"
   },
   {
    "duration": 106,
    "start_time": "2023-06-01T06:59:04.404Z"
   },
   {
    "duration": 8,
    "start_time": "2023-06-01T07:17:02.920Z"
   },
   {
    "duration": 9,
    "start_time": "2023-06-01T07:17:26.002Z"
   },
   {
    "duration": 7,
    "start_time": "2023-06-01T07:17:41.579Z"
   },
   {
    "duration": 118,
    "start_time": "2023-06-01T07:18:21.285Z"
   },
   {
    "duration": 4,
    "start_time": "2023-06-01T07:18:46.798Z"
   },
   {
    "duration": 8,
    "start_time": "2023-06-01T07:18:54.350Z"
   },
   {
    "duration": 4,
    "start_time": "2023-06-01T07:19:13.985Z"
   },
   {
    "duration": 7,
    "start_time": "2023-06-01T07:19:28.645Z"
   },
   {
    "duration": 18,
    "start_time": "2023-06-01T07:20:04.345Z"
   },
   {
    "duration": 20,
    "start_time": "2023-06-01T07:23:18.011Z"
   },
   {
    "duration": 9,
    "start_time": "2023-06-01T07:23:37.003Z"
   },
   {
    "duration": 10,
    "start_time": "2023-06-01T07:33:35.350Z"
   },
   {
    "duration": 214,
    "start_time": "2023-06-01T07:33:35.362Z"
   },
   {
    "duration": 21,
    "start_time": "2023-06-01T07:33:35.578Z"
   },
   {
    "duration": 42,
    "start_time": "2023-06-01T07:33:35.600Z"
   },
   {
    "duration": 4,
    "start_time": "2023-06-01T07:33:35.645Z"
   },
   {
    "duration": 11,
    "start_time": "2023-06-01T07:33:35.651Z"
   },
   {
    "duration": 6,
    "start_time": "2023-06-01T07:33:35.666Z"
   },
   {
    "duration": 19,
    "start_time": "2023-06-01T07:33:35.673Z"
   },
   {
    "duration": 55,
    "start_time": "2023-06-01T07:33:35.693Z"
   },
   {
    "duration": 69,
    "start_time": "2023-06-01T07:33:35.751Z"
   },
   {
    "duration": 84,
    "start_time": "2023-06-01T07:33:35.830Z"
   },
   {
    "duration": 95,
    "start_time": "2023-06-01T07:33:35.916Z"
   },
   {
    "duration": 82,
    "start_time": "2023-06-01T07:33:36.012Z"
   },
   {
    "duration": 19,
    "start_time": "2023-06-01T07:33:36.097Z"
   },
   {
    "duration": 92,
    "start_time": "2023-06-01T07:33:36.118Z"
   },
   {
    "duration": 8,
    "start_time": "2023-06-01T07:33:36.212Z"
   },
   {
    "duration": 46,
    "start_time": "2023-06-01T07:33:36.222Z"
   },
   {
    "duration": 17,
    "start_time": "2023-06-01T07:33:36.269Z"
   },
   {
    "duration": 5,
    "start_time": "2023-06-01T07:33:36.287Z"
   },
   {
    "duration": 16,
    "start_time": "2023-06-01T07:33:36.294Z"
   },
   {
    "duration": 22,
    "start_time": "2023-06-01T07:33:36.311Z"
   },
   {
    "duration": 61,
    "start_time": "2023-06-01T07:33:36.337Z"
   },
   {
    "duration": 7,
    "start_time": "2023-06-01T07:33:36.399Z"
   },
   {
    "duration": 242,
    "start_time": "2023-06-01T07:33:36.409Z"
   },
   {
    "duration": 33,
    "start_time": "2023-06-01T07:33:36.655Z"
   },
   {
    "duration": 50,
    "start_time": "2023-06-01T07:33:36.689Z"
   },
   {
    "duration": 13,
    "start_time": "2023-06-01T07:33:36.755Z"
   },
   {
    "duration": 4,
    "start_time": "2023-06-01T07:33:36.770Z"
   },
   {
    "duration": 13,
    "start_time": "2023-06-01T07:33:36.775Z"
   },
   {
    "duration": 10,
    "start_time": "2023-06-01T07:33:36.790Z"
   },
   {
    "duration": 8,
    "start_time": "2023-06-01T07:33:36.802Z"
   },
   {
    "duration": 29,
    "start_time": "2023-06-01T07:33:36.812Z"
   },
   {
    "duration": 71,
    "start_time": "2023-06-01T07:33:36.843Z"
   },
   {
    "duration": 15,
    "start_time": "2023-06-01T07:33:36.916Z"
   },
   {
    "duration": 15,
    "start_time": "2023-06-01T07:33:36.933Z"
   },
   {
    "duration": 12,
    "start_time": "2023-06-01T07:33:36.951Z"
   },
   {
    "duration": 9,
    "start_time": "2023-06-01T07:45:02.287Z"
   },
   {
    "duration": 11,
    "start_time": "2023-06-01T07:45:06.984Z"
   },
   {
    "duration": 115,
    "start_time": "2023-06-01T07:45:10.854Z"
   },
   {
    "duration": 29,
    "start_time": "2023-06-01T07:45:57.459Z"
   },
   {
    "duration": 120,
    "start_time": "2023-06-01T07:46:14.715Z"
   },
   {
    "duration": 3,
    "start_time": "2023-06-01T07:46:50.271Z"
   },
   {
    "duration": 4371,
    "start_time": "2023-06-01T07:47:27.248Z"
   },
   {
    "duration": 4077,
    "start_time": "2023-06-01T07:47:38.617Z"
   },
   {
    "duration": 10,
    "start_time": "2023-06-01T07:47:57.283Z"
   },
   {
    "duration": 76,
    "start_time": "2023-06-01T07:48:01.357Z"
   },
   {
    "duration": 6,
    "start_time": "2023-06-01T07:48:03.987Z"
   },
   {
    "duration": 12,
    "start_time": "2023-06-01T07:48:12.090Z"
   },
   {
    "duration": 7,
    "start_time": "2023-06-01T07:50:50.708Z"
   },
   {
    "duration": 14,
    "start_time": "2023-06-01T07:51:29.490Z"
   },
   {
    "duration": 8,
    "start_time": "2023-06-01T07:51:33.978Z"
   },
   {
    "duration": 8,
    "start_time": "2023-06-01T07:51:51.661Z"
   },
   {
    "duration": 13,
    "start_time": "2023-06-01T07:57:09.016Z"
   },
   {
    "duration": 8,
    "start_time": "2023-06-01T07:57:16.775Z"
   },
   {
    "duration": 125,
    "start_time": "2023-06-01T08:02:50.302Z"
   },
   {
    "duration": 13,
    "start_time": "2023-06-01T08:04:17.755Z"
   },
   {
    "duration": 3,
    "start_time": "2023-06-01T08:04:22.491Z"
   },
   {
    "duration": 104,
    "start_time": "2023-06-01T08:06:24.451Z"
   },
   {
    "duration": 82,
    "start_time": "2023-06-01T08:06:33.700Z"
   },
   {
    "duration": 61,
    "start_time": "2023-06-01T08:06:43.687Z"
   },
   {
    "duration": 32,
    "start_time": "2023-06-01T08:09:48.781Z"
   },
   {
    "duration": 83,
    "start_time": "2023-06-01T08:10:05.063Z"
   },
   {
    "duration": 2414,
    "start_time": "2023-06-01T08:10:38.379Z"
   },
   {
    "duration": 2414,
    "start_time": "2023-06-01T08:10:51.896Z"
   },
   {
    "duration": 72,
    "start_time": "2023-06-01T08:10:58.748Z"
   },
   {
    "duration": 67,
    "start_time": "2023-06-01T08:11:09.114Z"
   },
   {
    "duration": 98,
    "start_time": "2023-06-01T08:11:17.566Z"
   },
   {
    "duration": 106,
    "start_time": "2023-06-01T08:11:44.150Z"
   },
   {
    "duration": 8,
    "start_time": "2023-06-01T08:11:53.574Z"
   },
   {
    "duration": 14,
    "start_time": "2023-06-01T08:11:59.663Z"
   },
   {
    "duration": 7,
    "start_time": "2023-06-01T08:12:32.372Z"
   },
   {
    "duration": 5,
    "start_time": "2023-06-01T08:12:53.584Z"
   },
   {
    "duration": 6,
    "start_time": "2023-06-01T08:13:04.988Z"
   },
   {
    "duration": 7,
    "start_time": "2023-06-01T08:13:26.301Z"
   },
   {
    "duration": 6,
    "start_time": "2023-06-01T08:20:03.800Z"
   },
   {
    "duration": 11,
    "start_time": "2023-06-01T08:20:52.251Z"
   },
   {
    "duration": 31,
    "start_time": "2023-06-01T08:20:56.261Z"
   },
   {
    "duration": 14,
    "start_time": "2023-06-01T08:21:25.363Z"
   },
   {
    "duration": 14,
    "start_time": "2023-06-01T08:22:02.963Z"
   },
   {
    "duration": 8,
    "start_time": "2023-06-01T08:22:29.205Z"
   },
   {
    "duration": 119,
    "start_time": "2023-06-01T12:34:27.487Z"
   },
   {
    "duration": 11,
    "start_time": "2023-06-01T12:34:35.679Z"
   },
   {
    "duration": 14,
    "start_time": "2023-06-01T12:34:52.298Z"
   },
   {
    "duration": 18,
    "start_time": "2023-06-01T12:34:57.775Z"
   },
   {
    "duration": 23,
    "start_time": "2023-06-01T12:35:31.751Z"
   },
   {
    "duration": 14,
    "start_time": "2023-06-01T12:35:46.605Z"
   },
   {
    "duration": 12,
    "start_time": "2023-06-01T12:39:38.282Z"
   },
   {
    "duration": 17,
    "start_time": "2023-06-01T12:39:59.311Z"
   },
   {
    "duration": 128,
    "start_time": "2023-06-01T12:43:14.282Z"
   },
   {
    "duration": 16,
    "start_time": "2023-06-01T12:43:19.810Z"
   },
   {
    "duration": 16,
    "start_time": "2023-06-01T12:43:23.546Z"
   },
   {
    "duration": 18,
    "start_time": "2023-06-01T12:43:32.140Z"
   },
   {
    "duration": 1110,
    "start_time": "2023-06-01T14:19:44.492Z"
   },
   {
    "duration": 162,
    "start_time": "2023-06-01T14:19:45.605Z"
   },
   {
    "duration": 26,
    "start_time": "2023-06-01T14:19:45.771Z"
   },
   {
    "duration": 49,
    "start_time": "2023-06-01T14:19:45.799Z"
   },
   {
    "duration": 4,
    "start_time": "2023-06-01T14:19:45.849Z"
   },
   {
    "duration": 11,
    "start_time": "2023-06-01T14:19:45.854Z"
   },
   {
    "duration": 9,
    "start_time": "2023-06-01T14:19:45.866Z"
   },
   {
    "duration": 25,
    "start_time": "2023-06-01T14:19:45.877Z"
   },
   {
    "duration": 54,
    "start_time": "2023-06-01T14:19:45.924Z"
   },
   {
    "duration": 75,
    "start_time": "2023-06-01T14:19:45.980Z"
   },
   {
    "duration": 55,
    "start_time": "2023-06-01T14:19:46.056Z"
   },
   {
    "duration": 65,
    "start_time": "2023-06-01T14:19:46.124Z"
   },
   {
    "duration": 78,
    "start_time": "2023-06-01T14:19:46.191Z"
   },
   {
    "duration": 20,
    "start_time": "2023-06-01T14:19:46.270Z"
   },
   {
    "duration": 86,
    "start_time": "2023-06-01T14:19:46.292Z"
   },
   {
    "duration": 11,
    "start_time": "2023-06-01T14:19:46.379Z"
   },
   {
    "duration": 22,
    "start_time": "2023-06-01T14:19:46.391Z"
   },
   {
    "duration": 17,
    "start_time": "2023-06-01T14:19:46.424Z"
   },
   {
    "duration": 3,
    "start_time": "2023-06-01T14:19:46.442Z"
   },
   {
    "duration": 8,
    "start_time": "2023-06-01T14:19:46.446Z"
   },
   {
    "duration": 3,
    "start_time": "2023-06-01T14:19:46.455Z"
   },
   {
    "duration": 66,
    "start_time": "2023-06-01T14:19:46.459Z"
   },
   {
    "duration": 4,
    "start_time": "2023-06-01T14:19:46.526Z"
   },
   {
    "duration": 266,
    "start_time": "2023-06-01T14:19:46.531Z"
   },
   {
    "duration": 35,
    "start_time": "2023-06-01T14:19:46.798Z"
   },
   {
    "duration": 57,
    "start_time": "2023-06-01T14:19:46.835Z"
   },
   {
    "duration": 7,
    "start_time": "2023-06-01T14:19:46.894Z"
   },
   {
    "duration": 4,
    "start_time": "2023-06-01T14:19:46.902Z"
   },
   {
    "duration": 5,
    "start_time": "2023-06-01T14:19:46.907Z"
   },
   {
    "duration": 14,
    "start_time": "2023-06-01T14:19:46.913Z"
   },
   {
    "duration": 8,
    "start_time": "2023-06-01T14:19:46.928Z"
   },
   {
    "duration": 30,
    "start_time": "2023-06-01T14:19:46.938Z"
   },
   {
    "duration": 74,
    "start_time": "2023-06-01T14:19:46.969Z"
   },
   {
    "duration": 4,
    "start_time": "2023-06-01T14:19:47.044Z"
   },
   {
    "duration": 15,
    "start_time": "2023-06-01T14:19:47.049Z"
   },
   {
    "duration": 39,
    "start_time": "2023-06-01T14:19:47.066Z"
   },
   {
    "duration": 132,
    "start_time": "2023-06-01T14:19:47.107Z"
   },
   {
    "duration": 5,
    "start_time": "2023-06-01T14:19:47.241Z"
   },
   {
    "duration": 22,
    "start_time": "2023-06-01T14:19:47.248Z"
   },
   {
    "duration": 11,
    "start_time": "2023-06-01T14:19:47.272Z"
   },
   {
    "duration": 46,
    "start_time": "2023-06-01T14:19:47.284Z"
   },
   {
    "duration": 14,
    "start_time": "2023-06-01T14:19:47.331Z"
   },
   {
    "duration": 1147,
    "start_time": "2023-06-01T14:48:22.837Z"
   },
   {
    "duration": 181,
    "start_time": "2023-06-01T14:48:23.986Z"
   },
   {
    "duration": 28,
    "start_time": "2023-06-01T14:48:24.170Z"
   },
   {
    "duration": 49,
    "start_time": "2023-06-01T14:48:24.199Z"
   },
   {
    "duration": 5,
    "start_time": "2023-06-01T14:48:24.250Z"
   },
   {
    "duration": 12,
    "start_time": "2023-06-01T14:48:24.256Z"
   },
   {
    "duration": 13,
    "start_time": "2023-06-01T14:48:24.270Z"
   },
   {
    "duration": 40,
    "start_time": "2023-06-01T14:48:24.285Z"
   },
   {
    "duration": 57,
    "start_time": "2023-06-01T14:48:24.327Z"
   },
   {
    "duration": 86,
    "start_time": "2023-06-01T14:48:24.386Z"
   },
   {
    "duration": 81,
    "start_time": "2023-06-01T14:48:24.474Z"
   },
   {
    "duration": 87,
    "start_time": "2023-06-01T14:48:24.557Z"
   },
   {
    "duration": 81,
    "start_time": "2023-06-01T14:48:24.646Z"
   },
   {
    "duration": 20,
    "start_time": "2023-06-01T14:48:24.731Z"
   },
   {
    "duration": 97,
    "start_time": "2023-06-01T14:48:24.753Z"
   },
   {
    "duration": 12,
    "start_time": "2023-06-01T14:48:24.853Z"
   },
   {
    "duration": 32,
    "start_time": "2023-06-01T14:48:24.867Z"
   },
   {
    "duration": 44,
    "start_time": "2023-06-01T14:48:24.901Z"
   },
   {
    "duration": 41,
    "start_time": "2023-06-01T14:48:24.947Z"
   },
   {
    "duration": 12,
    "start_time": "2023-06-01T14:48:24.989Z"
   },
   {
    "duration": 4,
    "start_time": "2023-06-01T14:48:25.003Z"
   },
   {
    "duration": 71,
    "start_time": "2023-06-01T14:48:25.008Z"
   },
   {
    "duration": 29,
    "start_time": "2023-06-01T14:48:25.081Z"
   },
   {
    "duration": 286,
    "start_time": "2023-06-01T14:48:25.111Z"
   },
   {
    "duration": 36,
    "start_time": "2023-06-01T14:48:25.398Z"
   },
   {
    "duration": 68,
    "start_time": "2023-06-01T14:48:25.436Z"
   },
   {
    "duration": 7,
    "start_time": "2023-06-01T14:48:25.506Z"
   },
   {
    "duration": 4,
    "start_time": "2023-06-01T14:48:25.516Z"
   },
   {
    "duration": 5,
    "start_time": "2023-06-01T14:48:25.525Z"
   },
   {
    "duration": 5,
    "start_time": "2023-06-01T14:48:25.532Z"
   },
   {
    "duration": 10,
    "start_time": "2023-06-01T14:48:25.538Z"
   },
   {
    "duration": 28,
    "start_time": "2023-06-01T14:48:25.551Z"
   },
   {
    "duration": 114,
    "start_time": "2023-06-01T14:48:25.580Z"
   },
   {
    "duration": 4,
    "start_time": "2023-06-01T14:48:25.696Z"
   },
   {
    "duration": 29,
    "start_time": "2023-06-01T14:48:25.701Z"
   },
   {
    "duration": 52,
    "start_time": "2023-06-01T14:48:25.732Z"
   },
   {
    "duration": 188,
    "start_time": "2023-06-01T14:48:25.786Z"
   },
   {
    "duration": 5,
    "start_time": "2023-06-01T14:48:25.975Z"
   },
   {
    "duration": 25,
    "start_time": "2023-06-01T14:48:25.982Z"
   },
   {
    "duration": 13,
    "start_time": "2023-06-01T14:48:26.024Z"
   },
   {
    "duration": 13,
    "start_time": "2023-06-01T14:48:26.041Z"
   },
   {
    "duration": 14,
    "start_time": "2023-06-01T14:48:26.056Z"
   },
   {
    "duration": 1165,
    "start_time": "2023-06-01T14:49:18.085Z"
   },
   {
    "duration": 169,
    "start_time": "2023-06-01T14:49:19.252Z"
   },
   {
    "duration": 26,
    "start_time": "2023-06-01T14:49:19.423Z"
   },
   {
    "duration": 35,
    "start_time": "2023-06-01T14:49:19.452Z"
   },
   {
    "duration": 3,
    "start_time": "2023-06-01T14:49:19.489Z"
   },
   {
    "duration": 34,
    "start_time": "2023-06-01T14:49:19.494Z"
   },
   {
    "duration": 11,
    "start_time": "2023-06-01T14:49:19.530Z"
   },
   {
    "duration": 48,
    "start_time": "2023-06-01T14:49:19.543Z"
   },
   {
    "duration": 76,
    "start_time": "2023-06-01T14:49:19.593Z"
   },
   {
    "duration": 95,
    "start_time": "2023-06-01T14:49:19.673Z"
   },
   {
    "duration": 68,
    "start_time": "2023-06-01T14:49:19.770Z"
   },
   {
    "duration": 85,
    "start_time": "2023-06-01T14:49:19.840Z"
   },
   {
    "duration": 80,
    "start_time": "2023-06-01T14:49:19.927Z"
   },
   {
    "duration": 40,
    "start_time": "2023-06-01T14:49:20.009Z"
   },
   {
    "duration": 121,
    "start_time": "2023-06-01T14:49:20.052Z"
   },
   {
    "duration": 14,
    "start_time": "2023-06-01T14:49:20.175Z"
   },
   {
    "duration": 47,
    "start_time": "2023-06-01T14:49:20.191Z"
   },
   {
    "duration": 18,
    "start_time": "2023-06-01T14:49:20.239Z"
   },
   {
    "duration": 7,
    "start_time": "2023-06-01T14:49:20.259Z"
   },
   {
    "duration": 7,
    "start_time": "2023-06-01T14:49:20.267Z"
   },
   {
    "duration": 9,
    "start_time": "2023-06-01T14:49:20.275Z"
   },
   {
    "duration": 83,
    "start_time": "2023-06-01T14:49:20.286Z"
   },
   {
    "duration": 10,
    "start_time": "2023-06-01T14:49:20.371Z"
   },
   {
    "duration": 308,
    "start_time": "2023-06-01T14:49:20.382Z"
   },
   {
    "duration": 36,
    "start_time": "2023-06-01T14:49:20.692Z"
   },
   {
    "duration": 58,
    "start_time": "2023-06-01T14:49:20.730Z"
   },
   {
    "duration": 7,
    "start_time": "2023-06-01T14:49:20.789Z"
   },
   {
    "duration": 5,
    "start_time": "2023-06-01T14:49:20.800Z"
   },
   {
    "duration": 7,
    "start_time": "2023-06-01T14:49:20.830Z"
   },
   {
    "duration": 16,
    "start_time": "2023-06-01T14:49:20.839Z"
   },
   {
    "duration": 11,
    "start_time": "2023-06-01T14:49:20.857Z"
   },
   {
    "duration": 33,
    "start_time": "2023-06-01T14:49:20.869Z"
   },
   {
    "duration": 86,
    "start_time": "2023-06-01T14:49:20.904Z"
   },
   {
    "duration": 4,
    "start_time": "2023-06-01T14:49:20.992Z"
   },
   {
    "duration": 33,
    "start_time": "2023-06-01T14:49:20.999Z"
   },
   {
    "duration": 42,
    "start_time": "2023-06-01T14:49:21.034Z"
   },
   {
    "duration": 155,
    "start_time": "2023-06-01T14:49:21.078Z"
   },
   {
    "duration": 4,
    "start_time": "2023-06-01T14:49:21.235Z"
   },
   {
    "duration": 20,
    "start_time": "2023-06-01T14:49:21.242Z"
   },
   {
    "duration": 12,
    "start_time": "2023-06-01T14:49:21.264Z"
   },
   {
    "duration": 50,
    "start_time": "2023-06-01T14:49:21.279Z"
   },
   {
    "duration": 13,
    "start_time": "2023-06-01T14:49:21.331Z"
   },
   {
    "duration": 4,
    "start_time": "2023-06-01T14:50:03.362Z"
   },
   {
    "duration": 184,
    "start_time": "2023-06-01T14:50:03.368Z"
   },
   {
    "duration": 24,
    "start_time": "2023-06-01T14:50:03.554Z"
   },
   {
    "duration": 48,
    "start_time": "2023-06-01T14:50:03.580Z"
   },
   {
    "duration": 4,
    "start_time": "2023-06-01T14:50:03.631Z"
   },
   {
    "duration": 24,
    "start_time": "2023-06-01T14:50:03.637Z"
   },
   {
    "duration": 22,
    "start_time": "2023-06-01T14:50:03.663Z"
   },
   {
    "duration": 53,
    "start_time": "2023-06-01T14:50:03.687Z"
   },
   {
    "duration": 57,
    "start_time": "2023-06-01T14:50:03.743Z"
   },
   {
    "duration": 98,
    "start_time": "2023-06-01T14:50:03.802Z"
   },
   {
    "duration": 76,
    "start_time": "2023-06-01T14:50:03.902Z"
   },
   {
    "duration": 77,
    "start_time": "2023-06-01T14:50:03.980Z"
   },
   {
    "duration": 80,
    "start_time": "2023-06-01T14:50:04.059Z"
   },
   {
    "duration": 23,
    "start_time": "2023-06-01T14:50:04.142Z"
   },
   {
    "duration": 101,
    "start_time": "2023-06-01T14:50:04.167Z"
   },
   {
    "duration": 10,
    "start_time": "2023-06-01T14:50:04.270Z"
   },
   {
    "duration": 48,
    "start_time": "2023-06-01T14:50:04.282Z"
   },
   {
    "duration": 28,
    "start_time": "2023-06-01T14:50:04.332Z"
   },
   {
    "duration": 11,
    "start_time": "2023-06-01T14:50:04.362Z"
   },
   {
    "duration": 14,
    "start_time": "2023-06-01T14:50:04.374Z"
   },
   {
    "duration": 9,
    "start_time": "2023-06-01T14:50:04.390Z"
   },
   {
    "duration": 57,
    "start_time": "2023-06-01T14:50:04.424Z"
   },
   {
    "duration": 22,
    "start_time": "2023-06-01T14:50:04.483Z"
   },
   {
    "duration": 239,
    "start_time": "2023-06-01T14:50:04.508Z"
   },
   {
    "duration": 39,
    "start_time": "2023-06-01T14:50:04.749Z"
   },
   {
    "duration": 76,
    "start_time": "2023-06-01T14:50:04.790Z"
   },
   {
    "duration": 8,
    "start_time": "2023-06-01T14:50:04.869Z"
   },
   {
    "duration": 13,
    "start_time": "2023-06-01T14:50:04.879Z"
   },
   {
    "duration": 24,
    "start_time": "2023-06-01T14:50:04.895Z"
   },
   {
    "duration": 47,
    "start_time": "2023-06-01T14:50:04.925Z"
   },
   {
    "duration": 18,
    "start_time": "2023-06-01T14:50:04.974Z"
   },
   {
    "duration": 25,
    "start_time": "2023-06-01T14:50:04.995Z"
   },
   {
    "duration": 81,
    "start_time": "2023-06-01T14:50:05.022Z"
   },
   {
    "duration": 4,
    "start_time": "2023-06-01T14:50:05.105Z"
   },
   {
    "duration": 29,
    "start_time": "2023-06-01T14:50:05.111Z"
   },
   {
    "duration": 63,
    "start_time": "2023-06-01T14:50:05.143Z"
   },
   {
    "duration": 132,
    "start_time": "2023-06-01T14:50:05.208Z"
   },
   {
    "duration": 6,
    "start_time": "2023-06-01T14:50:05.342Z"
   },
   {
    "duration": 62,
    "start_time": "2023-06-01T14:50:05.350Z"
   },
   {
    "duration": 38,
    "start_time": "2023-06-01T14:50:05.414Z"
   },
   {
    "duration": 44,
    "start_time": "2023-06-01T14:50:05.456Z"
   },
   {
    "duration": 23,
    "start_time": "2023-06-01T14:50:05.503Z"
   },
   {
    "duration": 63,
    "start_time": "2023-06-01T14:51:26.501Z"
   },
   {
    "duration": 5,
    "start_time": "2023-06-01T14:51:27.462Z"
   },
   {
    "duration": 10,
    "start_time": "2023-06-01T14:51:27.905Z"
   },
   {
    "duration": 1151,
    "start_time": "2023-06-01T14:51:33.551Z"
   },
   {
    "duration": 180,
    "start_time": "2023-06-01T14:51:34.704Z"
   },
   {
    "duration": 43,
    "start_time": "2023-06-01T14:51:34.886Z"
   },
   {
    "duration": 46,
    "start_time": "2023-06-01T14:51:34.931Z"
   },
   {
    "duration": 5,
    "start_time": "2023-06-01T14:51:34.980Z"
   },
   {
    "duration": 39,
    "start_time": "2023-06-01T14:51:34.986Z"
   },
   {
    "duration": 7,
    "start_time": "2023-06-01T14:51:35.028Z"
   },
   {
    "duration": 48,
    "start_time": "2023-06-01T14:51:35.037Z"
   },
   {
    "duration": 81,
    "start_time": "2023-06-01T14:51:35.087Z"
   },
   {
    "duration": 88,
    "start_time": "2023-06-01T14:51:35.170Z"
   },
   {
    "duration": 98,
    "start_time": "2023-06-01T14:51:35.261Z"
   },
   {
    "duration": 104,
    "start_time": "2023-06-01T14:51:35.362Z"
   },
   {
    "duration": 120,
    "start_time": "2023-06-01T14:51:35.468Z"
   },
   {
    "duration": 46,
    "start_time": "2023-06-01T14:51:35.593Z"
   },
   {
    "duration": 148,
    "start_time": "2023-06-01T14:51:35.641Z"
   },
   {
    "duration": 13,
    "start_time": "2023-06-01T14:51:35.792Z"
   },
   {
    "duration": 39,
    "start_time": "2023-06-01T14:51:35.808Z"
   },
   {
    "duration": 51,
    "start_time": "2023-06-01T14:51:35.850Z"
   },
   {
    "duration": 5,
    "start_time": "2023-06-01T14:51:35.903Z"
   },
   {
    "duration": 21,
    "start_time": "2023-06-01T14:51:35.911Z"
   },
   {
    "duration": 17,
    "start_time": "2023-06-01T14:51:35.934Z"
   },
   {
    "duration": 58,
    "start_time": "2023-06-01T14:51:35.953Z"
   },
   {
    "duration": 17,
    "start_time": "2023-06-01T14:51:36.013Z"
   },
   {
    "duration": 362,
    "start_time": "2023-06-01T14:51:36.032Z"
   },
   {
    "duration": 35,
    "start_time": "2023-06-01T14:51:36.396Z"
   },
   {
    "duration": 68,
    "start_time": "2023-06-01T14:51:36.433Z"
   },
   {
    "duration": 7,
    "start_time": "2023-06-01T14:51:36.503Z"
   },
   {
    "duration": 8,
    "start_time": "2023-06-01T14:51:36.512Z"
   },
   {
    "duration": 17,
    "start_time": "2023-06-01T14:51:36.522Z"
   },
   {
    "duration": 6,
    "start_time": "2023-06-01T14:51:36.540Z"
   },
   {
    "duration": 7,
    "start_time": "2023-06-01T14:51:36.548Z"
   },
   {
    "duration": 25,
    "start_time": "2023-06-01T14:51:36.556Z"
   },
   {
    "duration": 116,
    "start_time": "2023-06-01T14:51:36.583Z"
   },
   {
    "duration": 4,
    "start_time": "2023-06-01T14:51:36.701Z"
   },
   {
    "duration": 25,
    "start_time": "2023-06-01T14:51:36.707Z"
   },
   {
    "duration": 42,
    "start_time": "2023-06-01T14:51:36.734Z"
   },
   {
    "duration": 199,
    "start_time": "2023-06-01T14:51:36.778Z"
   },
   {
    "duration": 5,
    "start_time": "2023-06-01T14:51:36.979Z"
   },
   {
    "duration": 53,
    "start_time": "2023-06-01T14:51:36.985Z"
   },
   {
    "duration": 13,
    "start_time": "2023-06-01T14:51:37.039Z"
   },
   {
    "duration": 14,
    "start_time": "2023-06-01T14:51:37.056Z"
   },
   {
    "duration": 16,
    "start_time": "2023-06-01T14:51:37.072Z"
   },
   {
    "duration": 1291,
    "start_time": "2023-06-01T14:52:39.190Z"
   },
   {
    "duration": 178,
    "start_time": "2023-06-01T14:52:40.483Z"
   },
   {
    "duration": 27,
    "start_time": "2023-06-01T14:52:40.663Z"
   },
   {
    "duration": 51,
    "start_time": "2023-06-01T14:52:40.692Z"
   },
   {
    "duration": 4,
    "start_time": "2023-06-01T14:52:40.746Z"
   },
   {
    "duration": 13,
    "start_time": "2023-06-01T14:52:40.752Z"
   },
   {
    "duration": 8,
    "start_time": "2023-06-01T14:52:40.768Z"
   },
   {
    "duration": 54,
    "start_time": "2023-06-01T14:52:40.778Z"
   },
   {
    "duration": 76,
    "start_time": "2023-06-01T14:52:40.834Z"
   },
   {
    "duration": 72,
    "start_time": "2023-06-01T14:52:40.912Z"
   },
   {
    "duration": 76,
    "start_time": "2023-06-01T14:52:40.986Z"
   },
   {
    "duration": 96,
    "start_time": "2023-06-01T14:52:41.065Z"
   },
   {
    "duration": 104,
    "start_time": "2023-06-01T14:52:41.163Z"
   },
   {
    "duration": 22,
    "start_time": "2023-06-01T14:52:41.270Z"
   },
   {
    "duration": 90,
    "start_time": "2023-06-01T14:52:41.294Z"
   },
   {
    "duration": 9,
    "start_time": "2023-06-01T14:52:41.386Z"
   },
   {
    "duration": 44,
    "start_time": "2023-06-01T14:52:41.397Z"
   },
   {
    "duration": 23,
    "start_time": "2023-06-01T14:52:41.443Z"
   },
   {
    "duration": 5,
    "start_time": "2023-06-01T14:52:41.468Z"
   },
   {
    "duration": 13,
    "start_time": "2023-06-01T14:52:41.474Z"
   },
   {
    "duration": 5,
    "start_time": "2023-06-01T14:52:41.489Z"
   },
   {
    "duration": 36,
    "start_time": "2023-06-01T14:52:41.526Z"
   },
   {
    "duration": 16,
    "start_time": "2023-06-01T14:52:41.564Z"
   },
   {
    "duration": 305,
    "start_time": "2023-06-01T14:52:41.582Z"
   },
   {
    "duration": 37,
    "start_time": "2023-06-01T14:52:41.890Z"
   },
   {
    "duration": 46,
    "start_time": "2023-06-01T14:52:41.929Z"
   },
   {
    "duration": 9,
    "start_time": "2023-06-01T14:52:41.977Z"
   },
   {
    "duration": 12,
    "start_time": "2023-06-01T14:52:41.988Z"
   },
   {
    "duration": 12,
    "start_time": "2023-06-01T14:52:42.002Z"
   },
   {
    "duration": 34,
    "start_time": "2023-06-01T14:52:42.015Z"
   },
   {
    "duration": 25,
    "start_time": "2023-06-01T14:52:42.051Z"
   },
   {
    "duration": 75,
    "start_time": "2023-06-01T14:52:42.077Z"
   },
   {
    "duration": 97,
    "start_time": "2023-06-01T14:52:42.154Z"
   },
   {
    "duration": 4,
    "start_time": "2023-06-01T14:52:42.253Z"
   },
   {
    "duration": 33,
    "start_time": "2023-06-01T14:52:42.259Z"
   },
   {
    "duration": 34,
    "start_time": "2023-06-01T14:52:42.294Z"
   },
   {
    "duration": 137,
    "start_time": "2023-06-01T14:52:42.330Z"
   },
   {
    "duration": 5,
    "start_time": "2023-06-01T14:52:42.469Z"
   },
   {
    "duration": 24,
    "start_time": "2023-06-01T14:52:42.476Z"
   },
   {
    "duration": 35,
    "start_time": "2023-06-01T14:52:42.501Z"
   },
   {
    "duration": 14,
    "start_time": "2023-06-01T14:52:42.540Z"
   },
   {
    "duration": 16,
    "start_time": "2023-06-01T14:52:42.556Z"
   },
   {
    "duration": 1281,
    "start_time": "2023-06-02T05:36:00.358Z"
   },
   {
    "duration": 730,
    "start_time": "2023-06-02T05:36:01.641Z"
   },
   {
    "duration": 27,
    "start_time": "2023-06-02T05:36:02.373Z"
   },
   {
    "duration": 55,
    "start_time": "2023-06-02T05:36:02.402Z"
   },
   {
    "duration": 3,
    "start_time": "2023-06-02T05:36:02.459Z"
   },
   {
    "duration": 8,
    "start_time": "2023-06-02T05:36:02.464Z"
   },
   {
    "duration": 44,
    "start_time": "2023-06-02T05:36:02.473Z"
   },
   {
    "duration": 18,
    "start_time": "2023-06-02T05:36:02.519Z"
   },
   {
    "duration": 76,
    "start_time": "2023-06-02T05:36:02.538Z"
   },
   {
    "duration": 63,
    "start_time": "2023-06-02T05:36:02.616Z"
   },
   {
    "duration": 70,
    "start_time": "2023-06-02T05:36:02.680Z"
   },
   {
    "duration": 126,
    "start_time": "2023-06-02T05:36:02.752Z"
   },
   {
    "duration": 72,
    "start_time": "2023-06-02T05:36:02.880Z"
   },
   {
    "duration": 18,
    "start_time": "2023-06-02T05:36:02.955Z"
   },
   {
    "duration": 77,
    "start_time": "2023-06-02T05:36:02.975Z"
   },
   {
    "duration": 9,
    "start_time": "2023-06-02T05:36:03.053Z"
   },
   {
    "duration": 44,
    "start_time": "2023-06-02T05:36:03.063Z"
   },
   {
    "duration": 29,
    "start_time": "2023-06-02T05:36:03.108Z"
   },
   {
    "duration": 3,
    "start_time": "2023-06-02T05:36:03.139Z"
   },
   {
    "duration": 6,
    "start_time": "2023-06-02T05:36:03.144Z"
   },
   {
    "duration": 10,
    "start_time": "2023-06-02T05:36:03.152Z"
   },
   {
    "duration": 56,
    "start_time": "2023-06-02T05:36:03.164Z"
   },
   {
    "duration": 8,
    "start_time": "2023-06-02T05:36:03.221Z"
   },
   {
    "duration": 284,
    "start_time": "2023-06-02T05:36:03.231Z"
   },
   {
    "duration": 26,
    "start_time": "2023-06-02T05:36:03.517Z"
   },
   {
    "duration": 47,
    "start_time": "2023-06-02T05:36:03.545Z"
   },
   {
    "duration": 9,
    "start_time": "2023-06-02T05:36:03.594Z"
   },
   {
    "duration": 22,
    "start_time": "2023-06-02T05:36:03.605Z"
   },
   {
    "duration": 4,
    "start_time": "2023-06-02T05:36:03.629Z"
   },
   {
    "duration": 7,
    "start_time": "2023-06-02T05:36:03.635Z"
   },
   {
    "duration": 8,
    "start_time": "2023-06-02T05:36:03.643Z"
   },
   {
    "duration": 34,
    "start_time": "2023-06-02T05:36:03.653Z"
   },
   {
    "duration": 122,
    "start_time": "2023-06-02T05:36:03.688Z"
   },
   {
    "duration": 4,
    "start_time": "2023-06-02T05:36:03.813Z"
   },
   {
    "duration": 15,
    "start_time": "2023-06-02T05:36:03.819Z"
   },
   {
    "duration": 41,
    "start_time": "2023-06-02T05:36:03.836Z"
   },
   {
    "duration": 141,
    "start_time": "2023-06-02T05:36:03.879Z"
   },
   {
    "duration": 5,
    "start_time": "2023-06-02T05:36:04.022Z"
   },
   {
    "duration": 21,
    "start_time": "2023-06-02T05:36:04.029Z"
   },
   {
    "duration": 9,
    "start_time": "2023-06-02T05:36:04.052Z"
   },
   {
    "duration": 31,
    "start_time": "2023-06-02T05:36:04.064Z"
   },
   {
    "duration": 10,
    "start_time": "2023-06-02T05:36:04.096Z"
   },
   {
    "duration": 140,
    "start_time": "2023-06-02T10:29:35.912Z"
   },
   {
    "duration": 65,
    "start_time": "2023-06-02T10:30:47.517Z"
   },
   {
    "duration": 1366,
    "start_time": "2023-06-02T10:30:56.015Z"
   },
   {
    "duration": 918,
    "start_time": "2023-06-02T10:30:57.387Z"
   },
   {
    "duration": 30,
    "start_time": "2023-06-02T10:30:58.307Z"
   },
   {
    "duration": 41,
    "start_time": "2023-06-02T10:30:58.339Z"
   },
   {
    "duration": 6,
    "start_time": "2023-06-02T10:30:58.382Z"
   },
   {
    "duration": 16,
    "start_time": "2023-06-02T10:30:58.390Z"
   },
   {
    "duration": 20,
    "start_time": "2023-06-02T10:30:58.408Z"
   },
   {
    "duration": 43,
    "start_time": "2023-06-02T10:30:58.433Z"
   },
   {
    "duration": 71,
    "start_time": "2023-06-02T10:30:58.478Z"
   },
   {
    "duration": 84,
    "start_time": "2023-06-02T10:30:58.558Z"
   },
   {
    "duration": 73,
    "start_time": "2023-06-02T10:30:58.646Z"
   },
   {
    "duration": 90,
    "start_time": "2023-06-02T10:30:58.721Z"
   },
   {
    "duration": 100,
    "start_time": "2023-06-02T10:30:58.813Z"
   },
   {
    "duration": 31,
    "start_time": "2023-06-02T10:30:58.916Z"
   },
   {
    "duration": 135,
    "start_time": "2023-06-02T10:30:58.952Z"
   },
   {
    "duration": 10,
    "start_time": "2023-06-02T10:30:59.090Z"
   },
   {
    "duration": 57,
    "start_time": "2023-06-02T10:30:59.102Z"
   },
   {
    "duration": 34,
    "start_time": "2023-06-02T10:30:59.163Z"
   },
   {
    "duration": 46,
    "start_time": "2023-06-02T10:30:59.207Z"
   },
   {
    "duration": 5,
    "start_time": "2023-06-02T10:30:59.256Z"
   },
   {
    "duration": 17,
    "start_time": "2023-06-02T10:30:59.263Z"
   },
   {
    "duration": 8,
    "start_time": "2023-06-02T10:30:59.283Z"
   },
   {
    "duration": 66,
    "start_time": "2023-06-02T10:30:59.293Z"
   },
   {
    "duration": 9,
    "start_time": "2023-06-02T10:30:59.361Z"
   },
   {
    "duration": 356,
    "start_time": "2023-06-02T10:30:59.373Z"
   },
   {
    "duration": 52,
    "start_time": "2023-06-02T10:30:59.734Z"
   },
   {
    "duration": 48,
    "start_time": "2023-06-02T10:30:59.790Z"
   },
   {
    "duration": 14,
    "start_time": "2023-06-02T10:30:59.848Z"
   },
   {
    "duration": 37,
    "start_time": "2023-06-02T10:30:59.865Z"
   },
   {
    "duration": 30,
    "start_time": "2023-06-02T10:30:59.905Z"
   },
   {
    "duration": 16,
    "start_time": "2023-06-02T10:30:59.945Z"
   },
   {
    "duration": 34,
    "start_time": "2023-06-02T10:30:59.965Z"
   },
   {
    "duration": 61,
    "start_time": "2023-06-02T10:31:00.002Z"
   },
   {
    "duration": 165,
    "start_time": "2023-06-02T10:31:00.065Z"
   },
   {
    "duration": 9,
    "start_time": "2023-06-02T10:31:00.232Z"
   },
   {
    "duration": 37,
    "start_time": "2023-06-02T10:31:00.244Z"
   },
   {
    "duration": 73,
    "start_time": "2023-06-02T10:31:00.284Z"
   },
   {
    "duration": 215,
    "start_time": "2023-06-02T10:31:00.359Z"
   },
   {
    "duration": 7,
    "start_time": "2023-06-02T10:31:00.579Z"
   },
   {
    "duration": 27,
    "start_time": "2023-06-02T10:31:00.588Z"
   },
   {
    "duration": 32,
    "start_time": "2023-06-02T10:31:00.625Z"
   },
   {
    "duration": 22,
    "start_time": "2023-06-02T10:31:00.664Z"
   },
   {
    "duration": 43,
    "start_time": "2023-06-02T10:31:00.690Z"
   },
   {
    "duration": 37,
    "start_time": "2023-06-02T10:31:07.087Z"
   },
   {
    "duration": 48,
    "start_time": "2023-06-02T10:31:20.653Z"
   },
   {
    "duration": 81,
    "start_time": "2023-06-02T10:36:29.103Z"
   },
   {
    "duration": 5,
    "start_time": "2023-06-02T10:36:35.967Z"
   },
   {
    "duration": 13,
    "start_time": "2023-06-02T10:37:23.921Z"
   },
   {
    "duration": 146,
    "start_time": "2023-06-02T10:38:03.654Z"
   },
   {
    "duration": 126,
    "start_time": "2023-06-02T10:59:19.485Z"
   },
   {
    "duration": 3,
    "start_time": "2023-06-02T11:42:02.395Z"
   },
   {
    "duration": 5,
    "start_time": "2023-06-02T11:42:06.403Z"
   },
   {
    "duration": 4,
    "start_time": "2023-06-02T11:42:09.038Z"
   },
   {
    "duration": 4,
    "start_time": "2023-06-02T11:47:29.189Z"
   },
   {
    "duration": 465,
    "start_time": "2023-06-02T11:47:29.195Z"
   },
   {
    "duration": 25,
    "start_time": "2023-06-02T11:47:29.662Z"
   },
   {
    "duration": 38,
    "start_time": "2023-06-02T11:47:29.690Z"
   },
   {
    "duration": 4,
    "start_time": "2023-06-02T11:47:29.731Z"
   },
   {
    "duration": 12,
    "start_time": "2023-06-02T11:47:29.737Z"
   },
   {
    "duration": 13,
    "start_time": "2023-06-02T11:47:29.751Z"
   },
   {
    "duration": 25,
    "start_time": "2023-06-02T11:47:29.765Z"
   },
   {
    "duration": 48,
    "start_time": "2023-06-02T11:47:29.793Z"
   },
   {
    "duration": 94,
    "start_time": "2023-06-02T11:47:29.846Z"
   },
   {
    "duration": 53,
    "start_time": "2023-06-02T11:47:29.941Z"
   },
   {
    "duration": 74,
    "start_time": "2023-06-02T11:47:29.995Z"
   },
   {
    "duration": 71,
    "start_time": "2023-06-02T11:47:30.071Z"
   },
   {
    "duration": 19,
    "start_time": "2023-06-02T11:47:30.144Z"
   },
   {
    "duration": 95,
    "start_time": "2023-06-02T11:47:30.165Z"
   },
   {
    "duration": 9,
    "start_time": "2023-06-02T11:47:30.262Z"
   },
   {
    "duration": 42,
    "start_time": "2023-06-02T11:47:30.273Z"
   },
   {
    "duration": 20,
    "start_time": "2023-06-02T11:47:30.317Z"
   },
   {
    "duration": 37,
    "start_time": "2023-06-02T11:47:30.339Z"
   },
   {
    "duration": 12,
    "start_time": "2023-06-02T11:47:30.377Z"
   },
   {
    "duration": 43,
    "start_time": "2023-06-02T11:47:30.391Z"
   },
   {
    "duration": 23,
    "start_time": "2023-06-02T11:47:30.436Z"
   },
   {
    "duration": 66,
    "start_time": "2023-06-02T11:47:30.460Z"
   },
   {
    "duration": 47,
    "start_time": "2023-06-02T11:47:30.528Z"
   },
   {
    "duration": 220,
    "start_time": "2023-06-02T11:47:30.576Z"
   },
   {
    "duration": 31,
    "start_time": "2023-06-02T11:47:30.798Z"
   },
   {
    "duration": 190,
    "start_time": "2023-06-02T11:47:30.830Z"
   },
   {
    "duration": 11,
    "start_time": "2023-06-02T11:47:31.024Z"
   },
   {
    "duration": 44,
    "start_time": "2023-06-02T11:47:31.037Z"
   },
   {
    "duration": 53,
    "start_time": "2023-06-02T11:47:31.083Z"
   },
   {
    "duration": 54,
    "start_time": "2023-06-02T11:47:31.137Z"
   },
   {
    "duration": 48,
    "start_time": "2023-06-02T11:47:31.193Z"
   },
   {
    "duration": 27,
    "start_time": "2023-06-02T11:47:31.243Z"
   },
   {
    "duration": 87,
    "start_time": "2023-06-02T11:47:31.272Z"
   },
   {
    "duration": 4,
    "start_time": "2023-06-02T11:47:31.361Z"
   },
   {
    "duration": 40,
    "start_time": "2023-06-02T11:47:31.366Z"
   },
   {
    "duration": 29,
    "start_time": "2023-06-02T11:47:31.407Z"
   },
   {
    "duration": 79,
    "start_time": "2023-06-02T11:47:31.437Z"
   },
   {
    "duration": 149,
    "start_time": "2023-06-02T11:47:31.518Z"
   },
   {
    "duration": 6,
    "start_time": "2023-06-02T11:47:31.669Z"
   },
   {
    "duration": 57,
    "start_time": "2023-06-02T11:47:31.676Z"
   },
   {
    "duration": 75,
    "start_time": "2023-06-02T11:47:31.734Z"
   },
   {
    "duration": 41,
    "start_time": "2023-06-02T11:47:31.812Z"
   },
   {
    "duration": 63,
    "start_time": "2023-06-02T11:47:31.855Z"
   },
   {
    "duration": 27,
    "start_time": "2023-06-02T11:47:31.920Z"
   },
   {
    "duration": 4,
    "start_time": "2023-06-02T12:01:55.104Z"
   },
   {
    "duration": 4,
    "start_time": "2023-06-02T12:03:27.170Z"
   },
   {
    "duration": 1135,
    "start_time": "2023-06-02T12:05:37.368Z"
   },
   {
    "duration": 781,
    "start_time": "2023-06-02T12:05:38.505Z"
   },
   {
    "duration": 26,
    "start_time": "2023-06-02T12:05:39.287Z"
   },
   {
    "duration": 41,
    "start_time": "2023-06-02T12:05:39.317Z"
   },
   {
    "duration": 3,
    "start_time": "2023-06-02T12:05:39.360Z"
   },
   {
    "duration": 17,
    "start_time": "2023-06-02T12:05:39.365Z"
   },
   {
    "duration": 28,
    "start_time": "2023-06-02T12:05:39.383Z"
   },
   {
    "duration": 55,
    "start_time": "2023-06-02T12:05:39.413Z"
   },
   {
    "duration": 88,
    "start_time": "2023-06-02T12:05:39.469Z"
   },
   {
    "duration": 83,
    "start_time": "2023-06-02T12:05:39.559Z"
   },
   {
    "duration": 72,
    "start_time": "2023-06-02T12:05:39.645Z"
   },
   {
    "duration": 83,
    "start_time": "2023-06-02T12:05:39.719Z"
   },
   {
    "duration": 82,
    "start_time": "2023-06-02T12:05:39.804Z"
   },
   {
    "duration": 42,
    "start_time": "2023-06-02T12:05:39.888Z"
   },
   {
    "duration": 80,
    "start_time": "2023-06-02T12:05:39.933Z"
   },
   {
    "duration": 18,
    "start_time": "2023-06-02T12:05:40.015Z"
   },
   {
    "duration": 51,
    "start_time": "2023-06-02T12:05:40.035Z"
   },
   {
    "duration": 16,
    "start_time": "2023-06-02T12:05:40.088Z"
   },
   {
    "duration": 41,
    "start_time": "2023-06-02T12:05:40.106Z"
   },
   {
    "duration": 9,
    "start_time": "2023-06-02T12:05:40.148Z"
   },
   {
    "duration": 22,
    "start_time": "2023-06-02T12:05:40.158Z"
   },
   {
    "duration": 18,
    "start_time": "2023-06-02T12:05:40.182Z"
   },
   {
    "duration": 63,
    "start_time": "2023-06-02T12:05:40.202Z"
   },
   {
    "duration": 10,
    "start_time": "2023-06-02T12:05:40.267Z"
   },
   {
    "duration": 319,
    "start_time": "2023-06-02T12:05:40.279Z"
   },
   {
    "duration": 47,
    "start_time": "2023-06-02T12:05:40.599Z"
   },
   {
    "duration": 49,
    "start_time": "2023-06-02T12:05:40.647Z"
   },
   {
    "duration": 7,
    "start_time": "2023-06-02T12:05:40.700Z"
   },
   {
    "duration": 20,
    "start_time": "2023-06-02T12:05:40.709Z"
   },
   {
    "duration": 4,
    "start_time": "2023-06-02T12:05:40.738Z"
   },
   {
    "duration": 9,
    "start_time": "2023-06-02T12:05:40.743Z"
   },
   {
    "duration": 21,
    "start_time": "2023-06-02T12:05:40.754Z"
   },
   {
    "duration": 24,
    "start_time": "2023-06-02T12:05:40.776Z"
   },
   {
    "duration": 22,
    "start_time": "2023-06-02T12:05:40.802Z"
   },
   {
    "duration": 26,
    "start_time": "2023-06-02T12:05:40.836Z"
   },
   {
    "duration": 78,
    "start_time": "2023-06-02T12:05:40.863Z"
   },
   {
    "duration": 4,
    "start_time": "2023-06-02T12:05:40.942Z"
   },
   {
    "duration": 22,
    "start_time": "2023-06-02T12:05:40.947Z"
   },
   {
    "duration": 24,
    "start_time": "2023-06-02T12:05:40.970Z"
   },
   {
    "duration": 64,
    "start_time": "2023-06-02T12:05:40.995Z"
   },
   {
    "duration": 127,
    "start_time": "2023-06-02T12:05:41.061Z"
   },
   {
    "duration": 5,
    "start_time": "2023-06-02T12:05:41.189Z"
   },
   {
    "duration": 95,
    "start_time": "2023-06-02T12:05:41.195Z"
   },
   {
    "duration": 13,
    "start_time": "2023-06-02T12:05:41.292Z"
   },
   {
    "duration": 32,
    "start_time": "2023-06-02T12:05:41.307Z"
   },
   {
    "duration": 30,
    "start_time": "2023-06-02T12:05:41.341Z"
   },
   {
    "duration": 10,
    "start_time": "2023-06-02T12:05:41.372Z"
   },
   {
    "duration": 33,
    "start_time": "2023-06-02T12:16:47.123Z"
   },
   {
    "duration": 1086,
    "start_time": "2023-06-02T12:16:56.566Z"
   },
   {
    "duration": 164,
    "start_time": "2023-06-02T12:16:57.654Z"
   },
   {
    "duration": 31,
    "start_time": "2023-06-02T12:16:57.820Z"
   },
   {
    "duration": 33,
    "start_time": "2023-06-02T12:16:57.852Z"
   },
   {
    "duration": 4,
    "start_time": "2023-06-02T12:16:57.887Z"
   },
   {
    "duration": 19,
    "start_time": "2023-06-02T12:16:57.892Z"
   },
   {
    "duration": 29,
    "start_time": "2023-06-02T12:16:57.912Z"
   },
   {
    "duration": 19,
    "start_time": "2023-06-02T12:16:57.943Z"
   },
   {
    "duration": 54,
    "start_time": "2023-06-02T12:16:57.963Z"
   },
   {
    "duration": 74,
    "start_time": "2023-06-02T12:16:58.019Z"
   },
   {
    "duration": 62,
    "start_time": "2023-06-02T12:16:58.094Z"
   },
   {
    "duration": 83,
    "start_time": "2023-06-02T12:16:58.158Z"
   },
   {
    "duration": 58,
    "start_time": "2023-06-02T12:16:58.244Z"
   },
   {
    "duration": 34,
    "start_time": "2023-06-02T12:16:58.304Z"
   },
   {
    "duration": 72,
    "start_time": "2023-06-02T12:16:58.340Z"
   },
   {
    "duration": 23,
    "start_time": "2023-06-02T12:16:58.414Z"
   },
   {
    "duration": 35,
    "start_time": "2023-06-02T12:16:58.440Z"
   },
   {
    "duration": 16,
    "start_time": "2023-06-02T12:16:58.476Z"
   },
   {
    "duration": 20,
    "start_time": "2023-06-02T12:16:58.493Z"
   },
   {
    "duration": 16,
    "start_time": "2023-06-02T12:16:58.524Z"
   },
   {
    "duration": 10,
    "start_time": "2023-06-02T12:16:58.542Z"
   },
   {
    "duration": 6,
    "start_time": "2023-06-02T12:16:58.554Z"
   },
   {
    "duration": 41,
    "start_time": "2023-06-02T12:16:58.561Z"
   },
   {
    "duration": 14,
    "start_time": "2023-06-02T12:16:58.604Z"
   },
   {
    "duration": 302,
    "start_time": "2023-06-02T12:16:58.619Z"
   },
   {
    "duration": 35,
    "start_time": "2023-06-02T12:16:58.922Z"
   },
   {
    "duration": 50,
    "start_time": "2023-06-02T12:16:58.959Z"
   },
   {
    "duration": 16,
    "start_time": "2023-06-02T12:16:59.011Z"
   },
   {
    "duration": 6,
    "start_time": "2023-06-02T12:16:59.034Z"
   },
   {
    "duration": 5,
    "start_time": "2023-06-02T12:16:59.042Z"
   },
   {
    "duration": 6,
    "start_time": "2023-06-02T12:16:59.049Z"
   },
   {
    "duration": 5,
    "start_time": "2023-06-02T12:16:59.056Z"
   },
   {
    "duration": 4,
    "start_time": "2023-06-02T12:16:59.063Z"
   },
   {
    "duration": 34,
    "start_time": "2023-06-02T12:16:59.069Z"
   },
   {
    "duration": 20,
    "start_time": "2023-06-02T12:16:59.135Z"
   },
   {
    "duration": 55,
    "start_time": "2023-06-02T12:16:59.157Z"
   },
   {
    "duration": 3,
    "start_time": "2023-06-02T12:16:59.214Z"
   },
   {
    "duration": 9,
    "start_time": "2023-06-02T12:16:59.233Z"
   },
   {
    "duration": 5,
    "start_time": "2023-06-02T12:16:59.244Z"
   },
   {
    "duration": 29,
    "start_time": "2023-06-02T12:16:59.251Z"
   },
   {
    "duration": 130,
    "start_time": "2023-06-02T12:16:59.283Z"
   },
   {
    "duration": 5,
    "start_time": "2023-06-02T12:16:59.414Z"
   },
   {
    "duration": 20,
    "start_time": "2023-06-02T12:16:59.434Z"
   },
   {
    "duration": 11,
    "start_time": "2023-06-02T12:16:59.455Z"
   },
   {
    "duration": 15,
    "start_time": "2023-06-02T12:16:59.467Z"
   },
   {
    "duration": 12,
    "start_time": "2023-06-02T12:16:59.483Z"
   },
   {
    "duration": 5,
    "start_time": "2023-06-02T12:16:59.496Z"
   },
   {
    "duration": 1071,
    "start_time": "2023-06-03T06:45:14.054Z"
   },
   {
    "duration": 162,
    "start_time": "2023-06-03T06:45:15.128Z"
   },
   {
    "duration": 24,
    "start_time": "2023-06-03T06:45:15.298Z"
   },
   {
    "duration": 30,
    "start_time": "2023-06-03T06:45:15.324Z"
   },
   {
    "duration": 4,
    "start_time": "2023-06-03T06:45:15.356Z"
   },
   {
    "duration": 13,
    "start_time": "2023-06-03T06:45:15.363Z"
   },
   {
    "duration": 23,
    "start_time": "2023-06-03T06:45:15.390Z"
   },
   {
    "duration": 19,
    "start_time": "2023-06-03T06:45:15.414Z"
   },
   {
    "duration": 74,
    "start_time": "2023-06-03T06:45:15.434Z"
   },
   {
    "duration": 52,
    "start_time": "2023-06-03T06:45:15.510Z"
   },
   {
    "duration": 61,
    "start_time": "2023-06-03T06:45:15.564Z"
   },
   {
    "duration": 77,
    "start_time": "2023-06-03T06:45:15.627Z"
   },
   {
    "duration": 77,
    "start_time": "2023-06-03T06:45:15.706Z"
   },
   {
    "duration": 26,
    "start_time": "2023-06-03T06:45:15.789Z"
   },
   {
    "duration": 127,
    "start_time": "2023-06-03T06:45:15.817Z"
   },
   {
    "duration": 14,
    "start_time": "2023-06-03T06:45:15.946Z"
   },
   {
    "duration": 68,
    "start_time": "2023-06-03T06:45:15.962Z"
   },
   {
    "duration": 23,
    "start_time": "2023-06-03T06:45:16.032Z"
   },
   {
    "duration": 55,
    "start_time": "2023-06-03T06:45:16.057Z"
   },
   {
    "duration": 26,
    "start_time": "2023-06-03T06:45:16.113Z"
   },
   {
    "duration": 16,
    "start_time": "2023-06-03T06:45:16.141Z"
   },
   {
    "duration": 12,
    "start_time": "2023-06-03T06:45:16.159Z"
   },
   {
    "duration": 86,
    "start_time": "2023-06-03T06:45:16.173Z"
   },
   {
    "duration": 29,
    "start_time": "2023-06-03T06:45:16.260Z"
   },
   {
    "duration": 387,
    "start_time": "2023-06-03T06:45:16.290Z"
   },
   {
    "duration": 45,
    "start_time": "2023-06-03T06:45:16.684Z"
   },
   {
    "duration": 30,
    "start_time": "2023-06-03T06:45:16.730Z"
   },
   {
    "duration": 39,
    "start_time": "2023-06-03T06:45:16.762Z"
   },
   {
    "duration": 5,
    "start_time": "2023-06-03T06:45:16.803Z"
   },
   {
    "duration": 10,
    "start_time": "2023-06-03T06:45:16.810Z"
   },
   {
    "duration": 7,
    "start_time": "2023-06-03T06:45:16.821Z"
   },
   {
    "duration": 6,
    "start_time": "2023-06-03T06:45:16.829Z"
   },
   {
    "duration": 6,
    "start_time": "2023-06-03T06:45:16.836Z"
   },
   {
    "duration": 33,
    "start_time": "2023-06-03T06:45:16.843Z"
   },
   {
    "duration": 38,
    "start_time": "2023-06-03T06:45:16.884Z"
   },
   {
    "duration": 82,
    "start_time": "2023-06-03T06:45:16.924Z"
   },
   {
    "duration": 3,
    "start_time": "2023-06-03T06:45:17.007Z"
   },
   {
    "duration": 19,
    "start_time": "2023-06-03T06:45:17.012Z"
   },
   {
    "duration": 15,
    "start_time": "2023-06-03T06:45:17.032Z"
   },
   {
    "duration": 48,
    "start_time": "2023-06-03T06:45:17.049Z"
   },
   {
    "duration": 131,
    "start_time": "2023-06-03T06:45:17.101Z"
   },
   {
    "duration": 10,
    "start_time": "2023-06-03T06:45:17.233Z"
   },
   {
    "duration": 35,
    "start_time": "2023-06-03T06:45:17.245Z"
   },
   {
    "duration": 22,
    "start_time": "2023-06-03T06:45:17.282Z"
   },
   {
    "duration": 18,
    "start_time": "2023-06-03T06:45:17.307Z"
   },
   {
    "duration": 11,
    "start_time": "2023-06-03T06:45:17.327Z"
   },
   {
    "duration": 4,
    "start_time": "2023-06-03T06:45:17.339Z"
   }
  ],
  "kernelspec": {
   "display_name": "Python 3 (ipykernel)",
   "language": "python",
   "name": "python3"
  },
  "language_info": {
   "codemirror_mode": {
    "name": "ipython",
    "version": 3
   },
   "file_extension": ".py",
   "mimetype": "text/x-python",
   "name": "python",
   "nbconvert_exporter": "python",
   "pygments_lexer": "ipython3",
   "version": "3.9.5"
  },
  "toc": {
   "base_numbering": 1,
   "nav_menu": {},
   "number_sections": true,
   "sideBar": true,
   "skip_h1_title": true,
   "title_cell": "Table of Contents",
   "title_sidebar": "Contents",
   "toc_cell": false,
   "toc_position": {},
   "toc_section_display": true,
   "toc_window_display": false
  }
 },
 "nbformat": 4,
 "nbformat_minor": 2
}
